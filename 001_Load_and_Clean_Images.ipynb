{
 "cells": [
  {
   "cell_type": "markdown",
   "metadata": {},
   "source": [
    "# Load and Clean Images"
   ]
  },
  {
   "cell_type": "markdown",
   "metadata": {},
   "source": [
    "## Libraries to Import"
   ]
  },
  {
   "cell_type": "code",
   "execution_count": 1,
   "metadata": {},
   "outputs": [],
   "source": [
    "import os\n",
    "from os import path\n",
    "import shutil\n",
    "import numpy as np\n",
    "import pandas as pd\n",
    "import tensorflow as tf"
   ]
  },
  {
   "cell_type": "markdown",
   "metadata": {},
   "source": [
    "## Creating Train/Test/Val Splits"
   ]
  },
  {
   "cell_type": "markdown",
   "metadata": {},
   "source": [
    "Our testing set was not split into normal and cancer directories. Only a csv with labels and file names was provided. So, created lists for positive and negative class file names."
   ]
  },
  {
   "cell_type": "code",
   "execution_count": 2,
   "metadata": {},
   "outputs": [],
   "source": [
    "all_df_labels = pd.read_csv('/Users/arencarpenter/Desktop/testing/C-NMC_test_prelim_phase_data_labels.csv')"
   ]
  },
  {
   "cell_type": "code",
   "execution_count": 3,
   "metadata": {
    "scrolled": true
   },
   "outputs": [],
   "source": [
    "pos_images = all_df_labels[all_df_labels.labels == 1]\n",
    "pos_image_list = list(pos_images.new_names)"
   ]
  },
  {
   "cell_type": "code",
   "execution_count": 5,
   "metadata": {
    "scrolled": true
   },
   "outputs": [],
   "source": [
    "neg_images = all_df_labels[all_df_labels.labels == 0]\n",
    "neg_image_list = list(neg_images.new_names)"
   ]
  },
  {
   "cell_type": "markdown",
   "metadata": {},
   "source": [
    "Use Shutil to move positive files to correct directory."
   ]
  },
  {
   "cell_type": "code",
   "execution_count": 12,
   "metadata": {},
   "outputs": [],
   "source": [
    "src = \"/Users/arencarpenter/Desktop/testing/C-NMC_test_prelim_phase_data\"\n",
    "dst = \"/Users/arencarpenter/Desktop/testing/all\"\n",
    "\n",
    "files = [i for i in os.listdir(src) if i in pos_image_list and path.isfile(path.join(src, i))]\n",
    "for f in files:\n",
    "    shutil.move(path.join(src, f), dst)"
   ]
  },
  {
   "cell_type": "markdown",
   "metadata": {},
   "source": [
    "Use Shutil to move negative files to correct directory."
   ]
  },
  {
   "cell_type": "code",
   "execution_count": 13,
   "metadata": {},
   "outputs": [],
   "source": [
    "src = \"/Users/arencarpenter/Desktop/testing/C-NMC_test_prelim_phase_data\"\n",
    "dst = \"/Users/arencarpenter/Desktop/testing/normal\"\n",
    "\n",
    "files = [i for i in os.listdir(src) if i in neg_image_list and path.isfile(path.join(src, i))]\n",
    "for f in files:\n",
    "    shutil.move(path.join(src, f), dst)"
   ]
  },
  {
   "cell_type": "markdown",
   "metadata": {},
   "source": [
    "Data was split into subdirectories, so moved negative subdirectories into the superdirectory."
   ]
  },
  {
   "cell_type": "code",
   "execution_count": 19,
   "metadata": {},
   "outputs": [],
   "source": [
    "source = \"/Users/arencarpenter/Desktop/training/fold_2/hem/\"\n",
    "destination = \"/Users/arencarpenter/Desktop/training/normal/\"\n",
    "\n",
    "files = [i for i in os.listdir(source)]\n",
    "for f in files:\n",
    "    shutil.move(path.join(source, f), destination)"
   ]
  },
  {
   "cell_type": "markdown",
   "metadata": {},
   "source": [
    "Now we can work on creating our validation sets."
   ]
  },
  {
   "cell_type": "code",
   "execution_count": 33,
   "metadata": {},
   "outputs": [],
   "source": [
    "all_train_dir = '/Users/arencarpenter/Desktop/Detecting_ALL_with_CNN/Data/training/all/'\n",
    "normal_train_dir = '/Users/arencarpenter/Desktop/Detecting_ALL_with_CNN/Data/training/normal/'\n",
    "validation_dir = '/Users/arencarpenter/Desktop/Detecting_ALL_with_CNN/Data/validation/'"
   ]
  },
  {
   "cell_type": "markdown",
   "metadata": {},
   "source": [
    "See how many training images we have for each class so we can split into validation set."
   ]
  },
  {
   "cell_type": "code",
   "execution_count": 23,
   "metadata": {},
   "outputs": [],
   "source": [
    "all_train_imgs = [file for file in os.listdir(all_train_dir)]\n",
    "normal_train_imgs = [file for file in os.listdir(normal_train_dir)]"
   ]
  },
  {
   "cell_type": "code",
   "execution_count": 24,
   "metadata": {},
   "outputs": [
    {
     "name": "stdout",
     "output_type": "stream",
     "text": [
      "Number of ALL Train Images:  7273\n",
      "Number of Normal Train Images:  3389\n"
     ]
    }
   ],
   "source": [
    "print(\"Number of ALL Train Images: \", len(all_train_imgs))\n",
    "print(\"Number of Normal Train Images: \", len(normal_train_imgs))"
   ]
  },
  {
   "cell_type": "markdown",
   "metadata": {},
   "source": [
    "Make a new validation folder and subfolders for 'ALL' and 'normal'."
   ]
  },
  {
   "cell_type": "code",
   "execution_count": 32,
   "metadata": {},
   "outputs": [],
   "source": [
    "os.mkdir(validation_dir)"
   ]
  },
  {
   "cell_type": "code",
   "execution_count": 35,
   "metadata": {},
   "outputs": [],
   "source": [
    "all_val_dir = os.path.join(validation_dir, 'all')\n",
    "normal_val_dir = os.path.join(validation_dir, 'normal')"
   ]
  },
  {
   "cell_type": "code",
   "execution_count": 37,
   "metadata": {},
   "outputs": [],
   "source": [
    "os.mkdir(all_val_dir)\n",
    "os.mkdir(normal_val_dir)"
   ]
  },
  {
   "cell_type": "markdown",
   "metadata": {},
   "source": [
    "Put 25% of the training images for each class into the validation set for the respective class."
   ]
  },
  {
   "cell_type": "code",
   "execution_count": 39,
   "metadata": {},
   "outputs": [],
   "source": [
    "imgs = all_train_imgs[:1818]\n",
    "for img in imgs:\n",
    "    origin = os.path.join(all_train_dir, img)\n",
    "    destination = os.path.join(all_val_dir, img)\n",
    "    shutil.move(origin, destination)"
   ]
  },
  {
   "cell_type": "code",
   "execution_count": 42,
   "metadata": {},
   "outputs": [],
   "source": [
    "imgs = normal_train_imgs[:847]\n",
    "for img in imgs:\n",
    "    origin = os.path.join(normal_train_dir, img)\n",
    "    destination = os.path.join(normal_val_dir, img)\n",
    "    shutil.move(origin, destination)\n"
   ]
  },
  {
   "cell_type": "markdown",
   "metadata": {},
   "source": [
    "Here is the final count for each set (Train/Validation/Test) and each class (ALL and normal)."
   ]
  },
  {
   "cell_type": "code",
   "execution_count": 51,
   "metadata": {},
   "outputs": [
    {
     "name": "stdout",
     "output_type": "stream",
     "text": [
      "Train ALL 5455\n",
      "Train Normal 2542 \n",
      "\n",
      "Val ALL 1818\n",
      "Val Normal 847 \n",
      "\n",
      "Test ALL 1220\n",
      "Test Normal 648\n"
     ]
    }
   ],
   "source": [
    "print('Train ALL', len(os.listdir('/Users/arencarpenter/Desktop/Detecting_ALL_with_CNN/Data/training/all/')))\n",
    "print('Train Normal', len(os.listdir('/Users/arencarpenter/Desktop/Detecting_ALL_with_CNN/Data/training/normal/')), '\\n')\n",
    "\n",
    "print('Val ALL', len(os.listdir('/Users/arencarpenter/Desktop/Detecting_ALL_with_CNN/Data/validation/all/')))\n",
    "print('Val Normal', len(os.listdir('/Users/arencarpenter/Desktop/Detecting_ALL_with_CNN/Data/validation/normal/')), '\\n')\n",
    "\n",
    "print('Test ALL', len(os.listdir('/Users/arencarpenter/Desktop/Detecting_ALL_with_CNN/Data/testing/all/')))\n",
    "print('Test Normal', len(os.listdir('/Users/arencarpenter/Desktop/Detecting_ALL_with_CNN/Data/testing/normal/')))\n"
   ]
  }
 ],
 "metadata": {
  "kernelspec": {
   "display_name": "conda_python3",
   "language": "python",
   "name": "conda_python3"
  },
  "language_info": {
   "codemirror_mode": {
    "name": "ipython",
    "version": 3
   },
   "file_extension": ".py",
   "mimetype": "text/x-python",
   "name": "python",
   "nbconvert_exporter": "python",
   "pygments_lexer": "ipython3",
   "version": "3.6.10"
  }
 },
 "nbformat": 4,
 "nbformat_minor": 4
}
