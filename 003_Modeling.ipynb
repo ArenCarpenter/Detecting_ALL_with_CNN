{
 "cells": [
  {
   "cell_type": "markdown",
   "metadata": {},
   "source": [
    "## Sagemaker"
   ]
  },
  {
   "cell_type": "code",
   "execution_count": 2,
   "metadata": {},
   "outputs": [],
   "source": [
    "# !pip install tensorflow"
   ]
  },
  {
   "cell_type": "code",
   "execution_count": 3,
   "metadata": {},
   "outputs": [],
   "source": [
    "# !pip install keras"
   ]
  },
  {
   "cell_type": "code",
   "execution_count": 1,
   "metadata": {},
   "outputs": [
    {
     "name": "stdout",
     "output_type": "stream",
     "text": [
      "WARNING:tensorflow:From /home/ec2-user/anaconda3/envs/tensorflow_p27/lib/python2.7/site-packages/tensorflow_core/__init__.py:1473: The name tf.estimator.inputs is deprecated. Please use tf.compat.v1.estimator.inputs instead.\n",
      "\n"
     ]
    },
    {
     "name": "stderr",
     "output_type": "stream",
     "text": [
      "Using TensorFlow backend.\n"
     ]
    }
   ],
   "source": [
    "import numpy as np\n",
    "import pandas as pd\n",
    "import matplotlib.pyplot as plt\n",
    "%matplotlib inline\n",
    "\n",
    "from PIL import Image\n",
    "import tensorflow\n",
    "import keras\n",
    "from tensorflow.keras.preprocessing import image\n",
    "from tensorflow.keras import models, layers, optimizers\n",
    "from keras.layers import Dropout\n",
    "\n",
    "import os\n",
    "import gc\n",
    "from timeit import default_timer as timer"
   ]
  },
  {
   "cell_type": "code",
   "execution_count": 2,
   "metadata": {},
   "outputs": [
    {
     "name": "stderr",
     "output_type": "stream",
     "text": [
      "No handlers could be found for logger \"sagemaker\"\n"
     ]
    }
   ],
   "source": [
    "import os\n",
    "import sagemaker\n",
    "import numpy as np\n",
    "from sagemaker.tensorflow import TensorFlow\n",
    "from tensorflow.python.keras.preprocessing.image import load_img"
   ]
  },
  {
   "cell_type": "code",
   "execution_count": 85,
   "metadata": {},
   "outputs": [],
   "source": [
    "sagemaker_session = sagemaker.Session()"
   ]
  },
  {
   "cell_type": "code",
   "execution_count": 86,
   "metadata": {},
   "outputs": [],
   "source": [
    "role = sagemaker.get_execution_role()"
   ]
  },
  {
   "cell_type": "code",
   "execution_count": 87,
   "metadata": {},
   "outputs": [],
   "source": [
    "bucket = \"sagemaker-all-cnn\"\n",
    "key = \"Data\"\n",
    "key_output = \"output\"                   # Path from the bucket's root to the dataset\n",
    "train_instance_type='ml.m4.xlarge'      # The type of EC2 instance which will be used for training\n",
    "deploy_instance_type='ml.m4.xlarge'     # The type of EC2 instance which will be used for deployment\n",
    "hyperparameters={\n",
    "    \"learning_rate\": 0.001,\n",
    "    \"decay\": 0.0001\n",
    "}"
   ]
  },
  {
   "cell_type": "code",
   "execution_count": 88,
   "metadata": {},
   "outputs": [],
   "source": [
    "train_input_path = \"s3://{}/{}/training/\".format(bucket, key)\n",
    "validation_input_path = \"s3://{}/{}/validation/\".format(bucket, key)"
   ]
  },
  {
   "cell_type": "code",
   "execution_count": 89,
   "metadata": {},
   "outputs": [],
   "source": [
    "estimator = TensorFlow(\n",
    "  entry_point=os.path.join(os.path.dirname('__file__'), \"Model_Scripts/Model_3x1C1D_drop25.py\"),             # Your entry script\n",
    "  role=role,\n",
    "  framework_version=\"1.12.0\",               # TensorFlow's version\n",
    "  hyperparameters=hyperparameters,\n",
    "  training_steps=100,\n",
    "  evaluation_steps=30,\n",
    "  train_instance_count=1,                   # \"The number of GPUs instances to use\"\n",
    "  train_instance_type=train_instance_type,\n",
    ")"
   ]
  },
  {
   "cell_type": "code",
   "execution_count": 90,
   "metadata": {},
   "outputs": [
    {
     "name": "stdout",
     "output_type": "stream",
     "text": [
      "Training ...\n",
      "2020-09-21 20:42:13 Starting - Starting the training job...\n",
      "2020-09-21 20:42:16 Starting - Launching requested ML instances......\n",
      "2020-09-21 20:43:23 Starting - Preparing the instances for training...\n",
      "2020-09-21 20:44:12 Downloading - Downloading input data......\n",
      "2020-09-21 20:45:14 Training - Downloading the training image...\n",
      "2020-09-21 20:45:33 Training - Training image download completed. Training in progress.\u001b[34m2020-09-21 20:45:33,994 INFO - root - running container entrypoint\u001b[0m\n",
      "\u001b[34m2020-09-21 20:45:33,995 INFO - root - starting train task\u001b[0m\n",
      "\u001b[34m2020-09-21 20:45:34,010 INFO - container_support.training - Training starting\u001b[0m\n",
      "\u001b[34mDownloading s3://sagemaker-us-east-2-526614695497/sagemaker-tensorflow-2020-09-21-20-42-13-061/source/sourcedir.tar.gz to /tmp/script.tar.gz\u001b[0m\n",
      "\u001b[34m2020-09-21 20:45:37,146 INFO - tf_container - ----------------------TF_CONFIG--------------------------\u001b[0m\n",
      "\u001b[34m2020-09-21 20:45:37,146 INFO - tf_container - {\"environment\": \"cloud\", \"cluster\": {\"master\": [\"algo-1:2222\"]}, \"task\": {\"index\": 0, \"type\": \"master\"}}\u001b[0m\n",
      "\u001b[34m2020-09-21 20:45:37,146 INFO - tf_container - ---------------------------------------------------------\u001b[0m\n",
      "\u001b[34m2020-09-21 20:45:37,146 INFO - tf_container - creating RunConfig:\u001b[0m\n",
      "\u001b[34m2020-09-21 20:45:37,146 INFO - tf_container - {'save_checkpoints_secs': 300}\u001b[0m\n",
      "\u001b[34m2020-09-21 20:45:37,147 INFO - tensorflow - TF_CONFIG environment variable: {u'environment': u'cloud', u'cluster': {u'master': [u'algo-1:2222']}, u'task': {u'index': 0, u'type': u'master'}}\u001b[0m\n",
      "\u001b[34m2020-09-21 20:45:37,147 INFO - tf_container - invoking the user-provided keras_model_fn\u001b[0m\n",
      "\u001b[34m2020-09-21 20:45:37,384 INFO - tensorflow - Using the Keras model provided.\u001b[0m\n",
      "\u001b[34m2020-09-21 20:46:00,867 INFO - tensorflow - Using config: {'_save_checkpoints_secs': 300, '_keep_checkpoint_max': 5, '_task_type': u'master', '_cluster_spec': <tensorflow.python.training.server_lib.ClusterSpec object at 0x7f975ad87dd0>, '_keep_checkpoint_every_n_hours': 10000, '_service': None, '_num_ps_replicas': 0, '_tf_random_seed': None, '_device_fn': None, '_num_worker_replicas': 1, '_task_id': 0, '_log_step_count_steps': 100, '_evaluation_master': '', '_eval_distribute': None, '_train_distribute': None, '_session_config': device_filters: \"/job:ps\"\u001b[0m\n",
      "\u001b[34mdevice_filters: \"/job:master\"\u001b[0m\n",
      "\u001b[34mallow_soft_placement: true\u001b[0m\n",
      "\u001b[34mgraph_options {\n",
      "  rewrite_options {\n",
      "    meta_optimizer_iterations: ONE\n",
      "  }\u001b[0m\n",
      "\u001b[34m}\u001b[0m\n",
      "\u001b[34m, '_global_id_in_cluster': 0, '_is_chief': True, '_protocol': None, '_save_checkpoints_steps': None, '_experimental_distribute': None, '_save_summary_steps': 100, '_model_dir': u's3://sagemaker-us-east-2-526614695497/sagemaker-tensorflow-2020-09-21-20-42-13-061/checkpoints', '_master': ''}\u001b[0m\n",
      "\u001b[34m2020-09-21 20:46:00,889 INFO - tensorflow - Not using Distribute Coordinator.\u001b[0m\n",
      "\u001b[34m2020-09-21 20:46:00,890 INFO - tensorflow - Skip starting Tensorflow server as there is only one node in the cluster.\u001b[0m\n",
      "\u001b[34mFound 3798 images belonging to 2 classes.\u001b[0m\n",
      "\u001b[34m2020-09-21 20:46:01,619 INFO - tensorflow - Calling model_fn.\u001b[0m\n",
      "\u001b[34m2020-09-21 20:46:02,293 INFO - tensorflow - Done calling model_fn.\u001b[0m\n",
      "\u001b[34m2020-09-21 20:46:02,293 INFO - tensorflow - Warm-starting with WarmStartSettings: WarmStartSettings(ckpt_to_initialize_from=u's3://sagemaker-us-east-2-526614695497/sagemaker-tensorflow-2020-09-21-20-42-13-061/checkpoints/keras/keras_model.ckpt', vars_to_warm_start='.*', var_name_to_vocab_info={}, var_name_to_prev_var_name={})\u001b[0m\n",
      "\u001b[34m2020-09-21 20:46:02,293 INFO - tensorflow - Warm-starting from: (u's3://sagemaker-us-east-2-526614695497/sagemaker-tensorflow-2020-09-21-20-42-13-061/checkpoints/keras/keras_model.ckpt',)\u001b[0m\n",
      "\u001b[34m2020-09-21 20:46:02,293 INFO - tensorflow - Warm-starting variable: dense_1/bias; prev_var_name: Unchanged\u001b[0m\n",
      "\u001b[34m2020-09-21 20:46:02,479 INFO - tensorflow - Warm-starting variable: conv2d_1/bias; prev_var_name: Unchanged\u001b[0m\n",
      "\u001b[34m2020-09-21 20:46:02,663 INFO - tensorflow - Warm-starting variable: dense/kernel; prev_var_name: Unchanged\u001b[0m\n",
      "\u001b[34m2020-09-21 20:46:02,836 INFO - tensorflow - Warm-starting variable: dense/bias; prev_var_name: Unchanged\u001b[0m\n",
      "\u001b[34m2020-09-21 20:46:03,010 INFO - tensorflow - Warm-starting variable: inputs/bias; prev_var_name: Unchanged\u001b[0m\n",
      "\u001b[34m2020-09-21 20:46:03,200 INFO - tensorflow - Warm-starting variable: inputs/kernel; prev_var_name: Unchanged\u001b[0m\n",
      "\u001b[34m2020-09-21 20:46:03,408 INFO - tensorflow - Warm-starting variable: dense_1/kernel; prev_var_name: Unchanged\u001b[0m\n",
      "\u001b[34m2020-09-21 20:46:03,589 INFO - tensorflow - Warm-starting variable: conv2d/bias; prev_var_name: Unchanged\u001b[0m\n",
      "\u001b[34m2020-09-21 20:46:03,766 INFO - tensorflow - Warm-starting variable: conv2d_1/kernel; prev_var_name: Unchanged\u001b[0m\n",
      "\u001b[34m2020-09-21 20:46:03,981 INFO - tensorflow - Warm-starting variable: conv2d/kernel; prev_var_name: Unchanged\u001b[0m\n",
      "\u001b[34m2020-09-21 20:46:04,162 INFO - tensorflow - Create CheckpointSaverHook.\u001b[0m\n",
      "\u001b[34m2020-09-21 20:46:05,104 INFO - tensorflow - Graph was finalized.\u001b[0m\n",
      "\u001b[34m2020-09-21 20:46:11,884 INFO - tensorflow - Running local_init_op.\u001b[0m\n",
      "\u001b[34m2020-09-21 20:46:11,894 INFO - tensorflow - Done running local_init_op.\u001b[0m\n",
      "\u001b[34m2020-09-21 20:46:16,733 INFO - tensorflow - Saving checkpoints for 0 into s3://sagemaker-us-east-2-526614695497/sagemaker-tensorflow-2020-09-21-20-42-13-061/checkpoints/model.ckpt.\u001b[0m\n",
      "\u001b[34m2020-09-21 20:46:49,981 INFO - tensorflow - loss = 0.6941411, step = 1\u001b[0m\n",
      "\u001b[34m2020-09-21 20:51:46,526 INFO - tensorflow - Saving checkpoints for 74 into s3://sagemaker-us-east-2-526614695497/sagemaker-tensorflow-2020-09-21-20-42-13-061/checkpoints/model.ckpt.\u001b[0m\n",
      "\u001b[34mFound 3798 images belonging to 2 classes.\u001b[0m\n",
      "\u001b[34m2020-09-21 20:52:19,836 INFO - tensorflow - Calling model_fn.\u001b[0m\n",
      "\u001b[34m2020-09-21 20:52:20,049 INFO - tensorflow - Done calling model_fn.\u001b[0m\n",
      "\u001b[34m2020-09-21 20:52:20,071 INFO - tensorflow - Starting evaluation at 2020-09-21-20:52:20\u001b[0m\n",
      "\u001b[34m2020-09-21 20:52:20,164 INFO - tensorflow - Graph was finalized.\u001b[0m\n",
      "\u001b[34m2020-09-21 20:52:20,238 INFO - tensorflow - Restoring parameters from s3://sagemaker-us-east-2-526614695497/sagemaker-tensorflow-2020-09-21-20-42-13-061/checkpoints/model.ckpt-74\u001b[0m\n",
      "\u001b[34m2020-09-21 20:52:24,822 INFO - tensorflow - Running local_init_op.\u001b[0m\n",
      "\u001b[34m2020-09-21 20:52:24,833 INFO - tensorflow - Done running local_init_op.\u001b[0m\n",
      "\u001b[34m2020-09-21 20:52:29,001 INFO - tensorflow - Evaluation [3/30]\u001b[0m\n",
      "\u001b[34m2020-09-21 20:52:32,880 INFO - tensorflow - Evaluation [6/30]\u001b[0m\n",
      "\u001b[34m2020-09-21 20:52:36,765 INFO - tensorflow - Evaluation [9/30]\u001b[0m\n",
      "\u001b[34m2020-09-21 20:52:40,652 INFO - tensorflow - Evaluation [12/30]\u001b[0m\n",
      "\u001b[34m2020-09-21 20:52:44,551 INFO - tensorflow - Evaluation [15/30]\u001b[0m\n",
      "\u001b[34m2020-09-21 20:52:48,434 INFO - tensorflow - Evaluation [18/30]\u001b[0m\n",
      "\u001b[34m2020-09-21 20:52:52,314 INFO - tensorflow - Evaluation [21/30]\u001b[0m\n",
      "\u001b[34m2020-09-21 20:52:56,218 INFO - tensorflow - Evaluation [24/30]\u001b[0m\n",
      "\u001b[34m2020-09-21 20:53:00,116 INFO - tensorflow - Evaluation [27/30]\u001b[0m\n",
      "\u001b[34m2020-09-21 20:53:04,016 INFO - tensorflow - Evaluation [30/30]\u001b[0m\n",
      "\u001b[34m2020-09-21 20:53:04,040 INFO - tensorflow - Finished evaluation at 2020-09-21-20:53:04\u001b[0m\n",
      "\u001b[34m2020-09-21 20:53:04,040 INFO - tensorflow - Saving dict for global step 74: accuracy = 0.65625, global_step = 74, loss = 3.2823157\u001b[0m\n",
      "\u001b[34m2020-09-21 20:53:05,596 INFO - tensorflow - Saving 'checkpoint_path' summary for global step 74: s3://sagemaker-us-east-2-526614695497/sagemaker-tensorflow-2020-09-21-20-42-13-061/checkpoints/model.ckpt-74\u001b[0m\n",
      "\u001b[34m2020-09-21 20:53:07,637 INFO - tensorflow - Calling model_fn.\u001b[0m\n",
      "\u001b[34m2020-09-21 20:53:07,732 INFO - tensorflow - Done calling model_fn.\u001b[0m\n",
      "\u001b[34m2020-09-21 20:53:07,732 INFO - tensorflow - Signatures INCLUDED in export for Eval: None\u001b[0m\n",
      "\u001b[34m2020-09-21 20:53:07,732 INFO - tensorflow - Signatures INCLUDED in export for Classify: None\u001b[0m\n",
      "\u001b[34m2020-09-21 20:53:07,732 INFO - tensorflow - Signatures INCLUDED in export for Regress: None\u001b[0m\n",
      "\u001b[34m2020-09-21 20:53:07,732 INFO - tensorflow - Signatures INCLUDED in export for Predict: ['serving_default']\u001b[0m\n",
      "\u001b[34m2020-09-21 20:53:07,733 INFO - tensorflow - Signatures INCLUDED in export for Train: None\u001b[0m\n",
      "\u001b[34m2020-09-21 20:53:07,836 INFO - tensorflow - Restoring parameters from s3://sagemaker-us-east-2-526614695497/sagemaker-tensorflow-2020-09-21-20-42-13-061/checkpoints/model.ckpt-74\u001b[0m\n",
      "\u001b[34m2020-09-21 20:53:12,391 WARNING - tensorflow - From /usr/local/lib/python2.7/dist-packages/tensorflow/python/estimator/estimator.py:1046: calling add_meta_graph_and_variables (from tensorflow.python.saved_model.builder_impl) with legacy_init_op is deprecated and will be removed in a future version.\u001b[0m\n",
      "\u001b[34mInstructions for updating:\u001b[0m\n",
      "\u001b[34mPass your op to the equivalent parameter main_op instead.\u001b[0m\n",
      "\u001b[34m2020-09-21 20:53:12,391 INFO - tensorflow - Assets added to graph.\u001b[0m\n",
      "\u001b[34m2020-09-21 20:53:12,391 INFO - tensorflow - No assets to write.\u001b[0m\n",
      "\u001b[34m2020-09-21 20:53:22,915 INFO - tensorflow - SavedModel written to: s3://sagemaker-us-east-2-526614695497/sagemaker-tensorflow-2020-09-21-20-42-13-061/checkpoints/export/Servo/1600721586/saved_model.pb\u001b[0m\n",
      "\u001b[34m2020-09-21 20:55:11,147 INFO - tensorflow - Saving checkpoints for 100 into s3://sagemaker-us-east-2-526614695497/sagemaker-tensorflow-2020-09-21-20-42-13-061/checkpoints/model.ckpt.\u001b[0m\n",
      "\u001b[34m2020-09-21 20:55:41,877 INFO - tensorflow - Skip the current checkpoint eval due to throttle secs (600 secs).\u001b[0m\n",
      "\u001b[34mFound 3798 images belonging to 2 classes.\u001b[0m\n",
      "\u001b[34m2020-09-21 20:55:42,290 INFO - tensorflow - Calling model_fn.\u001b[0m\n",
      "\u001b[34m2020-09-21 20:55:42,500 INFO - tensorflow - Done calling model_fn.\u001b[0m\n",
      "\u001b[34m2020-09-21 20:55:42,521 INFO - tensorflow - Starting evaluation at 2020-09-21-20:55:42\u001b[0m\n",
      "\u001b[34m2020-09-21 20:55:42,637 INFO - tensorflow - Graph was finalized.\u001b[0m\n",
      "\u001b[34m2020-09-21 20:55:42,702 INFO - tensorflow - Restoring parameters from s3://sagemaker-us-east-2-526614695497/sagemaker-tensorflow-2020-09-21-20-42-13-061/checkpoints/model.ckpt-100\u001b[0m\n",
      "\u001b[34m2020-09-21 20:55:47,765 INFO - tensorflow - Running local_init_op.\u001b[0m\n",
      "\u001b[34m2020-09-21 20:55:47,776 INFO - tensorflow - Done running local_init_op.\u001b[0m\n",
      "\u001b[34m2020-09-21 20:55:50,469 INFO - tensorflow - Evaluation [3/30]\u001b[0m\n",
      "\u001b[34m2020-09-21 20:55:52,922 INFO - tensorflow - Evaluation [6/30]\u001b[0m\n",
      "\u001b[34m2020-09-21 20:55:55,364 INFO - tensorflow - Evaluation [9/30]\u001b[0m\n",
      "\u001b[34m2020-09-21 20:55:57,754 INFO - tensorflow - Evaluation [12/30]\u001b[0m\n",
      "\u001b[34m2020-09-21 20:56:00,203 INFO - tensorflow - Evaluation [15/30]\u001b[0m\n",
      "\u001b[34m2020-09-21 20:56:02,613 INFO - tensorflow - Evaluation [18/30]\u001b[0m\n",
      "\u001b[34m2020-09-21 20:56:05,061 INFO - tensorflow - Evaluation [21/30]\u001b[0m\n",
      "\u001b[34m2020-09-21 20:56:07,452 INFO - tensorflow - Evaluation [24/30]\u001b[0m\n",
      "\u001b[34m2020-09-21 20:56:09,922 INFO - tensorflow - Evaluation [27/30]\u001b[0m\n",
      "\u001b[34m2020-09-21 20:56:12,302 INFO - tensorflow - Evaluation [30/30]\u001b[0m\n",
      "\u001b[34m2020-09-21 20:56:12,326 INFO - tensorflow - Finished evaluation at 2020-09-21-20:56:12\u001b[0m\n",
      "\u001b[34m2020-09-21 20:56:12,326 INFO - tensorflow - Saving dict for global step 100: accuracy = 0.6875, global_step = 100, loss = 2.493983\u001b[0m\n",
      "\u001b[34m2020-09-21 20:56:12,996 INFO - tensorflow - Saving 'checkpoint_path' summary for global step 100: s3://sagemaker-us-east-2-526614695497/sagemaker-tensorflow-2020-09-21-20-42-13-061/checkpoints/model.ckpt-100\u001b[0m\n",
      "\u001b[34m2020-09-21 20:56:13,918 INFO - tensorflow - Calling model_fn.\u001b[0m\n",
      "\u001b[34m2020-09-21 20:56:14,113 INFO - tensorflow - Done calling model_fn.\u001b[0m\n",
      "\u001b[34m2020-09-21 20:56:14,113 INFO - tensorflow - Signatures INCLUDED in export for Eval: None\u001b[0m\n",
      "\u001b[34m2020-09-21 20:56:14,113 INFO - tensorflow - Signatures INCLUDED in export for Classify: None\u001b[0m\n",
      "\u001b[34m2020-09-21 20:56:14,113 INFO - tensorflow - Signatures INCLUDED in export for Regress: None\u001b[0m\n",
      "\u001b[34m2020-09-21 20:56:14,113 INFO - tensorflow - Signatures INCLUDED in export for Predict: ['serving_default']\u001b[0m\n",
      "\u001b[34m2020-09-21 20:56:14,113 INFO - tensorflow - Signatures INCLUDED in export for Train: None\u001b[0m\n",
      "\u001b[34m2020-09-21 20:56:14,219 INFO - tensorflow - Restoring parameters from s3://sagemaker-us-east-2-526614695497/sagemaker-tensorflow-2020-09-21-20-42-13-061/checkpoints/model.ckpt-100\u001b[0m\n",
      "\u001b[34m2020-09-21 20:56:19,089 INFO - tensorflow - Assets added to graph.\u001b[0m\n",
      "\u001b[34m2020-09-21 20:56:19,089 INFO - tensorflow - No assets to write.\u001b[0m\n",
      "\u001b[34m2020-09-21 20:56:28,827 INFO - tensorflow - SavedModel written to: s3://sagemaker-us-east-2-526614695497/sagemaker-tensorflow-2020-09-21-20-42-13-061/checkpoints/export/Servo/1600721773/saved_model.pb\u001b[0m\n",
      "\u001b[34m2020-09-21 20:56:28,904 INFO - tensorflow - Loss for final step: 1.1856899e-07.\u001b[0m\n",
      "\u001b[34m2020-09-21 20:56:32,986 INFO - tf_container - Downloaded saved model at /opt/ml/model/export/Servo/1600721773\u001b[0m\n",
      "\n",
      "2020-09-21 20:56:38 Uploading - Uploading generated training model\n",
      "2020-09-21 20:57:46 Completed - Training job completed\n",
      "Training seconds: 814\n",
      "Billable seconds: 814\n"
     ]
    }
   ],
   "source": [
    "print(\"Training ...\")\n",
    "estimator.fit({'training': train_input_path, 'eval': validation_input_path})"
   ]
  },
  {
   "cell_type": "code",
   "execution_count": null,
   "metadata": {},
   "outputs": [],
   "source": []
  }
 ],
 "metadata": {
  "kernelspec": {
   "display_name": "conda_tensorflow_p27",
   "language": "python",
   "name": "conda_tensorflow_p27"
  },
  "language_info": {
   "codemirror_mode": {
    "name": "ipython",
    "version": 2
   },
   "file_extension": ".py",
   "mimetype": "text/x-python",
   "name": "python",
   "nbconvert_exporter": "python",
   "pygments_lexer": "ipython2",
   "version": "2.7.17"
  }
 },
 "nbformat": 4,
 "nbformat_minor": 4
}
