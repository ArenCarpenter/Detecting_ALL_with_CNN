{
 "cells": [
  {
   "cell_type": "markdown",
   "metadata": {},
   "source": [
    "## Sagemaker"
   ]
  },
  {
   "cell_type": "code",
   "execution_count": 2,
   "metadata": {},
   "outputs": [],
   "source": [
    "# !pip install tensorflow"
   ]
  },
  {
   "cell_type": "code",
   "execution_count": 3,
   "metadata": {},
   "outputs": [],
   "source": [
    "# !pip install keras"
   ]
  },
  {
   "cell_type": "code",
   "execution_count": 1,
   "metadata": {},
   "outputs": [
    {
     "name": "stdout",
     "output_type": "stream",
     "text": [
      "WARNING:tensorflow:From /home/ec2-user/anaconda3/envs/tensorflow_p27/lib/python2.7/site-packages/tensorflow_core/__init__.py:1473: The name tf.estimator.inputs is deprecated. Please use tf.compat.v1.estimator.inputs instead.\n",
      "\n"
     ]
    },
    {
     "name": "stderr",
     "output_type": "stream",
     "text": [
      "Using TensorFlow backend.\n"
     ]
    }
   ],
   "source": [
    "import numpy as np\n",
    "import pandas as pd\n",
    "import matplotlib.pyplot as plt\n",
    "%matplotlib inline\n",
    "\n",
    "from PIL import Image\n",
    "import tensorflow\n",
    "import keras\n",
    "from tensorflow.keras.preprocessing import image\n",
    "from tensorflow.keras import models, layers, optimizers\n",
    "from keras.layers import Dropout\n",
    "\n",
    "import os\n",
    "import gc\n",
    "from timeit import default_timer as timer"
   ]
  },
  {
   "cell_type": "code",
   "execution_count": 2,
   "metadata": {},
   "outputs": [
    {
     "name": "stderr",
     "output_type": "stream",
     "text": [
      "No handlers could be found for logger \"sagemaker\"\n"
     ]
    }
   ],
   "source": [
    "import os\n",
    "import sagemaker\n",
    "import numpy as np\n",
    "from sagemaker.tensorflow import TensorFlow\n",
    "from tensorflow.python.keras.preprocessing.image import load_img"
   ]
  },
  {
   "cell_type": "code",
   "execution_count": 73,
   "metadata": {},
   "outputs": [],
   "source": [
    "sagemaker_session = sagemaker.Session()"
   ]
  },
  {
   "cell_type": "code",
   "execution_count": 74,
   "metadata": {},
   "outputs": [],
   "source": [
    "role = sagemaker.get_execution_role()"
   ]
  },
  {
   "cell_type": "code",
   "execution_count": 75,
   "metadata": {},
   "outputs": [],
   "source": [
    "bucket = \"sagemaker-all-cnn\"\n",
    "key = \"Data\"\n",
    "key_output = \"output\"                   # Path from the bucket's root to the dataset\n",
    "train_instance_type='ml.m4.xlarge'      # The type of EC2 instance which will be used for training\n",
    "deploy_instance_type='ml.m4.xlarge'     # The type of EC2 instance which will be used for deployment\n",
    "hyperparameters={\n",
    "    \"learning_rate\": 0.001,\n",
    "    \"decay\": 0.0001\n",
    "}"
   ]
  },
  {
   "cell_type": "code",
   "execution_count": 76,
   "metadata": {},
   "outputs": [],
   "source": [
    "train_input_path = \"s3://{}/{}/training/\".format(bucket, key)\n",
    "validation_input_path = \"s3://{}/{}/validation/\".format(bucket, key)"
   ]
  },
  {
   "cell_type": "code",
   "execution_count": 77,
   "metadata": {},
   "outputs": [],
   "source": [
    "estimator = TensorFlow(\n",
    "  entry_point=os.path.join(os.path.dirname('__file__'), \"Model_Scripts/Model_2x2x1C1D_drop25.py\"),             # Your entry script\n",
    "  role=role,\n",
    "  framework_version=\"1.12.0\",               # TensorFlow's version\n",
    "  hyperparameters=hyperparameters,\n",
    "  training_steps=100,\n",
    "  evaluation_steps=30,\n",
    "  train_instance_count=1,                   # \"The number of GPUs instances to use\"\n",
    "  train_instance_type=train_instance_type,\n",
    ")"
   ]
  },
  {
   "cell_type": "code",
   "execution_count": 78,
   "metadata": {},
   "outputs": [
    {
     "name": "stdout",
     "output_type": "stream",
     "text": [
      "Training ...\n",
      "2020-09-21 19:25:12 Starting - Starting the training job...\n",
      "2020-09-21 19:25:14 Starting - Launching requested ML instances......\n",
      "2020-09-21 19:26:20 Starting - Preparing the instances for training...\n",
      "2020-09-21 19:27:09 Downloading - Downloading input data......\n",
      "2020-09-21 19:28:12 Training - Downloading the training image...\n",
      "2020-09-21 19:28:32 Training - Training image download completed. Training in progress.\u001b[34m2020-09-21 19:28:32,822 INFO - root - running container entrypoint\u001b[0m\n",
      "\u001b[34m2020-09-21 19:28:32,822 INFO - root - starting train task\u001b[0m\n",
      "\u001b[34m2020-09-21 19:28:32,839 INFO - container_support.training - Training starting\u001b[0m\n",
      "\u001b[34mDownloading s3://sagemaker-us-east-2-526614695497/sagemaker-tensorflow-2020-09-21-19-25-11-785/source/sourcedir.tar.gz to /tmp/script.tar.gz\u001b[0m\n",
      "\u001b[34m2020-09-21 19:28:35,632 INFO - tf_container - ----------------------TF_CONFIG--------------------------\u001b[0m\n",
      "\u001b[34m2020-09-21 19:28:35,632 INFO - tf_container - {\"environment\": \"cloud\", \"cluster\": {\"master\": [\"algo-1:2222\"]}, \"task\": {\"index\": 0, \"type\": \"master\"}}\u001b[0m\n",
      "\u001b[34m2020-09-21 19:28:35,632 INFO - tf_container - ---------------------------------------------------------\u001b[0m\n",
      "\u001b[34m2020-09-21 19:28:35,632 INFO - tf_container - creating RunConfig:\u001b[0m\n",
      "\u001b[34m2020-09-21 19:28:35,632 INFO - tf_container - {'save_checkpoints_secs': 300}\u001b[0m\n",
      "\u001b[34m2020-09-21 19:28:35,632 INFO - tensorflow - TF_CONFIG environment variable: {u'environment': u'cloud', u'cluster': {u'master': [u'algo-1:2222']}, u'task': {u'index': 0, u'type': u'master'}}\u001b[0m\n",
      "\u001b[34m2020-09-21 19:28:35,633 INFO - tf_container - invoking the user-provided keras_model_fn\u001b[0m\n",
      "\u001b[34m2020-09-21 19:28:35,937 INFO - tensorflow - Using the Keras model provided.\u001b[0m\n",
      "\u001b[34m2020-09-21 19:28:57,997 INFO - tensorflow - Using config: {'_save_checkpoints_secs': 300, '_keep_checkpoint_max': 5, '_task_type': u'master', '_cluster_spec': <tensorflow.python.training.server_lib.ClusterSpec object at 0x7f067ffcfe50>, '_keep_checkpoint_every_n_hours': 10000, '_service': None, '_num_ps_replicas': 0, '_tf_random_seed': None, '_device_fn': None, '_num_worker_replicas': 1, '_task_id': 0, '_log_step_count_steps': 100, '_evaluation_master': '', '_eval_distribute': None, '_train_distribute': None, '_session_config': device_filters: \"/job:ps\"\u001b[0m\n",
      "\u001b[34mdevice_filters: \"/job:master\"\u001b[0m\n",
      "\u001b[34mallow_soft_placement: true\u001b[0m\n",
      "\u001b[34mgraph_options {\n",
      "  rewrite_options {\n",
      "    meta_optimizer_iterations: ONE\n",
      "  }\u001b[0m\n",
      "\u001b[34m}\u001b[0m\n",
      "\u001b[34m, '_global_id_in_cluster': 0, '_is_chief': True, '_protocol': None, '_save_checkpoints_steps': None, '_experimental_distribute': None, '_save_summary_steps': 100, '_model_dir': u's3://sagemaker-us-east-2-526614695497/sagemaker-tensorflow-2020-09-21-19-25-11-785/checkpoints', '_master': ''}\u001b[0m\n",
      "\u001b[34m2020-09-21 19:28:58,021 INFO - tensorflow - Not using Distribute Coordinator.\u001b[0m\n",
      "\u001b[34m2020-09-21 19:28:58,022 INFO - tensorflow - Skip starting Tensorflow server as there is only one node in the cluster.\u001b[0m\n",
      "\u001b[34mFound 3798 images belonging to 2 classes.\u001b[0m\n",
      "\u001b[34m2020-09-21 19:28:58,767 INFO - tensorflow - Calling model_fn.\u001b[0m\n",
      "\u001b[34m2020-09-21 19:28:59,570 INFO - tensorflow - Done calling model_fn.\u001b[0m\n",
      "\u001b[34m2020-09-21 19:28:59,570 INFO - tensorflow - Warm-starting with WarmStartSettings: WarmStartSettings(ckpt_to_initialize_from=u's3://sagemaker-us-east-2-526614695497/sagemaker-tensorflow-2020-09-21-19-25-11-785/checkpoints/keras/keras_model.ckpt', vars_to_warm_start='.*', var_name_to_vocab_info={}, var_name_to_prev_var_name={})\u001b[0m\n",
      "\u001b[34m2020-09-21 19:28:59,570 INFO - tensorflow - Warm-starting from: (u's3://sagemaker-us-east-2-526614695497/sagemaker-tensorflow-2020-09-21-19-25-11-785/checkpoints/keras/keras_model.ckpt',)\u001b[0m\n",
      "\u001b[34m2020-09-21 19:28:59,570 INFO - tensorflow - Warm-starting variable: conv2d_2/kernel; prev_var_name: Unchanged\u001b[0m\n",
      "\u001b[34m2020-09-21 19:28:59,770 INFO - tensorflow - Warm-starting variable: dense_1/bias; prev_var_name: Unchanged\u001b[0m\n",
      "\u001b[34m2020-09-21 19:29:00,263 INFO - tensorflow - Warm-starting variable: conv2d_1/bias; prev_var_name: Unchanged\u001b[0m\n",
      "\u001b[34m2020-09-21 19:29:00,457 INFO - tensorflow - Warm-starting variable: dense/kernel; prev_var_name: Unchanged\u001b[0m\n",
      "\u001b[34m2020-09-21 19:29:00,645 INFO - tensorflow - Warm-starting variable: conv2d_3/bias; prev_var_name: Unchanged\u001b[0m\n",
      "\u001b[34m2020-09-21 19:29:00,843 INFO - tensorflow - Warm-starting variable: dense/bias; prev_var_name: Unchanged\u001b[0m\n",
      "\u001b[34m2020-09-21 19:29:01,066 INFO - tensorflow - Warm-starting variable: inputs/bias; prev_var_name: Unchanged\u001b[0m\n",
      "\u001b[34m2020-09-21 19:29:01,277 INFO - tensorflow - Warm-starting variable: inputs/kernel; prev_var_name: Unchanged\u001b[0m\n",
      "\u001b[34m2020-09-21 19:29:01,464 INFO - tensorflow - Warm-starting variable: dense_1/kernel; prev_var_name: Unchanged\u001b[0m\n",
      "\u001b[34m2020-09-21 19:29:01,680 INFO - tensorflow - Warm-starting variable: conv2d_3/kernel; prev_var_name: Unchanged\u001b[0m\n",
      "\u001b[34m2020-09-21 19:29:01,898 INFO - tensorflow - Warm-starting variable: conv2d/bias; prev_var_name: Unchanged\u001b[0m\n",
      "\u001b[34m2020-09-21 19:29:02,145 INFO - tensorflow - Warm-starting variable: conv2d_1/kernel; prev_var_name: Unchanged\u001b[0m\n",
      "\u001b[34m2020-09-21 19:29:02,362 INFO - tensorflow - Warm-starting variable: conv2d_2/bias; prev_var_name: Unchanged\u001b[0m\n",
      "\u001b[34m2020-09-21 19:29:02,558 INFO - tensorflow - Warm-starting variable: conv2d/kernel; prev_var_name: Unchanged\u001b[0m\n",
      "\u001b[34m2020-09-21 19:29:02,762 INFO - tensorflow - Create CheckpointSaverHook.\u001b[0m\n",
      "\u001b[34m2020-09-21 19:29:03,784 INFO - tensorflow - Graph was finalized.\u001b[0m\n",
      "\u001b[34m2020-09-21 19:29:10,086 INFO - tensorflow - Running local_init_op.\u001b[0m\n",
      "\u001b[34m2020-09-21 19:29:10,097 INFO - tensorflow - Done running local_init_op.\u001b[0m\n",
      "\u001b[34m2020-09-21 19:29:14,512 INFO - tensorflow - Saving checkpoints for 0 into s3://sagemaker-us-east-2-526614695497/sagemaker-tensorflow-2020-09-21-19-25-11-785/checkpoints/model.ckpt.\u001b[0m\n",
      "\u001b[34m2020-09-21 19:29:53,713 INFO - tensorflow - loss = 0.69160855, step = 1\u001b[0m\n",
      "\u001b[34m2020-09-21 19:34:50,129 INFO - tensorflow - Saving checkpoints for 31 into s3://sagemaker-us-east-2-526614695497/sagemaker-tensorflow-2020-09-21-19-25-11-785/checkpoints/model.ckpt.\u001b[0m\n",
      "\u001b[34mFound 3798 images belonging to 2 classes.\u001b[0m\n",
      "\u001b[34m2020-09-21 19:35:21,629 INFO - tensorflow - Calling model_fn.\u001b[0m\n",
      "\u001b[34m2020-09-21 19:35:21,873 INFO - tensorflow - Done calling model_fn.\u001b[0m\n",
      "\u001b[34m2020-09-21 19:35:21,894 INFO - tensorflow - Starting evaluation at 2020-09-21-19:35:21\u001b[0m\n",
      "\u001b[34m2020-09-21 19:35:21,991 INFO - tensorflow - Graph was finalized.\u001b[0m\n",
      "\u001b[34m2020-09-21 19:35:22,079 INFO - tensorflow - Restoring parameters from s3://sagemaker-us-east-2-526614695497/sagemaker-tensorflow-2020-09-21-19-25-11-785/checkpoints/model.ckpt-31\u001b[0m\n",
      "\u001b[34m2020-09-21 19:35:26,375 INFO - tensorflow - Running local_init_op.\u001b[0m\n",
      "\u001b[34m2020-09-21 19:35:26,386 INFO - tensorflow - Done running local_init_op.\u001b[0m\n",
      "\u001b[34m2020-09-21 19:35:33,089 INFO - tensorflow - Evaluation [3/30]\u001b[0m\n",
      "\u001b[34m2020-09-21 19:35:39,497 INFO - tensorflow - Evaluation [6/30]\u001b[0m\n",
      "\u001b[34m2020-09-21 19:35:46,018 INFO - tensorflow - Evaluation [9/30]\u001b[0m\n",
      "\u001b[34m2020-09-21 19:35:52,412 INFO - tensorflow - Evaluation [12/30]\u001b[0m\n",
      "\u001b[34m2020-09-21 19:35:58,755 INFO - tensorflow - Evaluation [15/30]\u001b[0m\n",
      "\u001b[34m2020-09-21 19:36:05,176 INFO - tensorflow - Evaluation [18/30]\u001b[0m\n",
      "\u001b[34m2020-09-21 19:36:11,648 INFO - tensorflow - Evaluation [21/30]\u001b[0m\n",
      "\u001b[34m2020-09-21 19:36:18,222 INFO - tensorflow - Evaluation [24/30]\u001b[0m\n",
      "\u001b[34m2020-09-21 19:36:24,691 INFO - tensorflow - Evaluation [27/30]\u001b[0m\n",
      "\u001b[34m2020-09-21 19:36:31,067 INFO - tensorflow - Evaluation [30/30]\u001b[0m\n",
      "\u001b[34m2020-09-21 19:36:31,091 INFO - tensorflow - Finished evaluation at 2020-09-21-19:36:31\u001b[0m\n",
      "\u001b[34m2020-09-21 19:36:31,091 INFO - tensorflow - Saving dict for global step 31: accuracy = 0.8125, global_step = 31, loss = 1.1130923\u001b[0m\n",
      "\u001b[34m2020-09-21 19:36:33,273 INFO - tensorflow - Saving 'checkpoint_path' summary for global step 31: s3://sagemaker-us-east-2-526614695497/sagemaker-tensorflow-2020-09-21-19-25-11-785/checkpoints/model.ckpt-31\u001b[0m\n",
      "\u001b[34m2020-09-21 19:36:34,333 INFO - tensorflow - Calling model_fn.\u001b[0m\n",
      "\u001b[34m2020-09-21 19:36:34,578 INFO - tensorflow - Done calling model_fn.\u001b[0m\n",
      "\u001b[34m2020-09-21 19:36:34,579 INFO - tensorflow - Signatures INCLUDED in export for Eval: None\u001b[0m\n",
      "\u001b[34m2020-09-21 19:36:34,579 INFO - tensorflow - Signatures INCLUDED in export for Classify: None\u001b[0m\n",
      "\u001b[34m2020-09-21 19:36:34,579 INFO - tensorflow - Signatures INCLUDED in export for Regress: None\u001b[0m\n",
      "\u001b[34m2020-09-21 19:36:34,579 INFO - tensorflow - Signatures INCLUDED in export for Predict: ['serving_default']\u001b[0m\n",
      "\u001b[34m2020-09-21 19:36:34,579 INFO - tensorflow - Signatures INCLUDED in export for Train: None\u001b[0m\n",
      "\u001b[34m2020-09-21 19:36:34,683 INFO - tensorflow - Restoring parameters from s3://sagemaker-us-east-2-526614695497/sagemaker-tensorflow-2020-09-21-19-25-11-785/checkpoints/model.ckpt-31\u001b[0m\n",
      "\u001b[34m2020-09-21 19:36:39,016 WARNING - tensorflow - From /usr/local/lib/python2.7/dist-packages/tensorflow/python/estimator/estimator.py:1046: calling add_meta_graph_and_variables (from tensorflow.python.saved_model.builder_impl) with legacy_init_op is deprecated and will be removed in a future version.\u001b[0m\n",
      "\u001b[34mInstructions for updating:\u001b[0m\n",
      "\u001b[34mPass your op to the equivalent parameter main_op instead.\u001b[0m\n",
      "\u001b[34m2020-09-21 19:36:39,016 INFO - tensorflow - Assets added to graph.\u001b[0m\n",
      "\u001b[34m2020-09-21 19:36:39,016 INFO - tensorflow - No assets to write.\u001b[0m\n",
      "\u001b[34m2020-09-21 19:36:47,794 INFO - tensorflow - SavedModel written to: s3://sagemaker-us-east-2-526614695497/sagemaker-tensorflow-2020-09-21-19-25-11-785/checkpoints/export/Servo/1600716994/saved_model.pb\u001b[0m\n",
      "\u001b[34m2020-09-21 19:39:54,803 INFO - tensorflow - Saving checkpoints for 50 into s3://sagemaker-us-east-2-526614695497/sagemaker-tensorflow-2020-09-21-19-25-11-785/checkpoints/model.ckpt.\u001b[0m\n",
      "\u001b[34m2020-09-21 19:40:25,681 INFO - tensorflow - Skip the current checkpoint eval due to throttle secs (600 secs).\u001b[0m\n",
      "\u001b[34m2020-09-21 19:45:01,951 INFO - tensorflow - Saving checkpoints for 78 into s3://sagemaker-us-east-2-526614695497/sagemaker-tensorflow-2020-09-21-19-25-11-785/checkpoints/model.ckpt.\u001b[0m\n",
      "\u001b[34mFound 3798 images belonging to 2 classes.\u001b[0m\n",
      "\u001b[34m2020-09-21 19:45:33,383 INFO - tensorflow - Calling model_fn.\u001b[0m\n",
      "\u001b[34m2020-09-21 19:45:33,637 INFO - tensorflow - Done calling model_fn.\u001b[0m\n",
      "\u001b[34m2020-09-21 19:45:33,658 INFO - tensorflow - Starting evaluation at 2020-09-21-19:45:33\u001b[0m\n",
      "\u001b[34m2020-09-21 19:45:33,757 INFO - tensorflow - Graph was finalized.\u001b[0m\n",
      "\u001b[34m2020-09-21 19:45:33,834 INFO - tensorflow - Restoring parameters from s3://sagemaker-us-east-2-526614695497/sagemaker-tensorflow-2020-09-21-19-25-11-785/checkpoints/model.ckpt-78\u001b[0m\n",
      "\u001b[34m2020-09-21 19:45:38,160 INFO - tensorflow - Running local_init_op.\u001b[0m\n",
      "\u001b[34m2020-09-21 19:45:38,171 INFO - tensorflow - Done running local_init_op.\u001b[0m\n",
      "\u001b[34m2020-09-21 19:45:44,864 INFO - tensorflow - Evaluation [3/30]\u001b[0m\n",
      "\u001b[34m2020-09-21 19:45:51,282 INFO - tensorflow - Evaluation [6/30]\u001b[0m\n",
      "\u001b[34m2020-09-21 19:45:57,735 INFO - tensorflow - Evaluation [9/30]\u001b[0m\n",
      "\u001b[34m2020-09-21 19:46:04,124 INFO - tensorflow - Evaluation [12/30]\u001b[0m\n",
      "\u001b[34m2020-09-21 19:46:10,478 INFO - tensorflow - Evaluation [15/30]\u001b[0m\n",
      "\u001b[34m2020-09-21 19:46:16,874 INFO - tensorflow - Evaluation [18/30]\u001b[0m\n",
      "\u001b[34m2020-09-21 19:46:23,352 INFO - tensorflow - Evaluation [21/30]\u001b[0m\n",
      "\u001b[34m2020-09-21 19:46:29,800 INFO - tensorflow - Evaluation [24/30]\u001b[0m\n",
      "\u001b[34m2020-09-21 19:46:36,228 INFO - tensorflow - Evaluation [27/30]\u001b[0m\n",
      "\u001b[34m2020-09-21 19:46:42,607 INFO - tensorflow - Evaluation [30/30]\u001b[0m\n",
      "\u001b[34m2020-09-21 19:46:42,630 INFO - tensorflow - Finished evaluation at 2020-09-21-19:46:42\u001b[0m\n",
      "\u001b[34m2020-09-21 19:46:42,630 INFO - tensorflow - Saving dict for global step 78: accuracy = 0.75, global_step = 78, loss = 3.066068\u001b[0m\n",
      "\u001b[34m2020-09-21 19:46:43,457 INFO - tensorflow - Saving 'checkpoint_path' summary for global step 78: s3://sagemaker-us-east-2-526614695497/sagemaker-tensorflow-2020-09-21-19-25-11-785/checkpoints/model.ckpt-78\u001b[0m\n",
      "\u001b[34m2020-09-21 19:46:44,264 INFO - tensorflow - Calling model_fn.\u001b[0m\n",
      "\u001b[34m2020-09-21 19:46:44,396 INFO - tensorflow - Done calling model_fn.\u001b[0m\n",
      "\u001b[34m2020-09-21 19:46:44,396 INFO - tensorflow - Signatures INCLUDED in export for Eval: None\u001b[0m\n",
      "\u001b[34m2020-09-21 19:46:44,397 INFO - tensorflow - Signatures INCLUDED in export for Classify: None\u001b[0m\n",
      "\u001b[34m2020-09-21 19:46:44,397 INFO - tensorflow - Signatures INCLUDED in export for Regress: None\u001b[0m\n",
      "\u001b[34m2020-09-21 19:46:44,397 INFO - tensorflow - Signatures INCLUDED in export for Predict: ['serving_default']\u001b[0m\n",
      "\u001b[34m2020-09-21 19:46:44,397 INFO - tensorflow - Signatures INCLUDED in export for Train: None\u001b[0m\n",
      "\u001b[34m2020-09-21 19:46:44,506 INFO - tensorflow - Restoring parameters from s3://sagemaker-us-east-2-526614695497/sagemaker-tensorflow-2020-09-21-19-25-11-785/checkpoints/model.ckpt-78\u001b[0m\n",
      "\u001b[34m2020-09-21 19:46:49,006 INFO - tensorflow - Assets added to graph.\u001b[0m\n",
      "\u001b[34m2020-09-21 19:46:49,006 INFO - tensorflow - No assets to write.\u001b[0m\n",
      "\u001b[34m2020-09-21 19:46:57,819 INFO - tensorflow - SavedModel written to: s3://sagemaker-us-east-2-526614695497/sagemaker-tensorflow-2020-09-21-19-25-11-785/checkpoints/export/Servo/1600717604/saved_model.pb\u001b[0m\n",
      "\u001b[34m2020-09-21 19:50:04,871 INFO - tensorflow - Saving checkpoints for 97 into s3://sagemaker-us-east-2-526614695497/sagemaker-tensorflow-2020-09-21-19-25-11-785/checkpoints/model.ckpt.\u001b[0m\n",
      "\u001b[34m2020-09-21 19:50:37,482 INFO - tensorflow - Skip the current checkpoint eval due to throttle secs (600 secs).\u001b[0m\n",
      "\u001b[34m2020-09-21 19:51:07,218 INFO - tensorflow - Saving checkpoints for 100 into s3://sagemaker-us-east-2-526614695497/sagemaker-tensorflow-2020-09-21-19-25-11-785/checkpoints/model.ckpt.\u001b[0m\n",
      "\u001b[34m2020-09-21 19:51:38,226 INFO - tensorflow - Skip the current checkpoint eval due to throttle secs (600 secs).\u001b[0m\n",
      "\u001b[34mFound 3798 images belonging to 2 classes.\u001b[0m\n",
      "\u001b[34m2020-09-21 19:51:38,658 INFO - tensorflow - Calling model_fn.\u001b[0m\n",
      "\u001b[34m2020-09-21 19:51:38,908 INFO - tensorflow - Done calling model_fn.\u001b[0m\n",
      "\u001b[34m2020-09-21 19:51:38,929 INFO - tensorflow - Starting evaluation at 2020-09-21-19:51:38\u001b[0m\n",
      "\u001b[34m2020-09-21 19:51:39,027 INFO - tensorflow - Graph was finalized.\u001b[0m\n",
      "\u001b[34m2020-09-21 19:51:39,122 INFO - tensorflow - Restoring parameters from s3://sagemaker-us-east-2-526614695497/sagemaker-tensorflow-2020-09-21-19-25-11-785/checkpoints/model.ckpt-100\u001b[0m\n",
      "\u001b[34m2020-09-21 19:51:43,539 INFO - tensorflow - Running local_init_op.\u001b[0m\n",
      "\u001b[34m2020-09-21 19:51:43,550 INFO - tensorflow - Done running local_init_op.\u001b[0m\n",
      "\u001b[34m2020-09-21 19:51:53,196 INFO - tensorflow - Evaluation [3/30]\u001b[0m\n",
      "\u001b[34m2020-09-21 19:52:02,578 INFO - tensorflow - Evaluation [6/30]\u001b[0m\n",
      "\u001b[34m2020-09-21 19:52:11,957 INFO - tensorflow - Evaluation [9/30]\u001b[0m\n",
      "\u001b[34m2020-09-21 19:52:21,305 INFO - tensorflow - Evaluation [12/30]\u001b[0m\n",
      "\u001b[34m2020-09-21 19:52:30,681 INFO - tensorflow - Evaluation [15/30]\u001b[0m\n",
      "\u001b[34m2020-09-21 19:52:40,077 INFO - tensorflow - Evaluation [18/30]\u001b[0m\n",
      "\u001b[34m2020-09-21 19:52:49,456 INFO - tensorflow - Evaluation [21/30]\u001b[0m\n",
      "\u001b[34m2020-09-21 19:52:58,874 INFO - tensorflow - Evaluation [24/30]\u001b[0m\n",
      "\u001b[34m2020-09-21 19:53:08,217 INFO - tensorflow - Evaluation [27/30]\u001b[0m\n",
      "\u001b[34m2020-09-21 19:53:17,588 INFO - tensorflow - Evaluation [30/30]\u001b[0m\n",
      "\u001b[34m2020-09-21 19:53:17,611 INFO - tensorflow - Finished evaluation at 2020-09-21-19:53:17\u001b[0m\n",
      "\u001b[34m2020-09-21 19:53:17,611 INFO - tensorflow - Saving dict for global step 100: accuracy = 0.75, global_step = 100, loss = 3.4618373\u001b[0m\n",
      "\u001b[34m2020-09-21 19:53:18,351 INFO - tensorflow - Saving 'checkpoint_path' summary for global step 100: s3://sagemaker-us-east-2-526614695497/sagemaker-tensorflow-2020-09-21-19-25-11-785/checkpoints/model.ckpt-100\u001b[0m\n",
      "\u001b[34m2020-09-21 19:53:19,153 INFO - tensorflow - Calling model_fn.\u001b[0m\n",
      "\u001b[34m2020-09-21 19:53:19,409 INFO - tensorflow - Done calling model_fn.\u001b[0m\n",
      "\u001b[34m2020-09-21 19:53:19,409 INFO - tensorflow - Signatures INCLUDED in export for Eval: None\u001b[0m\n",
      "\u001b[34m2020-09-21 19:53:19,409 INFO - tensorflow - Signatures INCLUDED in export for Classify: None\u001b[0m\n",
      "\u001b[34m2020-09-21 19:53:19,409 INFO - tensorflow - Signatures INCLUDED in export for Regress: None\u001b[0m\n",
      "\u001b[34m2020-09-21 19:53:19,409 INFO - tensorflow - Signatures INCLUDED in export for Predict: ['serving_default']\u001b[0m\n",
      "\u001b[34m2020-09-21 19:53:19,410 INFO - tensorflow - Signatures INCLUDED in export for Train: None\u001b[0m\n",
      "\u001b[34m2020-09-21 19:53:19,525 INFO - tensorflow - Restoring parameters from s3://sagemaker-us-east-2-526614695497/sagemaker-tensorflow-2020-09-21-19-25-11-785/checkpoints/model.ckpt-100\u001b[0m\n",
      "\u001b[34m2020-09-21 19:53:23,820 INFO - tensorflow - Assets added to graph.\u001b[0m\n",
      "\u001b[34m2020-09-21 19:53:23,821 INFO - tensorflow - No assets to write.\u001b[0m\n",
      "\u001b[34m2020-09-21 19:53:32,761 INFO - tensorflow - SavedModel written to: s3://sagemaker-us-east-2-526614695497/sagemaker-tensorflow-2020-09-21-19-25-11-785/checkpoints/export/Servo/1600717999/saved_model.pb\u001b[0m\n",
      "\u001b[34m2020-09-21 19:53:34,003 INFO - tensorflow - Loss for final step: 1.2464201e-07.\u001b[0m\n",
      "\u001b[34m2020-09-21 19:53:37,889 INFO - tf_container - Downloaded saved model at /opt/ml/model/export/Servo/1600717999\u001b[0m\n",
      "\n",
      "2020-09-21 19:53:48 Uploading - Uploading generated training model\n",
      "2020-09-21 19:54:50 Completed - Training job completed\n",
      "Training seconds: 1661\n",
      "Billable seconds: 1661\n"
     ]
    }
   ],
   "source": [
    "print(\"Training ...\")\n",
    "estimator.fit({'training': train_input_path, 'eval': validation_input_path})"
   ]
  },
  {
   "cell_type": "code",
   "execution_count": null,
   "metadata": {},
   "outputs": [],
   "source": []
  }
 ],
 "metadata": {
  "kernelspec": {
   "display_name": "conda_tensorflow_p27",
   "language": "python",
   "name": "conda_tensorflow_p27"
  },
  "language_info": {
   "codemirror_mode": {
    "name": "ipython",
    "version": 2
   },
   "file_extension": ".py",
   "mimetype": "text/x-python",
   "name": "python",
   "nbconvert_exporter": "python",
   "pygments_lexer": "ipython2",
   "version": "2.7.17"
  }
 },
 "nbformat": 4,
 "nbformat_minor": 4
}
