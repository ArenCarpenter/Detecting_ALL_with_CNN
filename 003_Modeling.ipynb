{
 "cells": [
  {
   "cell_type": "markdown",
   "metadata": {},
   "source": [
    "# AWS Sagemaker Modeling Script"
   ]
  },
  {
   "cell_type": "markdown",
   "metadata": {},
   "source": [
    "> *I used this [post](https://blog.betomorrow.com/keras-in-the-cloud-with-amazon-sagemaker-67cf11fb536) from Paul Breton and the corresponding GitHub [repo](https://github.com/Pravez/KerasSageMaker) for guidance on utilizing Keras with Sagemaker.* "
   ]
  },
  {
   "cell_type": "markdown",
   "metadata": {},
   "source": [
    "## Libraries to Import"
   ]
  },
  {
   "cell_type": "code",
   "execution_count": 1,
   "metadata": {},
   "outputs": [
    {
     "name": "stdout",
     "output_type": "stream",
     "text": [
      "WARNING:tensorflow:From /home/ec2-user/anaconda3/envs/tensorflow_p27/lib/python2.7/site-packages/tensorflow_core/__init__.py:1473: The name tf.estimator.inputs is deprecated. Please use tf.compat.v1.estimator.inputs instead.\n",
      "\n"
     ]
    },
    {
     "name": "stderr",
     "output_type": "stream",
     "text": [
      "Using TensorFlow backend.\n",
      "No handlers could be found for logger \"sagemaker\"\n"
     ]
    }
   ],
   "source": [
    "from PIL import Image\n",
    "import tensorflow\n",
    "import keras\n",
    "from tensorflow.keras.preprocessing import image\n",
    "from tensorflow.keras import models, layers, optimizers\n",
    "from keras.layers import Dropout\n",
    "\n",
    "import os\n",
    "import gc\n",
    "\n",
    "import sagemaker\n",
    "from sagemaker.tensorflow import TensorFlow\n",
    "from tensorflow.python.keras.preprocessing.image import load_img\n",
    "\n",
    "import warnings\n",
    "warnings.filterwarnings('ignore')"
   ]
  },
  {
   "cell_type": "markdown",
   "metadata": {},
   "source": [
    "## Create Sagemaker Training Job"
   ]
  },
  {
   "cell_type": "markdown",
   "metadata": {},
   "source": [
    "Create Sagemaker session and role ARN."
   ]
  },
  {
   "cell_type": "code",
   "execution_count": 10,
   "metadata": {},
   "outputs": [],
   "source": [
    "sagemaker_session = sagemaker.Session()"
   ]
  },
  {
   "cell_type": "code",
   "execution_count": 11,
   "metadata": {},
   "outputs": [],
   "source": [
    "role = sagemaker.get_execution_role()"
   ]
  },
  {
   "cell_type": "markdown",
   "metadata": {},
   "source": [
    "Have to define our S3 bucket name and pathway to training and validation sets, and set some hyperparameters for the model to use when calling the Keras model. "
   ]
  },
  {
   "cell_type": "code",
   "execution_count": 12,
   "metadata": {},
   "outputs": [],
   "source": [
    "bucket = \"sagemaker-all-cnn\"\n",
    "key = \"Data\"\n",
    "key_output = \"output\"                   # Path from the bucket's root to the dataset\n",
    "train_instance_type='ml.m4.xlarge'      # The type of EC2 instance which will be used for training\n",
    "deploy_instance_type='ml.m4.xlarge'     # The type of EC2 instance which will be used for deployment\n",
    "hyperparameters={\n",
    "    \"learning_rate\": 0.001,\n",
    "    \"decay\": 0.0001\n",
    "}"
   ]
  },
  {
   "cell_type": "markdown",
   "metadata": {},
   "source": [
    "Specify locations for our data within the S3 bucket."
   ]
  },
  {
   "cell_type": "code",
   "execution_count": 13,
   "metadata": {},
   "outputs": [],
   "source": [
    "train_input_path = \"s3://{}/{}/training/\".format(bucket, key)\n",
    "validation_input_path = \"s3://{}/{}/validation/\".format(bucket, key)"
   ]
  },
  {
   "cell_type": "markdown",
   "metadata": {},
   "source": [
    "Create the actual training job. We specify additional hyperparameters, such as epochs and evaluation steps, in addition to loading the model architecture from a separate Python script (which can be found in the Model_Scripts directory in this repo) where we use the traditional Keras framework. "
   ]
  },
  {
   "cell_type": "code",
   "execution_count": 14,
   "metadata": {},
   "outputs": [],
   "source": [
    "estimator = TensorFlow(\n",
    "  entry_point=os.path.join(os.path.dirname('__file__'), \"Model_Scripts/Model_5x1C1D.py\"),\n",
    "  role=role,\n",
    "  framework_version=\"1.12.0\",               # TensorFlow's version\n",
    "  hyperparameters=hyperparameters,\n",
    "  training_steps=100,\n",
    "  evaluation_steps=30,\n",
    "  train_instance_count=1,                   # \"The number of GPUs instances to use\"\n",
    "  train_instance_type=train_instance_type,\n",
    ")"
   ]
  },
  {
   "cell_type": "markdown",
   "metadata": {},
   "source": [
    "Call the .fit() method to begin the training job. Progress is tracked here, but the actual computation is done on a separate Training Jobs instance in AWS with a ml.m4.xlarge instance (a hyperparameter we can alter if the respective resource quota is satisfied). "
   ]
  },
  {
   "cell_type": "markdown",
   "metadata": {},
   "source": [
    "Depending on the model architecture, training takes from 10 mins to 1 hour with 4000 images and 100-150 epochs. "
   ]
  },
  {
   "cell_type": "markdown",
   "metadata": {},
   "source": [
    "If running this, you should see prompts in the following structure displayed over about 3 minutes. Most errors will be thrown in the last \"Training in progress.\" step, so wait until that step is complete before navigating away.\n",
    "\n",
    "> \"Training ... \n",
    "\n",
    ">2020-09-22 16:09:18 Starting - Starting the training job...\n",
    "\n",
    ">2020-09-22 16:09:20 Starting - Launching requested ML instances......\n",
    "\n",
    ">2020-09-22 16:10:30 Starting - Preparing the instances for training...\n",
    "\n",
    ">2020-09-22 16:11:19 Downloading - Downloading input data.........\n",
    "\n",
    ">2020-09-22 16:12:40 Training - Training image download completed. Training in progress.\""
   ]
  },
  {
   "cell_type": "code",
   "execution_count": 15,
   "metadata": {},
   "outputs": [
    {
     "name": "stdout",
     "output_type": "stream",
     "text": [
      "Training ...\n",
      "2020-09-23 18:56:06 Starting - Starting the training job...\n",
      "2020-09-23 18:56:08 Starting - Launching requested ML instances......\n",
      "2020-09-23 18:57:18 Starting - Preparing the instances for training......\n",
      "2020-09-23 18:58:12 Downloading - Downloading input data......\n",
      "2020-09-23 18:59:32 Training - Downloading the training image...\n",
      "2020-09-23 18:59:53 Training - Training image download completed. Training in progress.\u001b[34m2020-09-23 18:59:53,912 INFO - root - running container entrypoint\u001b[0m\n",
      "\u001b[34m2020-09-23 18:59:53,912 INFO - root - starting train task\u001b[0m\n",
      "\u001b[34m2020-09-23 18:59:53,932 INFO - container_support.training - Training starting\u001b[0m\n",
      "\u001b[34mDownloading s3://sagemaker-us-east-2-526614695497/sagemaker-tensorflow-2020-09-23-18-56-05-352/source/sourcedir.tar.gz to /tmp/script.tar.gz\u001b[0m\n",
      "\u001b[34m2020-09-23 18:59:57,023 INFO - tf_container - ----------------------TF_CONFIG--------------------------\u001b[0m\n",
      "\u001b[34m2020-09-23 18:59:57,023 INFO - tf_container - {\"environment\": \"cloud\", \"cluster\": {\"master\": [\"algo-1:2222\"]}, \"task\": {\"index\": 0, \"type\": \"master\"}}\u001b[0m\n",
      "\u001b[34m2020-09-23 18:59:57,023 INFO - tf_container - ---------------------------------------------------------\u001b[0m\n",
      "\u001b[34m2020-09-23 18:59:57,023 INFO - tf_container - creating RunConfig:\u001b[0m\n",
      "\u001b[34m2020-09-23 18:59:57,023 INFO - tf_container - {'save_checkpoints_secs': 300}\u001b[0m\n",
      "\u001b[34m2020-09-23 18:59:57,023 INFO - tensorflow - TF_CONFIG environment variable: {u'environment': u'cloud', u'cluster': {u'master': [u'algo-1:2222']}, u'task': {u'index': 0, u'type': u'master'}}\u001b[0m\n",
      "\u001b[34m2020-09-23 18:59:57,024 INFO - tf_container - invoking the user-provided keras_model_fn\u001b[0m\n",
      "\u001b[34m2020-09-23 18:59:57,270 INFO - tensorflow - Using the Keras model provided.\u001b[0m\n",
      "\u001b[34m2020-09-23 18:59:59,254 INFO - tensorflow - Using config: {'_save_checkpoints_secs': 300, '_keep_checkpoint_max': 5, '_task_type': u'master', '_cluster_spec': <tensorflow.python.training.server_lib.ClusterSpec object at 0x7f97dd724e50>, '_keep_checkpoint_every_n_hours': 10000, '_service': None, '_num_ps_replicas': 0, '_tf_random_seed': None, '_device_fn': None, '_num_worker_replicas': 1, '_task_id': 0, '_log_step_count_steps': 100, '_evaluation_master': '', '_eval_distribute': None, '_train_distribute': None, '_session_config': device_filters: \"/job:ps\"\u001b[0m\n",
      "\u001b[34mdevice_filters: \"/job:master\"\u001b[0m\n",
      "\u001b[34mallow_soft_placement: true\u001b[0m\n",
      "\u001b[34mgraph_options {\n",
      "  rewrite_options {\n",
      "    meta_optimizer_iterations: ONE\n",
      "  }\u001b[0m\n",
      "\u001b[34m}\u001b[0m\n",
      "\u001b[34m, '_global_id_in_cluster': 0, '_is_chief': True, '_protocol': None, '_save_checkpoints_steps': None, '_experimental_distribute': None, '_save_summary_steps': 100, '_model_dir': u's3://sagemaker-us-east-2-526614695497/sagemaker-tensorflow-2020-09-23-18-56-05-352/checkpoints', '_master': ''}\u001b[0m\n",
      "\u001b[34m2020-09-23 18:59:59,278 INFO - tensorflow - Not using Distribute Coordinator.\u001b[0m\n",
      "\u001b[34m2020-09-23 18:59:59,279 INFO - tensorflow - Skip starting Tensorflow server as there is only one node in the cluster.\u001b[0m\n",
      "\u001b[34mFound 3798 images belonging to 2 classes.\u001b[0m\n",
      "\u001b[34m2020-09-23 18:59:59,967 INFO - tensorflow - Calling model_fn.\u001b[0m\n",
      "\u001b[34m2020-09-23 19:00:00,721 INFO - tensorflow - Done calling model_fn.\u001b[0m\n",
      "\u001b[34m2020-09-23 19:00:00,721 INFO - tensorflow - Warm-starting with WarmStartSettings: WarmStartSettings(ckpt_to_initialize_from=u's3://sagemaker-us-east-2-526614695497/sagemaker-tensorflow-2020-09-23-18-56-05-352/checkpoints/keras/keras_model.ckpt', vars_to_warm_start='.*', var_name_to_vocab_info={}, var_name_to_prev_var_name={})\u001b[0m\n",
      "\u001b[34m2020-09-23 19:00:00,721 INFO - tensorflow - Warm-starting from: (u's3://sagemaker-us-east-2-526614695497/sagemaker-tensorflow-2020-09-23-18-56-05-352/checkpoints/keras/keras_model.ckpt',)\u001b[0m\n",
      "\u001b[34m2020-09-23 19:00:00,722 INFO - tensorflow - Warm-starting variable: conv2d_2/kernel; prev_var_name: Unchanged\u001b[0m\n",
      "\u001b[34m2020-09-23 19:00:00,957 INFO - tensorflow - Warm-starting variable: dense_1/bias; prev_var_name: Unchanged\u001b[0m\n",
      "\u001b[34m2020-09-23 19:00:01,131 INFO - tensorflow - Warm-starting variable: conv2d_1/bias; prev_var_name: Unchanged\u001b[0m\n",
      "\u001b[34m2020-09-23 19:00:01,298 INFO - tensorflow - Warm-starting variable: dense/kernel; prev_var_name: Unchanged\u001b[0m\n",
      "\u001b[34m2020-09-23 19:00:01,633 INFO - tensorflow - Warm-starting variable: conv2d_3/bias; prev_var_name: Unchanged\u001b[0m\n",
      "\u001b[34m2020-09-23 19:00:02,397 INFO - tensorflow - Warm-starting variable: dense/bias; prev_var_name: Unchanged\u001b[0m\n",
      "\u001b[34m2020-09-23 19:00:03,017 INFO - tensorflow - Warm-starting variable: inputs/bias; prev_var_name: Unchanged\u001b[0m\n",
      "\u001b[34m2020-09-23 19:00:03,318 INFO - tensorflow - Warm-starting variable: inputs/kernel; prev_var_name: Unchanged\u001b[0m\n",
      "\u001b[34m2020-09-23 19:00:03,599 INFO - tensorflow - Warm-starting variable: dense_1/kernel; prev_var_name: Unchanged\u001b[0m\n",
      "\u001b[34m2020-09-23 19:00:03,882 INFO - tensorflow - Warm-starting variable: conv2d_3/kernel; prev_var_name: Unchanged\u001b[0m\n",
      "\u001b[34m2020-09-23 19:00:04,052 INFO - tensorflow - Warm-starting variable: conv2d/bias; prev_var_name: Unchanged\u001b[0m\n",
      "\u001b[34m2020-09-23 19:00:04,228 INFO - tensorflow - Warm-starting variable: conv2d_1/kernel; prev_var_name: Unchanged\u001b[0m\n",
      "\u001b[34m2020-09-23 19:00:04,401 INFO - tensorflow - Warm-starting variable: conv2d_2/bias; prev_var_name: Unchanged\u001b[0m\n",
      "\u001b[34m2020-09-23 19:00:04,586 INFO - tensorflow - Warm-starting variable: conv2d/kernel; prev_var_name: Unchanged\u001b[0m\n",
      "\u001b[34m2020-09-23 19:00:04,780 INFO - tensorflow - Create CheckpointSaverHook.\u001b[0m\n",
      "\u001b[34m2020-09-23 19:00:05,886 INFO - tensorflow - Graph was finalized.\u001b[0m\n",
      "\u001b[34m2020-09-23 19:00:07,241 INFO - tensorflow - Running local_init_op.\u001b[0m\n",
      "\u001b[34m2020-09-23 19:00:07,252 INFO - tensorflow - Done running local_init_op.\u001b[0m\n",
      "\u001b[34m2020-09-23 19:00:11,763 INFO - tensorflow - Saving checkpoints for 0 into s3://sagemaker-us-east-2-526614695497/sagemaker-tensorflow-2020-09-23-18-56-05-352/checkpoints/model.ckpt.\u001b[0m\n",
      "\u001b[34m2020-09-23 19:00:20,517 INFO - tensorflow - loss = 0.6898458, step = 1\u001b[0m\n",
      "\u001b[34m2020-09-23 19:05:17,377 INFO - tensorflow - Saving checkpoints for 59 into s3://sagemaker-us-east-2-526614695497/sagemaker-tensorflow-2020-09-23-18-56-05-352/checkpoints/model.ckpt.\u001b[0m\n",
      "\u001b[34mFound 3798 images belonging to 2 classes.\u001b[0m\n",
      "\u001b[34m2020-09-23 19:05:20,589 INFO - tensorflow - Calling model_fn.\u001b[0m\n",
      "\u001b[34m2020-09-23 19:05:20,841 INFO - tensorflow - Done calling model_fn.\u001b[0m\n",
      "\u001b[34m2020-09-23 19:05:20,863 INFO - tensorflow - Starting evaluation at 2020-09-23-19:05:20\u001b[0m\n",
      "\u001b[34m2020-09-23 19:05:20,966 INFO - tensorflow - Graph was finalized.\u001b[0m\n",
      "\u001b[34m2020-09-23 19:05:21,036 INFO - tensorflow - Restoring parameters from s3://sagemaker-us-east-2-526614695497/sagemaker-tensorflow-2020-09-23-18-56-05-352/checkpoints/model.ckpt-59\u001b[0m\n",
      "\u001b[34m2020-09-23 19:05:21,452 INFO - tensorflow - Running local_init_op.\u001b[0m\n",
      "\u001b[34m2020-09-23 19:05:21,465 INFO - tensorflow - Done running local_init_op.\u001b[0m\n",
      "\u001b[34m2020-09-23 19:05:25,856 INFO - tensorflow - Evaluation [3/30]\u001b[0m\n",
      "\u001b[34m2020-09-23 19:05:29,879 INFO - tensorflow - Evaluation [6/30]\u001b[0m\n",
      "\u001b[34m2020-09-23 19:05:33,871 INFO - tensorflow - Evaluation [9/30]\u001b[0m\n",
      "\u001b[34m2020-09-23 19:05:37,769 INFO - tensorflow - Evaluation [12/30]\u001b[0m\n",
      "\u001b[34m2020-09-23 19:05:41,721 INFO - tensorflow - Evaluation [15/30]\u001b[0m\n",
      "\u001b[34m2020-09-23 19:05:45,690 INFO - tensorflow - Evaluation [18/30]\u001b[0m\n",
      "\u001b[34m2020-09-23 19:05:49,639 INFO - tensorflow - Evaluation [21/30]\u001b[0m\n",
      "\u001b[34m2020-09-23 19:05:53,548 INFO - tensorflow - Evaluation [24/30]\u001b[0m\n",
      "\u001b[34m2020-09-23 19:05:57,610 INFO - tensorflow - Evaluation [27/30]\u001b[0m\n",
      "\u001b[34m2020-09-23 19:06:01,587 INFO - tensorflow - Evaluation [30/30]\u001b[0m\n",
      "\u001b[34m2020-09-23 19:06:01,612 INFO - tensorflow - Finished evaluation at 2020-09-23-19:06:01\u001b[0m\n",
      "\u001b[34m2020-09-23 19:06:01,612 INFO - tensorflow - Saving dict for global step 59: accuracy = 0.6875, global_step = 59, loss = 1.359164\u001b[0m\n",
      "\u001b[34m2020-09-23 19:06:03,274 INFO - tensorflow - Saving 'checkpoint_path' summary for global step 59: s3://sagemaker-us-east-2-526614695497/sagemaker-tensorflow-2020-09-23-18-56-05-352/checkpoints/model.ckpt-59\u001b[0m\n",
      "\u001b[34m2020-09-23 19:06:04,458 INFO - tensorflow - Calling model_fn.\u001b[0m\n",
      "\u001b[34m2020-09-23 19:06:04,591 INFO - tensorflow - Done calling model_fn.\u001b[0m\n",
      "\u001b[34m2020-09-23 19:06:04,592 INFO - tensorflow - Signatures INCLUDED in export for Eval: None\u001b[0m\n",
      "\u001b[34m2020-09-23 19:06:04,592 INFO - tensorflow - Signatures INCLUDED in export for Classify: None\u001b[0m\n",
      "\u001b[34m2020-09-23 19:06:04,592 INFO - tensorflow - Signatures INCLUDED in export for Regress: None\u001b[0m\n",
      "\u001b[34m2020-09-23 19:06:04,592 INFO - tensorflow - Signatures INCLUDED in export for Predict: ['serving_default']\u001b[0m\n",
      "\u001b[34m2020-09-23 19:06:04,592 INFO - tensorflow - Signatures INCLUDED in export for Train: None\u001b[0m\n",
      "\u001b[34m2020-09-23 19:06:04,703 INFO - tensorflow - Restoring parameters from s3://sagemaker-us-east-2-526614695497/sagemaker-tensorflow-2020-09-23-18-56-05-352/checkpoints/model.ckpt-59\u001b[0m\n",
      "\u001b[34m2020-09-23 19:06:05,082 WARNING - tensorflow - From /usr/local/lib/python2.7/dist-packages/tensorflow/python/estimator/estimator.py:1046: calling add_meta_graph_and_variables (from tensorflow.python.saved_model.builder_impl) with legacy_init_op is deprecated and will be removed in a future version.\u001b[0m\n",
      "\u001b[34mInstructions for updating:\u001b[0m\n",
      "\u001b[34mPass your op to the equivalent parameter main_op instead.\u001b[0m\n",
      "\u001b[34m2020-09-23 19:06:05,082 INFO - tensorflow - Assets added to graph.\u001b[0m\n",
      "\u001b[34m2020-09-23 19:06:05,082 INFO - tensorflow - No assets to write.\u001b[0m\n",
      "\u001b[34m2020-09-23 19:06:05,900 INFO - tensorflow - SavedModel written to: s3://sagemaker-us-east-2-526614695497/sagemaker-tensorflow-2020-09-23-18-56-05-352/checkpoints/export/Servo/1600887964/saved_model.pb\u001b[0m\n",
      "\u001b[34m2020-09-23 19:09:35,309 INFO - tensorflow - Saving checkpoints for 100 into s3://sagemaker-us-east-2-526614695497/sagemaker-tensorflow-2020-09-23-18-56-05-352/checkpoints/model.ckpt.\u001b[0m\n",
      "\u001b[34m2020-09-23 19:09:38,162 INFO - tensorflow - Skip the current checkpoint eval due to throttle secs (600 secs).\u001b[0m\n",
      "\u001b[34mFound 3798 images belonging to 2 classes.\u001b[0m\n",
      "\u001b[34m2020-09-23 19:09:38,500 INFO - tensorflow - Calling model_fn.\u001b[0m\n",
      "\u001b[34m2020-09-23 19:09:38,860 INFO - tensorflow - Done calling model_fn.\u001b[0m\n",
      "\u001b[34m2020-09-23 19:09:38,882 INFO - tensorflow - Starting evaluation at 2020-09-23-19:09:38\u001b[0m\n",
      "\u001b[34m2020-09-23 19:09:38,982 INFO - tensorflow - Graph was finalized.\u001b[0m\n",
      "\u001b[34m2020-09-23 19:09:39,054 INFO - tensorflow - Restoring parameters from s3://sagemaker-us-east-2-526614695497/sagemaker-tensorflow-2020-09-23-18-56-05-352/checkpoints/model.ckpt-100\u001b[0m\n",
      "\u001b[34m2020-09-23 19:09:39,322 INFO - tensorflow - Running local_init_op.\u001b[0m\n",
      "\u001b[34m2020-09-23 19:09:39,334 INFO - tensorflow - Done running local_init_op.\u001b[0m\n",
      "\u001b[34m2020-09-23 19:09:43,557 INFO - tensorflow - Evaluation [3/30]\u001b[0m\n",
      "\u001b[34m2020-09-23 19:09:47,460 INFO - tensorflow - Evaluation [6/30]\u001b[0m\n",
      "\u001b[34m2020-09-23 19:09:51,355 INFO - tensorflow - Evaluation [9/30]\u001b[0m\n",
      "\u001b[34m2020-09-23 19:09:55,256 INFO - tensorflow - Evaluation [12/30]\u001b[0m\n",
      "\u001b[34m2020-09-23 19:09:59,345 INFO - tensorflow - Evaluation [15/30]\u001b[0m\n",
      "\u001b[34m2020-09-23 19:10:03,272 INFO - tensorflow - Evaluation [18/30]\u001b[0m\n",
      "\u001b[34m2020-09-23 19:10:07,234 INFO - tensorflow - Evaluation [21/30]\u001b[0m\n",
      "\u001b[34m2020-09-23 19:10:11,208 INFO - tensorflow - Evaluation [24/30]\u001b[0m\n",
      "\u001b[34m2020-09-23 19:10:15,176 INFO - tensorflow - Evaluation [27/30]\u001b[0m\n",
      "\u001b[34m2020-09-23 19:10:19,098 INFO - tensorflow - Evaluation [30/30]\u001b[0m\n",
      "\u001b[34m2020-09-23 19:10:19,122 INFO - tensorflow - Finished evaluation at 2020-09-23-19:10:19\u001b[0m\n",
      "\u001b[34m2020-09-23 19:10:19,123 INFO - tensorflow - Saving dict for global step 100: accuracy = 0.71875, global_step = 100, loss = 2.9129636\u001b[0m\n",
      "\u001b[34m2020-09-23 19:10:20,047 INFO - tensorflow - Saving 'checkpoint_path' summary for global step 100: s3://sagemaker-us-east-2-526614695497/sagemaker-tensorflow-2020-09-23-18-56-05-352/checkpoints/model.ckpt-100\u001b[0m\n",
      "\u001b[34m2020-09-23 19:10:20,908 INFO - tensorflow - Calling model_fn.\u001b[0m\n",
      "\u001b[34m2020-09-23 19:10:21,039 INFO - tensorflow - Done calling model_fn.\u001b[0m\n",
      "\u001b[34m2020-09-23 19:10:21,040 INFO - tensorflow - Signatures INCLUDED in export for Eval: None\u001b[0m\n",
      "\u001b[34m2020-09-23 19:10:21,040 INFO - tensorflow - Signatures INCLUDED in export for Classify: None\u001b[0m\n",
      "\u001b[34m2020-09-23 19:10:21,040 INFO - tensorflow - Signatures INCLUDED in export for Regress: None\u001b[0m\n",
      "\u001b[34m2020-09-23 19:10:21,040 INFO - tensorflow - Signatures INCLUDED in export for Predict: ['serving_default']\u001b[0m\n",
      "\u001b[34m2020-09-23 19:10:21,040 INFO - tensorflow - Signatures INCLUDED in export for Train: None\u001b[0m\n",
      "\u001b[34m2020-09-23 19:10:21,156 INFO - tensorflow - Restoring parameters from s3://sagemaker-us-east-2-526614695497/sagemaker-tensorflow-2020-09-23-18-56-05-352/checkpoints/model.ckpt-100\u001b[0m\n",
      "\u001b[34m2020-09-23 19:10:21,454 INFO - tensorflow - Assets added to graph.\u001b[0m\n",
      "\u001b[34m2020-09-23 19:10:21,455 INFO - tensorflow - No assets to write.\u001b[0m\n",
      "\u001b[34m2020-09-23 19:10:22,128 INFO - tensorflow - SavedModel written to: s3://sagemaker-us-east-2-526614695497/sagemaker-tensorflow-2020-09-23-18-56-05-352/checkpoints/export/Servo/1600888220/saved_model.pb\u001b[0m\n",
      "\u001b[34m2020-09-23 19:10:22,192 INFO - tensorflow - Loss for final step: 2.3087158e-07.\u001b[0m\n",
      "\u001b[34m2020-09-23 19:10:22,439 INFO - tf_container - Downloaded saved model at /opt/ml/model/export/Servo/1600888220\u001b[0m\n",
      "\n",
      "2020-09-23 19:10:31 Uploading - Uploading generated training model\n",
      "2020-09-23 19:10:31 Completed - Training job completed\n",
      "Training seconds: 739\n",
      "Billable seconds: 739\n"
     ]
    }
   ],
   "source": [
    "print(\"Training ...\")\n",
    "estimator.fit({'training': train_input_path, 'eval': validation_input_path})"
   ]
  },
  {
   "cell_type": "markdown",
   "metadata": {},
   "source": [
    "Model checkpoints and the final trained model will be uploaded to a new S3 bucket created by Sagemaker to store all models from this notebook instance. Billable seconds will also be calculated for the length of training and add to relevant totals in the AWS Billing dashboard."
   ]
  }
 ],
 "metadata": {
  "kernelspec": {
   "display_name": "conda_tensorflow_p27",
   "language": "python",
   "name": "conda_tensorflow_p27"
  },
  "language_info": {
   "codemirror_mode": {
    "name": "ipython",
    "version": 2
   },
   "file_extension": ".py",
   "mimetype": "text/x-python",
   "name": "python",
   "nbconvert_exporter": "python",
   "pygments_lexer": "ipython2",
   "version": "2.7.17"
  }
 },
 "nbformat": 4,
 "nbformat_minor": 4
}
