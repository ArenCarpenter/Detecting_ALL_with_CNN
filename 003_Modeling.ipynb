{
 "cells": [
  {
   "cell_type": "markdown",
   "metadata": {},
   "source": [
    "## Sagemaker"
   ]
  },
  {
   "cell_type": "code",
   "execution_count": 2,
   "metadata": {},
   "outputs": [],
   "source": [
    "# !pip install tensorflow"
   ]
  },
  {
   "cell_type": "code",
   "execution_count": 3,
   "metadata": {},
   "outputs": [],
   "source": [
    "# !pip install keras"
   ]
  },
  {
   "cell_type": "code",
   "execution_count": 1,
   "metadata": {},
   "outputs": [
    {
     "name": "stdout",
     "output_type": "stream",
     "text": [
      "WARNING:tensorflow:From /home/ec2-user/anaconda3/envs/tensorflow_p27/lib/python2.7/site-packages/tensorflow_core/__init__.py:1473: The name tf.estimator.inputs is deprecated. Please use tf.compat.v1.estimator.inputs instead.\n",
      "\n"
     ]
    },
    {
     "name": "stderr",
     "output_type": "stream",
     "text": [
      "Using TensorFlow backend.\n"
     ]
    }
   ],
   "source": [
    "import numpy as np\n",
    "import pandas as pd\n",
    "import matplotlib.pyplot as plt\n",
    "%matplotlib inline\n",
    "\n",
    "from PIL import Image\n",
    "import tensorflow\n",
    "import keras\n",
    "from tensorflow.keras.preprocessing import image\n",
    "from tensorflow.keras import models, layers, optimizers\n",
    "from keras.layers import Dropout\n",
    "\n",
    "import os\n",
    "import gc\n",
    "from timeit import default_timer as timer"
   ]
  },
  {
   "cell_type": "code",
   "execution_count": 2,
   "metadata": {},
   "outputs": [
    {
     "name": "stderr",
     "output_type": "stream",
     "text": [
      "No handlers could be found for logger \"sagemaker\"\n"
     ]
    }
   ],
   "source": [
    "import os\n",
    "import sagemaker\n",
    "import numpy as np\n",
    "from sagemaker.tensorflow import TensorFlow\n",
    "from tensorflow.python.keras.preprocessing.image import load_img"
   ]
  },
  {
   "cell_type": "code",
   "execution_count": 91,
   "metadata": {},
   "outputs": [],
   "source": [
    "sagemaker_session = sagemaker.Session()"
   ]
  },
  {
   "cell_type": "code",
   "execution_count": 92,
   "metadata": {},
   "outputs": [],
   "source": [
    "role = sagemaker.get_execution_role()"
   ]
  },
  {
   "cell_type": "code",
   "execution_count": 93,
   "metadata": {},
   "outputs": [],
   "source": [
    "bucket = \"sagemaker-all-cnn\"\n",
    "key = \"Data\"\n",
    "key_output = \"output\"                   # Path from the bucket's root to the dataset\n",
    "train_instance_type='ml.m4.xlarge'      # The type of EC2 instance which will be used for training\n",
    "deploy_instance_type='ml.m4.xlarge'     # The type of EC2 instance which will be used for deployment\n",
    "hyperparameters={\n",
    "    \"learning_rate\": 0.001,\n",
    "    \"decay\": 0.0001\n",
    "}"
   ]
  },
  {
   "cell_type": "code",
   "execution_count": 94,
   "metadata": {},
   "outputs": [],
   "source": [
    "train_input_path = \"s3://{}/{}/training/\".format(bucket, key)\n",
    "validation_input_path = \"s3://{}/{}/validation/\".format(bucket, key)"
   ]
  },
  {
   "cell_type": "code",
   "execution_count": 99,
   "metadata": {},
   "outputs": [],
   "source": [
    "estimator = TensorFlow(\n",
    "  entry_point=os.path.join(os.path.dirname('__file__'), \"Model_Scripts/Model_4x1C1D.py\"),             # Your entry script\n",
    "  role=role,\n",
    "  framework_version=\"1.12.0\",               # TensorFlow's version\n",
    "  hyperparameters=hyperparameters,\n",
    "  training_steps=150,\n",
    "  evaluation_steps=30,\n",
    "  train_instance_count=1,                   # \"The number of GPUs instances to use\"\n",
    "  train_instance_type=train_instance_type,\n",
    ")"
   ]
  },
  {
   "cell_type": "code",
   "execution_count": 100,
   "metadata": {},
   "outputs": [
    {
     "name": "stdout",
     "output_type": "stream",
     "text": [
      "Training ...\n",
      "2020-09-21 21:41:43 Starting - Starting the training job...\n",
      "2020-09-21 21:41:45 Starting - Launching requested ML instances......\n",
      "2020-09-21 21:43:08 Starting - Preparing the instances for training......\n",
      "2020-09-21 21:43:58 Downloading - Downloading input data......\n",
      "2020-09-21 21:45:02 Training - Downloading the training image..\u001b[34m2020-09-21 21:45:22,653 INFO - root - running container entrypoint\u001b[0m\n",
      "\u001b[34m2020-09-21 21:45:22,653 INFO - root - starting train task\u001b[0m\n",
      "\u001b[34m2020-09-21 21:45:22,668 INFO - container_support.training - Training starting\u001b[0m\n",
      "\u001b[34mDownloading s3://sagemaker-us-east-2-526614695497/sagemaker-tensorflow-2020-09-21-21-41-42-664/source/sourcedir.tar.gz to /tmp/script.tar.gz\u001b[0m\n",
      "\u001b[34m2020-09-21 21:45:26,649 INFO - tf_container - ----------------------TF_CONFIG--------------------------\u001b[0m\n",
      "\u001b[34m2020-09-21 21:45:26,650 INFO - tf_container - {\"environment\": \"cloud\", \"cluster\": {\"master\": [\"algo-1:2222\"]}, \"task\": {\"index\": 0, \"type\": \"master\"}}\u001b[0m\n",
      "\u001b[34m2020-09-21 21:45:26,650 INFO - tf_container - ---------------------------------------------------------\u001b[0m\n",
      "\u001b[34m2020-09-21 21:45:26,650 INFO - tf_container - creating RunConfig:\u001b[0m\n",
      "\u001b[34m2020-09-21 21:45:26,650 INFO - tf_container - {'save_checkpoints_secs': 300}\u001b[0m\n",
      "\u001b[34m2020-09-21 21:45:26,650 INFO - tensorflow - TF_CONFIG environment variable: {u'environment': u'cloud', u'cluster': {u'master': [u'algo-1:2222']}, u'task': {u'index': 0, u'type': u'master'}}\u001b[0m\n",
      "\u001b[34m2020-09-21 21:45:26,651 INFO - tf_container - invoking the user-provided keras_model_fn\u001b[0m\n",
      "\u001b[34m2020-09-21 21:45:26,879 INFO - tensorflow - Using the Keras model provided.\u001b[0m\n",
      "\u001b[34m2020-09-21 21:45:29,604 INFO - tensorflow - Using config: {'_save_checkpoints_secs': 300, '_keep_checkpoint_max': 5, '_task_type': u'master', '_cluster_spec': <tensorflow.python.training.server_lib.ClusterSpec object at 0x7fb0b7c17e50>, '_keep_checkpoint_every_n_hours': 10000, '_service': None, '_num_ps_replicas': 0, '_tf_random_seed': None, '_device_fn': None, '_num_worker_replicas': 1, '_task_id': 0, '_log_step_count_steps': 100, '_evaluation_master': '', '_eval_distribute': None, '_train_distribute': None, '_session_config': device_filters: \"/job:ps\"\u001b[0m\n",
      "\u001b[34mdevice_filters: \"/job:master\"\u001b[0m\n",
      "\u001b[34mallow_soft_placement: true\u001b[0m\n",
      "\u001b[34mgraph_options {\n",
      "  rewrite_options {\n",
      "    meta_optimizer_iterations: ONE\n",
      "  }\u001b[0m\n",
      "\u001b[34m}\u001b[0m\n",
      "\u001b[34m, '_global_id_in_cluster': 0, '_is_chief': True, '_protocol': None, '_save_checkpoints_steps': None, '_experimental_distribute': None, '_save_summary_steps': 100, '_model_dir': u's3://sagemaker-us-east-2-526614695497/sagemaker-tensorflow-2020-09-21-21-41-42-664/checkpoints', '_master': ''}\u001b[0m\n",
      "\u001b[34m2020-09-21 21:45:29,636 INFO - tensorflow - Not using Distribute Coordinator.\u001b[0m\n",
      "\u001b[34m2020-09-21 21:45:29,636 INFO - tensorflow - Skip starting Tensorflow server as there is only one node in the cluster.\u001b[0m\n",
      "\u001b[34mFound 3798 images belonging to 2 classes.\u001b[0m\n",
      "\n",
      "2020-09-21 21:45:22 Training - Training image download completed. Training in progress.\u001b[34m2020-09-21 21:45:30,329 INFO - tensorflow - Calling model_fn.\u001b[0m\n",
      "\u001b[34m2020-09-21 21:45:30,974 INFO - tensorflow - Done calling model_fn.\u001b[0m\n",
      "\u001b[34m2020-09-21 21:45:30,974 INFO - tensorflow - Warm-starting with WarmStartSettings: WarmStartSettings(ckpt_to_initialize_from=u's3://sagemaker-us-east-2-526614695497/sagemaker-tensorflow-2020-09-21-21-41-42-664/checkpoints/keras/keras_model.ckpt', vars_to_warm_start='.*', var_name_to_vocab_info={}, var_name_to_prev_var_name={})\u001b[0m\n",
      "\u001b[34m2020-09-21 21:45:30,974 INFO - tensorflow - Warm-starting from: (u's3://sagemaker-us-east-2-526614695497/sagemaker-tensorflow-2020-09-21-21-41-42-664/checkpoints/keras/keras_model.ckpt',)\u001b[0m\n",
      "\u001b[34m2020-09-21 21:45:30,975 INFO - tensorflow - Warm-starting variable: conv2d_2/kernel; prev_var_name: Unchanged\u001b[0m\n",
      "\u001b[34m2020-09-21 21:45:31,155 INFO - tensorflow - Warm-starting variable: dense_1/bias; prev_var_name: Unchanged\u001b[0m\n",
      "\u001b[34m2020-09-21 21:45:31,348 INFO - tensorflow - Warm-starting variable: conv2d_1/bias; prev_var_name: Unchanged\u001b[0m\n",
      "\u001b[34m2020-09-21 21:45:31,518 INFO - tensorflow - Warm-starting variable: dense/kernel; prev_var_name: Unchanged\u001b[0m\n",
      "\u001b[34m2020-09-21 21:45:31,708 INFO - tensorflow - Warm-starting variable: dense/bias; prev_var_name: Unchanged\u001b[0m\n",
      "\u001b[34m2020-09-21 21:45:31,957 INFO - tensorflow - Warm-starting variable: inputs/bias; prev_var_name: Unchanged\u001b[0m\n",
      "\u001b[34m2020-09-21 21:45:32,149 INFO - tensorflow - Warm-starting variable: inputs/kernel; prev_var_name: Unchanged\u001b[0m\n",
      "\u001b[34m2020-09-21 21:45:32,329 INFO - tensorflow - Warm-starting variable: dense_1/kernel; prev_var_name: Unchanged\u001b[0m\n",
      "\u001b[34m2020-09-21 21:45:32,504 INFO - tensorflow - Warm-starting variable: conv2d/bias; prev_var_name: Unchanged\u001b[0m\n",
      "\u001b[34m2020-09-21 21:45:32,768 INFO - tensorflow - Warm-starting variable: conv2d_1/kernel; prev_var_name: Unchanged\u001b[0m\n",
      "\u001b[34m2020-09-21 21:45:32,953 INFO - tensorflow - Warm-starting variable: conv2d_2/bias; prev_var_name: Unchanged\u001b[0m\n",
      "\u001b[34m2020-09-21 21:45:33,125 INFO - tensorflow - Warm-starting variable: conv2d/kernel; prev_var_name: Unchanged\u001b[0m\n",
      "\u001b[34m2020-09-21 21:45:33,316 INFO - tensorflow - Create CheckpointSaverHook.\u001b[0m\n",
      "\u001b[34m2020-09-21 21:45:34,443 INFO - tensorflow - Graph was finalized.\u001b[0m\n",
      "\u001b[34m2020-09-21 21:45:35,801 INFO - tensorflow - Running local_init_op.\u001b[0m\n",
      "\u001b[34m2020-09-21 21:45:35,810 INFO - tensorflow - Done running local_init_op.\u001b[0m\n",
      "\u001b[34m2020-09-21 21:45:40,191 INFO - tensorflow - Saving checkpoints for 0 into s3://sagemaker-us-east-2-526614695497/sagemaker-tensorflow-2020-09-21-21-41-42-664/checkpoints/model.ckpt.\u001b[0m\n",
      "\u001b[34m2020-09-21 21:45:47,209 INFO - tensorflow - loss = 0.69545096, step = 1\u001b[0m\n",
      "\u001b[34m2020-09-21 21:50:43,976 INFO - tensorflow - Saving checkpoints for 98 into s3://sagemaker-us-east-2-526614695497/sagemaker-tensorflow-2020-09-21-21-41-42-664/checkpoints/model.ckpt.\u001b[0m\n",
      "\u001b[34mFound 3798 images belonging to 2 classes.\u001b[0m\n",
      "\u001b[34m2020-09-21 21:50:48,293 INFO - tensorflow - Calling model_fn.\u001b[0m\n",
      "\u001b[34m2020-09-21 21:50:48,516 INFO - tensorflow - Done calling model_fn.\u001b[0m\n",
      "\u001b[34m2020-09-21 21:50:48,537 INFO - tensorflow - Starting evaluation at 2020-09-21-21:50:48\u001b[0m\n",
      "\u001b[34m2020-09-21 21:50:48,628 INFO - tensorflow - Graph was finalized.\u001b[0m\n",
      "\u001b[34m2020-09-21 21:50:48,711 INFO - tensorflow - Restoring parameters from s3://sagemaker-us-east-2-526614695497/sagemaker-tensorflow-2020-09-21-21-41-42-664/checkpoints/model.ckpt-98\u001b[0m\n",
      "\u001b[34m2020-09-21 21:50:49,296 INFO - tensorflow - Running local_init_op.\u001b[0m\n",
      "\u001b[34m2020-09-21 21:50:49,308 INFO - tensorflow - Done running local_init_op.\u001b[0m\n",
      "\u001b[34m2020-09-21 21:50:51,962 INFO - tensorflow - Evaluation [3/30]\u001b[0m\n",
      "\u001b[34m2020-09-21 21:50:54,267 INFO - tensorflow - Evaluation [6/30]\u001b[0m\n",
      "\u001b[34m2020-09-21 21:50:56,571 INFO - tensorflow - Evaluation [9/30]\u001b[0m\n",
      "\u001b[34m2020-09-21 21:50:58,926 INFO - tensorflow - Evaluation [12/30]\u001b[0m\n",
      "\u001b[34m2020-09-21 21:51:01,302 INFO - tensorflow - Evaluation [15/30]\u001b[0m\n",
      "\u001b[34m2020-09-21 21:51:03,667 INFO - tensorflow - Evaluation [18/30]\u001b[0m\n",
      "\u001b[34m2020-09-21 21:51:05,993 INFO - tensorflow - Evaluation [21/30]\u001b[0m\n",
      "\u001b[34m2020-09-21 21:51:08,363 INFO - tensorflow - Evaluation [24/30]\u001b[0m\n",
      "\u001b[34m2020-09-21 21:51:10,674 INFO - tensorflow - Evaluation [27/30]\u001b[0m\n",
      "\u001b[34m2020-09-21 21:51:13,034 INFO - tensorflow - Evaluation [30/30]\u001b[0m\n",
      "\u001b[34m2020-09-21 21:51:13,065 INFO - tensorflow - Finished evaluation at 2020-09-21-21:51:13\u001b[0m\n",
      "\u001b[34m2020-09-21 21:51:13,065 INFO - tensorflow - Saving dict for global step 98: accuracy = 0.84375, global_step = 98, loss = 1.9057199\u001b[0m\n",
      "\u001b[34m2020-09-21 21:51:14,572 INFO - tensorflow - Saving 'checkpoint_path' summary for global step 98: s3://sagemaker-us-east-2-526614695497/sagemaker-tensorflow-2020-09-21-21-41-42-664/checkpoints/model.ckpt-98\u001b[0m\n",
      "\u001b[34m2020-09-21 21:51:15,618 INFO - tensorflow - Calling model_fn.\u001b[0m\n",
      "\u001b[34m2020-09-21 21:51:15,727 INFO - tensorflow - Done calling model_fn.\u001b[0m\n",
      "\u001b[34m2020-09-21 21:51:15,727 INFO - tensorflow - Signatures INCLUDED in export for Eval: None\u001b[0m\n",
      "\u001b[34m2020-09-21 21:51:15,727 INFO - tensorflow - Signatures INCLUDED in export for Classify: None\u001b[0m\n",
      "\u001b[34m2020-09-21 21:51:15,727 INFO - tensorflow - Signatures INCLUDED in export for Regress: None\u001b[0m\n",
      "\u001b[34m2020-09-21 21:51:15,727 INFO - tensorflow - Signatures INCLUDED in export for Predict: ['serving_default']\u001b[0m\n",
      "\u001b[34m2020-09-21 21:51:15,727 INFO - tensorflow - Signatures INCLUDED in export for Train: None\u001b[0m\n",
      "\u001b[34m2020-09-21 21:51:15,826 INFO - tensorflow - Restoring parameters from s3://sagemaker-us-east-2-526614695497/sagemaker-tensorflow-2020-09-21-21-41-42-664/checkpoints/model.ckpt-98\u001b[0m\n",
      "\u001b[34m2020-09-21 21:51:16,483 WARNING - tensorflow - From /usr/local/lib/python2.7/dist-packages/tensorflow/python/estimator/estimator.py:1046: calling add_meta_graph_and_variables (from tensorflow.python.saved_model.builder_impl) with legacy_init_op is deprecated and will be removed in a future version.\u001b[0m\n",
      "\u001b[34mInstructions for updating:\u001b[0m\n",
      "\u001b[34mPass your op to the equivalent parameter main_op instead.\u001b[0m\n",
      "\u001b[34m2020-09-21 21:51:16,483 INFO - tensorflow - Assets added to graph.\u001b[0m\n",
      "\u001b[34m2020-09-21 21:51:16,483 INFO - tensorflow - No assets to write.\u001b[0m\n",
      "\u001b[34m2020-09-21 21:51:17,758 INFO - tensorflow - SavedModel written to: s3://sagemaker-us-east-2-526614695497/sagemaker-tensorflow-2020-09-21-21-41-42-664/checkpoints/export/Servo/1600725075/saved_model.pb\u001b[0m\n",
      "\u001b[34m2020-09-21 21:51:26,991 INFO - tensorflow - global_step/sec: 0.294306\u001b[0m\n",
      "\u001b[34m2020-09-21 21:51:26,992 INFO - tensorflow - loss = 6.1848027e-07, step = 101 (339.783 sec)\u001b[0m\n",
      "\u001b[34m2020-09-21 21:53:56,293 INFO - tensorflow - Saving checkpoints for 150 into s3://sagemaker-us-east-2-526614695497/sagemaker-tensorflow-2020-09-21-21-41-42-664/checkpoints/model.ckpt.\u001b[0m\n",
      "\u001b[34m2020-09-21 21:54:01,069 INFO - tensorflow - Skip the current checkpoint eval due to throttle secs (600 secs).\u001b[0m\n",
      "\u001b[34mFound 3798 images belonging to 2 classes.\u001b[0m\n",
      "\u001b[34m2020-09-21 21:54:01,441 INFO - tensorflow - Calling model_fn.\u001b[0m\n",
      "\u001b[34m2020-09-21 21:54:01,666 INFO - tensorflow - Done calling model_fn.\u001b[0m\n",
      "\u001b[34m2020-09-21 21:54:01,687 INFO - tensorflow - Starting evaluation at 2020-09-21-21:54:01\u001b[0m\n",
      "\u001b[34m2020-09-21 21:54:01,879 INFO - tensorflow - Graph was finalized.\u001b[0m\n",
      "\u001b[34m2020-09-21 21:54:01,958 INFO - tensorflow - Restoring parameters from s3://sagemaker-us-east-2-526614695497/sagemaker-tensorflow-2020-09-21-21-41-42-664/checkpoints/model.ckpt-150\u001b[0m\n",
      "\u001b[34m2020-09-21 21:54:02,443 INFO - tensorflow - Running local_init_op.\u001b[0m\n",
      "\u001b[34m2020-09-21 21:54:02,454 INFO - tensorflow - Done running local_init_op.\u001b[0m\n",
      "\u001b[34m2020-09-21 21:54:05,043 INFO - tensorflow - Evaluation [3/30]\u001b[0m\n",
      "\u001b[34m2020-09-21 21:54:07,342 INFO - tensorflow - Evaluation [6/30]\u001b[0m\n",
      "\u001b[34m2020-09-21 21:54:09,734 INFO - tensorflow - Evaluation [9/30]\u001b[0m\n",
      "\u001b[34m2020-09-21 21:54:12,039 INFO - tensorflow - Evaluation [12/30]\u001b[0m\n",
      "\u001b[34m2020-09-21 21:54:14,384 INFO - tensorflow - Evaluation [15/30]\u001b[0m\n",
      "\u001b[34m2020-09-21 21:54:16,685 INFO - tensorflow - Evaluation [18/30]\u001b[0m\n",
      "\u001b[34m2020-09-21 21:54:19,080 INFO - tensorflow - Evaluation [21/30]\u001b[0m\n",
      "\u001b[34m2020-09-21 21:54:21,419 INFO - tensorflow - Evaluation [24/30]\u001b[0m\n",
      "\u001b[34m2020-09-21 21:54:23,821 INFO - tensorflow - Evaluation [27/30]\u001b[0m\n",
      "\u001b[34m2020-09-21 21:54:26,142 INFO - tensorflow - Evaluation [30/30]\u001b[0m\n",
      "\u001b[34m2020-09-21 21:54:26,165 INFO - tensorflow - Finished evaluation at 2020-09-21-21:54:26\u001b[0m\n",
      "\u001b[34m2020-09-21 21:54:26,165 INFO - tensorflow - Saving dict for global step 150: accuracy = 0.6875, global_step = 150, loss = 3.6909387\u001b[0m\n",
      "\u001b[34m2020-09-21 21:54:26,884 INFO - tensorflow - Saving 'checkpoint_path' summary for global step 150: s3://sagemaker-us-east-2-526614695497/sagemaker-tensorflow-2020-09-21-21-41-42-664/checkpoints/model.ckpt-150\u001b[0m\n",
      "\u001b[34m2020-09-21 21:54:27,921 INFO - tensorflow - Calling model_fn.\u001b[0m\n",
      "\u001b[34m2020-09-21 21:54:28,029 INFO - tensorflow - Done calling model_fn.\u001b[0m\n",
      "\u001b[34m2020-09-21 21:54:28,029 INFO - tensorflow - Signatures INCLUDED in export for Eval: None\u001b[0m\n",
      "\u001b[34m2020-09-21 21:54:28,029 INFO - tensorflow - Signatures INCLUDED in export for Classify: None\u001b[0m\n",
      "\u001b[34m2020-09-21 21:54:28,029 INFO - tensorflow - Signatures INCLUDED in export for Regress: None\u001b[0m\n",
      "\u001b[34m2020-09-21 21:54:28,029 INFO - tensorflow - Signatures INCLUDED in export for Predict: ['serving_default']\u001b[0m\n",
      "\u001b[34m2020-09-21 21:54:28,029 INFO - tensorflow - Signatures INCLUDED in export for Train: None\u001b[0m\n",
      "\u001b[34m2020-09-21 21:54:28,133 INFO - tensorflow - Restoring parameters from s3://sagemaker-us-east-2-526614695497/sagemaker-tensorflow-2020-09-21-21-41-42-664/checkpoints/model.ckpt-150\u001b[0m\n",
      "\u001b[34m2020-09-21 21:54:28,641 INFO - tensorflow - Assets added to graph.\u001b[0m\n",
      "\u001b[34m2020-09-21 21:54:28,641 INFO - tensorflow - No assets to write.\u001b[0m\n",
      "\u001b[34m2020-09-21 21:54:30,105 INFO - tensorflow - SavedModel written to: s3://sagemaker-us-east-2-526614695497/sagemaker-tensorflow-2020-09-21-21-41-42-664/checkpoints/export/Servo/1600725267/saved_model.pb\u001b[0m\n",
      "\u001b[34m2020-09-21 21:54:30,232 INFO - tensorflow - Loss for final step: 2.6956116e-07.\u001b[0m\n",
      "\u001b[34m2020-09-21 21:54:30,710 INFO - tf_container - Downloaded saved model at /opt/ml/model/export/Servo/1600725267\u001b[0m\n",
      "\n",
      "2020-09-21 21:55:35 Uploading - Uploading generated training model\n",
      "2020-09-21 21:55:35 Completed - Training job completed\n",
      "Training seconds: 697\n",
      "Billable seconds: 697\n"
     ]
    }
   ],
   "source": [
    "print(\"Training ...\")\n",
    "estimator.fit({'training': train_input_path, 'eval': validation_input_path})"
   ]
  },
  {
   "cell_type": "code",
   "execution_count": null,
   "metadata": {},
   "outputs": [],
   "source": []
  }
 ],
 "metadata": {
  "kernelspec": {
   "display_name": "conda_tensorflow_p27",
   "language": "python",
   "name": "conda_tensorflow_p27"
  },
  "language_info": {
   "codemirror_mode": {
    "name": "ipython",
    "version": 2
   },
   "file_extension": ".py",
   "mimetype": "text/x-python",
   "name": "python",
   "nbconvert_exporter": "python",
   "pygments_lexer": "ipython2",
   "version": "2.7.17"
  }
 },
 "nbformat": 4,
 "nbformat_minor": 4
}
