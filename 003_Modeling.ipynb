{
 "cells": [
  {
   "cell_type": "markdown",
   "metadata": {},
   "source": [
    "## Sagemaker"
   ]
  },
  {
   "cell_type": "code",
   "execution_count": 2,
   "metadata": {},
   "outputs": [],
   "source": [
    "# !pip install tensorflow"
   ]
  },
  {
   "cell_type": "code",
   "execution_count": 3,
   "metadata": {},
   "outputs": [],
   "source": [
    "# !pip install keras"
   ]
  },
  {
   "cell_type": "code",
   "execution_count": 1,
   "metadata": {},
   "outputs": [
    {
     "name": "stdout",
     "output_type": "stream",
     "text": [
      "WARNING:tensorflow:From /home/ec2-user/anaconda3/envs/tensorflow_p27/lib/python2.7/site-packages/tensorflow_core/__init__.py:1473: The name tf.estimator.inputs is deprecated. Please use tf.compat.v1.estimator.inputs instead.\n",
      "\n"
     ]
    },
    {
     "name": "stderr",
     "output_type": "stream",
     "text": [
      "Using TensorFlow backend.\n"
     ]
    }
   ],
   "source": [
    "import numpy as np\n",
    "import pandas as pd\n",
    "import matplotlib.pyplot as plt\n",
    "%matplotlib inline\n",
    "\n",
    "from PIL import Image\n",
    "import tensorflow\n",
    "import keras\n",
    "from tensorflow.keras.preprocessing import image\n",
    "from tensorflow.keras import models, layers, optimizers\n",
    "from keras.layers import Dropout\n",
    "\n",
    "import os\n",
    "import gc\n",
    "from timeit import default_timer as timer"
   ]
  },
  {
   "cell_type": "code",
   "execution_count": 2,
   "metadata": {},
   "outputs": [
    {
     "name": "stderr",
     "output_type": "stream",
     "text": [
      "No handlers could be found for logger \"sagemaker\"\n"
     ]
    }
   ],
   "source": [
    "import os\n",
    "import sagemaker\n",
    "import numpy as np\n",
    "from sagemaker.tensorflow import TensorFlow\n",
    "from tensorflow.python.keras.preprocessing.image import load_img"
   ]
  },
  {
   "cell_type": "code",
   "execution_count": 33,
   "metadata": {},
   "outputs": [],
   "source": [
    "sagemaker_session = sagemaker.Session()"
   ]
  },
  {
   "cell_type": "code",
   "execution_count": 34,
   "metadata": {},
   "outputs": [],
   "source": [
    "role = sagemaker.get_execution_role()"
   ]
  },
  {
   "cell_type": "code",
   "execution_count": 35,
   "metadata": {},
   "outputs": [],
   "source": [
    "bucket = \"sagemaker-all-cnn\"\n",
    "key = \"Data\"\n",
    "key_output = \"output\"                   # Path from the bucket's root to the dataset\n",
    "train_instance_type='ml.m4.xlarge'      # The type of EC2 instance which will be used for training\n",
    "deploy_instance_type='ml.m4.xlarge'     # The type of EC2 instance which will be used for deployment\n",
    "hyperparameters={\n",
    "    \"learning_rate\": 0.001,\n",
    "    \"decay\": 0.0001\n",
    "}"
   ]
  },
  {
   "cell_type": "code",
   "execution_count": 36,
   "metadata": {},
   "outputs": [],
   "source": [
    "train_input_path = \"s3://{}/{}/training/\".format(bucket, key)\n",
    "validation_input_path = \"s3://{}/{}/validation/\".format(bucket, key)"
   ]
  },
  {
   "cell_type": "code",
   "execution_count": 41,
   "metadata": {},
   "outputs": [],
   "source": [
    "estimator = TensorFlow(\n",
    "  entry_point=os.path.join(os.path.dirname('__file__'), \"Model_Scripts/Model_Baseline.py\"),             # Your entry script\n",
    "  role=role,\n",
    "  framework_version=\"1.12.0\",               # TensorFlow's version\n",
    "  hyperparameters=hyperparameters,\n",
    "  training_steps=100,\n",
    "  evaluation_steps=30,\n",
    "  train_instance_count=1,                   # \"The number of GPUs instances to use\"\n",
    "  train_instance_type=train_instance_type,\n",
    ")"
   ]
  },
  {
   "cell_type": "code",
   "execution_count": 42,
   "metadata": {},
   "outputs": [
    {
     "name": "stdout",
     "output_type": "stream",
     "text": [
      "Training ...\n",
      "2020-09-22 16:09:18 Starting - Starting the training job...\n",
      "2020-09-22 16:09:20 Starting - Launching requested ML instances......\n",
      "2020-09-22 16:10:30 Starting - Preparing the instances for training...\n",
      "2020-09-22 16:11:19 Downloading - Downloading input data.........\n",
      "2020-09-22 16:12:40 Training - Training image download completed. Training in progress.\u001b[34m2020-09-22 16:12:40,664 INFO - root - running container entrypoint\u001b[0m\n",
      "\u001b[34m2020-09-22 16:12:40,664 INFO - root - starting train task\u001b[0m\n",
      "\u001b[34m2020-09-22 16:12:40,679 INFO - container_support.training - Training starting\u001b[0m\n",
      "\u001b[34mDownloading s3://sagemaker-us-east-2-526614695497/sagemaker-tensorflow-2020-09-22-16-09-18-120/source/sourcedir.tar.gz to /tmp/script.tar.gz\u001b[0m\n",
      "\u001b[34m2020-09-22 16:12:43,912 INFO - tf_container - ----------------------TF_CONFIG--------------------------\u001b[0m\n",
      "\u001b[34m2020-09-22 16:12:43,913 INFO - tf_container - {\"environment\": \"cloud\", \"cluster\": {\"master\": [\"algo-1:2222\"]}, \"task\": {\"index\": 0, \"type\": \"master\"}}\u001b[0m\n",
      "\u001b[34m2020-09-22 16:12:43,913 INFO - tf_container - ---------------------------------------------------------\u001b[0m\n",
      "\u001b[34m2020-09-22 16:12:43,913 INFO - tf_container - creating RunConfig:\u001b[0m\n",
      "\u001b[34m2020-09-22 16:12:43,913 INFO - tf_container - {'save_checkpoints_secs': 300}\u001b[0m\n",
      "\u001b[34m2020-09-22 16:12:43,913 INFO - tensorflow - TF_CONFIG environment variable: {u'environment': u'cloud', u'cluster': {u'master': [u'algo-1:2222']}, u'task': {u'index': 0, u'type': u'master'}}\u001b[0m\n",
      "\u001b[34m2020-09-22 16:12:43,914 INFO - tf_container - invoking the user-provided keras_model_fn\u001b[0m\n",
      "\u001b[34m2020-09-22 16:12:44,080 INFO - tensorflow - Using the Keras model provided.\u001b[0m\n",
      "\u001b[34m2020-09-22 16:13:07,391 INFO - tensorflow - Using config: {'_save_checkpoints_secs': 300, '_keep_checkpoint_max': 5, '_task_type': u'master', '_cluster_spec': <tensorflow.python.training.server_lib.ClusterSpec object at 0x7f9c224dbdd0>, '_keep_checkpoint_every_n_hours': 10000, '_service': None, '_num_ps_replicas': 0, '_tf_random_seed': None, '_device_fn': None, '_num_worker_replicas': 1, '_task_id': 0, '_log_step_count_steps': 100, '_evaluation_master': '', '_eval_distribute': None, '_train_distribute': None, '_session_config': device_filters: \"/job:ps\"\u001b[0m\n",
      "\u001b[34mdevice_filters: \"/job:master\"\u001b[0m\n",
      "\u001b[34mallow_soft_placement: true\u001b[0m\n",
      "\u001b[34mgraph_options {\n",
      "  rewrite_options {\n",
      "    meta_optimizer_iterations: ONE\n",
      "  }\u001b[0m\n",
      "\u001b[34m}\u001b[0m\n",
      "\u001b[34m, '_global_id_in_cluster': 0, '_is_chief': True, '_protocol': None, '_save_checkpoints_steps': None, '_experimental_distribute': None, '_save_summary_steps': 100, '_model_dir': u's3://sagemaker-us-east-2-526614695497/sagemaker-tensorflow-2020-09-22-16-09-18-120/checkpoints', '_master': ''}\u001b[0m\n",
      "\u001b[34m2020-09-22 16:13:07,409 INFO - tensorflow - Not using Distribute Coordinator.\u001b[0m\n",
      "\u001b[34m2020-09-22 16:13:07,410 INFO - tensorflow - Skip starting Tensorflow server as there is only one node in the cluster.\u001b[0m\n",
      "\u001b[34mFound 3798 images belonging to 2 classes.\u001b[0m\n",
      "\u001b[34m2020-09-22 16:13:08,493 INFO - tensorflow - Calling model_fn.\u001b[0m\n",
      "\u001b[34m2020-09-22 16:13:08,880 INFO - tensorflow - Done calling model_fn.\u001b[0m\n",
      "\u001b[34m2020-09-22 16:13:08,881 INFO - tensorflow - Warm-starting with WarmStartSettings: WarmStartSettings(ckpt_to_initialize_from=u's3://sagemaker-us-east-2-526614695497/sagemaker-tensorflow-2020-09-22-16-09-18-120/checkpoints/keras/keras_model.ckpt', vars_to_warm_start='.*', var_name_to_vocab_info={}, var_name_to_prev_var_name={})\u001b[0m\n",
      "\u001b[34m2020-09-22 16:13:08,881 INFO - tensorflow - Warm-starting from: (u's3://sagemaker-us-east-2-526614695497/sagemaker-tensorflow-2020-09-22-16-09-18-120/checkpoints/keras/keras_model.ckpt',)\u001b[0m\n",
      "\u001b[34m2020-09-22 16:13:08,881 INFO - tensorflow - Warm-starting variable: dense/bias; prev_var_name: Unchanged\u001b[0m\n",
      "\u001b[34m2020-09-22 16:13:09,076 INFO - tensorflow - Warm-starting variable: inputs/bias; prev_var_name: Unchanged\u001b[0m\n",
      "\u001b[34m2020-09-22 16:13:09,270 INFO - tensorflow - Warm-starting variable: inputs/kernel; prev_var_name: Unchanged\u001b[0m\n",
      "\u001b[34m2020-09-22 16:13:09,442 INFO - tensorflow - Warm-starting variable: dense_1/kernel; prev_var_name: Unchanged\u001b[0m\n",
      "\u001b[34m2020-09-22 16:13:09,612 INFO - tensorflow - Warm-starting variable: dense_1/bias; prev_var_name: Unchanged\u001b[0m\n",
      "\u001b[34m2020-09-22 16:13:09,813 INFO - tensorflow - Warm-starting variable: dense/kernel; prev_var_name: Unchanged\u001b[0m\n",
      "\u001b[34m2020-09-22 16:13:09,990 INFO - tensorflow - Create CheckpointSaverHook.\u001b[0m\n",
      "\u001b[34m2020-09-22 16:13:10,877 INFO - tensorflow - Graph was finalized.\u001b[0m\n",
      "\u001b[34m2020-09-22 16:13:18,765 INFO - tensorflow - Running local_init_op.\u001b[0m\n",
      "\u001b[34m2020-09-22 16:13:18,772 INFO - tensorflow - Done running local_init_op.\u001b[0m\n",
      "\u001b[34m2020-09-22 16:13:23,054 INFO - tensorflow - Saving checkpoints for 0 into s3://sagemaker-us-east-2-526614695497/sagemaker-tensorflow-2020-09-22-16-09-18-120/checkpoints/model.ckpt.\u001b[0m\n",
      "\u001b[34m2020-09-22 16:14:05,189 INFO - tensorflow - loss = 0.68530726, step = 1\u001b[0m\n",
      "\u001b[34m2020-09-22 16:15:50,895 INFO - tensorflow - Saving checkpoints for 100 into s3://sagemaker-us-east-2-526614695497/sagemaker-tensorflow-2020-09-22-16-09-18-120/checkpoints/model.ckpt.\u001b[0m\n",
      "\u001b[34mFound 3798 images belonging to 2 classes.\u001b[0m\n",
      "\u001b[34m2020-09-22 16:16:30,854 INFO - tensorflow - Calling model_fn.\u001b[0m\n",
      "\u001b[34m2020-09-22 16:16:31,100 INFO - tensorflow - Done calling model_fn.\u001b[0m\n",
      "\u001b[34m2020-09-22 16:16:31,121 INFO - tensorflow - Starting evaluation at 2020-09-22-16:16:31\u001b[0m\n",
      "\u001b[34m2020-09-22 16:16:31,199 INFO - tensorflow - Graph was finalized.\u001b[0m\n",
      "\u001b[34m2020-09-22 16:16:31,266 INFO - tensorflow - Restoring parameters from s3://sagemaker-us-east-2-526614695497/sagemaker-tensorflow-2020-09-22-16-09-18-120/checkpoints/model.ckpt-100\u001b[0m\n",
      "\u001b[34m2020-09-22 16:16:36,992 INFO - tensorflow - Running local_init_op.\u001b[0m\n",
      "\u001b[34m2020-09-22 16:16:37,002 INFO - tensorflow - Done running local_init_op.\u001b[0m\n",
      "\u001b[34m2020-09-22 16:16:38,058 INFO - tensorflow - Evaluation [3/30]\u001b[0m\n",
      "\u001b[34m2020-09-22 16:16:38,860 INFO - tensorflow - Evaluation [6/30]\u001b[0m\n",
      "\u001b[34m2020-09-22 16:16:39,658 INFO - tensorflow - Evaluation [9/30]\u001b[0m\n",
      "\u001b[34m2020-09-22 16:16:40,463 INFO - tensorflow - Evaluation [12/30]\u001b[0m\n",
      "\u001b[34m2020-09-22 16:16:41,298 INFO - tensorflow - Evaluation [15/30]\u001b[0m\n",
      "\u001b[34m2020-09-22 16:16:42,104 INFO - tensorflow - Evaluation [18/30]\u001b[0m\n",
      "\u001b[34m2020-09-22 16:16:42,909 INFO - tensorflow - Evaluation [21/30]\u001b[0m\n",
      "\u001b[34m2020-09-22 16:16:43,717 INFO - tensorflow - Evaluation [24/30]\u001b[0m\n",
      "\u001b[34m2020-09-22 16:16:44,527 INFO - tensorflow - Evaluation [27/30]\u001b[0m\n",
      "\u001b[34m2020-09-22 16:16:45,336 INFO - tensorflow - Evaluation [30/30]\u001b[0m\n",
      "\u001b[34m2020-09-22 16:16:45,358 INFO - tensorflow - Finished evaluation at 2020-09-22-16:16:45\u001b[0m\n",
      "\u001b[34m2020-09-22 16:16:45,358 INFO - tensorflow - Saving dict for global step 100: accuracy = 0.6875, global_step = 100, loss = 2.3850868\u001b[0m\n",
      "\u001b[34m2020-09-22 16:16:46,855 INFO - tensorflow - Saving 'checkpoint_path' summary for global step 100: s3://sagemaker-us-east-2-526614695497/sagemaker-tensorflow-2020-09-22-16-09-18-120/checkpoints/model.ckpt-100\u001b[0m\n",
      "\u001b[34m2020-09-22 16:16:47,817 INFO - tensorflow - Calling model_fn.\u001b[0m\n",
      "\u001b[34m2020-09-22 16:16:47,873 INFO - tensorflow - Done calling model_fn.\u001b[0m\n",
      "\u001b[34m2020-09-22 16:16:47,873 INFO - tensorflow - Signatures INCLUDED in export for Eval: None\u001b[0m\n",
      "\u001b[34m2020-09-22 16:16:47,873 INFO - tensorflow - Signatures INCLUDED in export for Classify: None\u001b[0m\n",
      "\u001b[34m2020-09-22 16:16:47,873 INFO - tensorflow - Signatures INCLUDED in export for Regress: None\u001b[0m\n",
      "\u001b[34m2020-09-22 16:16:47,873 INFO - tensorflow - Signatures INCLUDED in export for Predict: ['serving_default']\u001b[0m\n",
      "\u001b[34m2020-09-22 16:16:47,873 INFO - tensorflow - Signatures INCLUDED in export for Train: None\u001b[0m\n",
      "\u001b[34m2020-09-22 16:16:48,005 INFO - tensorflow - Restoring parameters from s3://sagemaker-us-east-2-526614695497/sagemaker-tensorflow-2020-09-22-16-09-18-120/checkpoints/model.ckpt-100\u001b[0m\n",
      "\u001b[34m2020-09-22 16:16:53,836 WARNING - tensorflow - From /usr/local/lib/python2.7/dist-packages/tensorflow/python/estimator/estimator.py:1046: calling add_meta_graph_and_variables (from tensorflow.python.saved_model.builder_impl) with legacy_init_op is deprecated and will be removed in a future version.\u001b[0m\n",
      "\u001b[34mInstructions for updating:\u001b[0m\n",
      "\u001b[34mPass your op to the equivalent parameter main_op instead.\u001b[0m\n",
      "\u001b[34m2020-09-22 16:16:53,836 INFO - tensorflow - Assets added to graph.\u001b[0m\n",
      "\u001b[34m2020-09-22 16:16:53,836 INFO - tensorflow - No assets to write.\u001b[0m\n",
      "\u001b[34m2020-09-22 16:17:06,699 INFO - tensorflow - SavedModel written to: s3://sagemaker-us-east-2-526614695497/sagemaker-tensorflow-2020-09-22-16-09-18-120/checkpoints/export/Servo/1600791407/saved_model.pb\u001b[0m\n",
      "\u001b[34m2020-09-22 16:17:06,764 INFO - tensorflow - Loss for final step: 7.306212e-07.\u001b[0m\n",
      "\u001b[34m2020-09-22 16:17:12,030 INFO - tf_container - Downloaded saved model at /opt/ml/model/export/Servo/1600791407\u001b[0m\n",
      "\n",
      "2020-09-22 16:18:12 Uploading - Uploading generated training model\n",
      "2020-09-22 16:19:29 Completed - Training job completed\n",
      "Training seconds: 490\n",
      "Billable seconds: 490\n"
     ]
    }
   ],
   "source": [
    "print(\"Training ...\")\n",
    "estimator.fit({'training': train_input_path, 'eval': validation_input_path})"
   ]
  },
  {
   "cell_type": "code",
   "execution_count": null,
   "metadata": {},
   "outputs": [],
   "source": []
  }
 ],
 "metadata": {
  "kernelspec": {
   "display_name": "conda_tensorflow_p27",
   "language": "python",
   "name": "conda_tensorflow_p27"
  },
  "language_info": {
   "codemirror_mode": {
    "name": "ipython",
    "version": 2
   },
   "file_extension": ".py",
   "mimetype": "text/x-python",
   "name": "python",
   "nbconvert_exporter": "python",
   "pygments_lexer": "ipython2",
   "version": "2.7.17"
  }
 },
 "nbformat": 4,
 "nbformat_minor": 4
}
