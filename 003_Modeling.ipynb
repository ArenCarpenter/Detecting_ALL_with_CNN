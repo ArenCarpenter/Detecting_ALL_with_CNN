{
 "cells": [
  {
   "cell_type": "markdown",
   "metadata": {},
   "source": [
    "## Sagemaker"
   ]
  },
  {
   "cell_type": "code",
   "execution_count": 2,
   "metadata": {},
   "outputs": [],
   "source": [
    "# !pip install tensorflow"
   ]
  },
  {
   "cell_type": "code",
   "execution_count": 3,
   "metadata": {},
   "outputs": [],
   "source": [
    "# !pip install keras"
   ]
  },
  {
   "cell_type": "code",
   "execution_count": 31,
   "metadata": {},
   "outputs": [],
   "source": [
    "import numpy as np\n",
    "import pandas as pd\n",
    "import matplotlib.pyplot as plt\n",
    "%matplotlib inline\n",
    "\n",
    "from PIL import Image\n",
    "import tensorflow\n",
    "import keras\n",
    "from tensorflow.keras.preprocessing import image\n",
    "from tensorflow.keras import models, layers, optimizers\n",
    "from keras.layers import Dropout\n",
    "\n",
    "import os\n",
    "import gc\n",
    "from timeit import default_timer as timer"
   ]
  },
  {
   "cell_type": "code",
   "execution_count": 32,
   "metadata": {},
   "outputs": [],
   "source": [
    "import os\n",
    "import sagemaker\n",
    "import numpy as np\n",
    "from sagemaker.tensorflow import TensorFlow\n",
    "from tensorflow.python.keras.preprocessing.image import load_img"
   ]
  },
  {
   "cell_type": "code",
   "execution_count": 39,
   "metadata": {},
   "outputs": [],
   "source": [
    "sagemaker_session = sagemaker.Session()"
   ]
  },
  {
   "cell_type": "code",
   "execution_count": 40,
   "metadata": {},
   "outputs": [],
   "source": [
    "role = sagemaker.get_execution_role()"
   ]
  },
  {
   "cell_type": "code",
   "execution_count": 41,
   "metadata": {},
   "outputs": [],
   "source": [
    "bucket = \"sagemaker-all-cnn\"\n",
    "key = \"Data\"\n",
    "key_output = \"output\"                   # Path from the bucket's root to the dataset\n",
    "train_instance_type='ml.m4.xlarge'      # The type of EC2 instance which will be used for training\n",
    "deploy_instance_type='ml.m4.xlarge'     # The type of EC2 instance which will be used for deployment\n",
    "hyperparameters={\n",
    "    \"learning_rate\": 1e-4,\n",
    "    \"decay\": 1e-6\n",
    "}"
   ]
  },
  {
   "cell_type": "code",
   "execution_count": 42,
   "metadata": {},
   "outputs": [],
   "source": [
    "train_input_path = \"s3://{}/{}/training/\".format(bucket, key)\n",
    "validation_input_path = \"s3://{}/{}/validation/\".format(bucket, key)"
   ]
  },
  {
   "cell_type": "code",
   "execution_count": 43,
   "metadata": {},
   "outputs": [],
   "source": [
    "estimator = TensorFlow(\n",
    "  entry_point=os.path.join(os.path.dirname('__file__'), \"Model_Scripts/start_script2.py\"),             # Your entry script\n",
    "  role=role,\n",
    "  framework_version=\"1.12.0\",               # TensorFlow's version\n",
    "  hyperparameters=hyperparameters,\n",
    "  training_steps=100,\n",
    "  evaluation_steps=30,\n",
    "  train_instance_count=1,                   # \"The number of GPUs instances to use\"\n",
    "  train_instance_type=train_instance_type,\n",
    ")"
   ]
  },
  {
   "cell_type": "code",
   "execution_count": 44,
   "metadata": {},
   "outputs": [
    {
     "name": "stdout",
     "output_type": "stream",
     "text": [
      "Training ...\n",
      "2020-09-17 22:00:37 Starting - Starting the training job...\n",
      "2020-09-17 22:00:39 Starting - Launching requested ML instances......\n",
      "2020-09-17 22:01:47 Starting - Preparing the instances for training......\n",
      "2020-09-17 22:02:40 Downloading - Downloading input data......\n",
      "2020-09-17 22:04:07 Training - Training image download completed. Training in progress..\u001b[34m2020-09-17 22:04:07,242 INFO - root - running container entrypoint\u001b[0m\n",
      "\u001b[34m2020-09-17 22:04:07,242 INFO - root - starting train task\u001b[0m\n",
      "\u001b[34m2020-09-17 22:04:07,258 INFO - container_support.training - Training starting\u001b[0m\n",
      "\u001b[34mDownloading s3://sagemaker-us-east-2-526614695497/sagemaker-tensorflow-2020-09-17-22-00-36-844/source/sourcedir.tar.gz to /tmp/script.tar.gz\u001b[0m\n",
      "\u001b[34m2020-09-17 22:04:10,301 INFO - tf_container - ----------------------TF_CONFIG--------------------------\u001b[0m\n",
      "\u001b[34m2020-09-17 22:04:10,302 INFO - tf_container - {\"environment\": \"cloud\", \"cluster\": {\"master\": [\"algo-1:2222\"]}, \"task\": {\"index\": 0, \"type\": \"master\"}}\u001b[0m\n",
      "\u001b[34m2020-09-17 22:04:10,302 INFO - tf_container - ---------------------------------------------------------\u001b[0m\n",
      "\u001b[34m2020-09-17 22:04:10,302 INFO - tf_container - creating RunConfig:\u001b[0m\n",
      "\u001b[34m2020-09-17 22:04:10,302 INFO - tf_container - {'save_checkpoints_secs': 300}\u001b[0m\n",
      "\u001b[34m2020-09-17 22:04:10,302 INFO - tensorflow - TF_CONFIG environment variable: {u'environment': u'cloud', u'cluster': {u'master': [u'algo-1:2222']}, u'task': {u'index': 0, u'type': u'master'}}\u001b[0m\n",
      "\u001b[34m2020-09-17 22:04:10,303 INFO - tf_container - invoking the user-provided keras_model_fn\u001b[0m\n",
      "\u001b[34m2020-09-17 22:04:10,606 INFO - tensorflow - Using the Keras model provided.\u001b[0m\n",
      "\u001b[34m2020-09-17 22:04:13,480 INFO - tensorflow - Using config: {'_save_checkpoints_secs': 300, '_keep_checkpoint_max': 5, '_task_type': u'master', '_cluster_spec': <tensorflow.python.training.server_lib.ClusterSpec object at 0x7f0ceb798e10>, '_keep_checkpoint_every_n_hours': 10000, '_service': None, '_num_ps_replicas': 0, '_tf_random_seed': None, '_device_fn': None, '_num_worker_replicas': 1, '_task_id': 0, '_log_step_count_steps': 100, '_evaluation_master': '', '_eval_distribute': None, '_train_distribute': None, '_session_config': device_filters: \"/job:ps\"\u001b[0m\n",
      "\u001b[34mdevice_filters: \"/job:master\"\u001b[0m\n",
      "\u001b[34mallow_soft_placement: true\u001b[0m\n",
      "\u001b[34mgraph_options {\n",
      "  rewrite_options {\n",
      "    meta_optimizer_iterations: ONE\n",
      "  }\u001b[0m\n",
      "\u001b[34m}\u001b[0m\n",
      "\u001b[34m, '_global_id_in_cluster': 0, '_is_chief': True, '_protocol': None, '_save_checkpoints_steps': None, '_experimental_distribute': None, '_save_summary_steps': 100, '_model_dir': u's3://sagemaker-us-east-2-526614695497/sagemaker-tensorflow-2020-09-17-22-00-36-844/checkpoints', '_master': ''}\u001b[0m\n",
      "\u001b[34m2020-09-17 22:04:13,501 INFO - tensorflow - Not using Distribute Coordinator.\u001b[0m\n",
      "\u001b[34m2020-09-17 22:04:13,502 INFO - tensorflow - Skip starting Tensorflow server as there is only one node in the cluster.\u001b[0m\n",
      "\u001b[34mFound 3798 images belonging to 2 classes.\u001b[0m\n",
      "\u001b[34m2020-09-17 22:04:16,426 INFO - tensorflow - Calling model_fn.\u001b[0m\n",
      "\u001b[34m2020-09-17 22:04:17,727 INFO - tensorflow - Done calling model_fn.\u001b[0m\n",
      "\u001b[34m2020-09-17 22:04:17,727 INFO - tensorflow - Warm-starting with WarmStartSettings: WarmStartSettings(ckpt_to_initialize_from=u's3://sagemaker-us-east-2-526614695497/sagemaker-tensorflow-2020-09-17-22-00-36-844/checkpoints/keras/keras_model.ckpt', vars_to_warm_start='.*', var_name_to_vocab_info={}, var_name_to_prev_var_name={})\u001b[0m\n",
      "\u001b[34m2020-09-17 22:04:17,727 INFO - tensorflow - Warm-starting from: (u's3://sagemaker-us-east-2-526614695497/sagemaker-tensorflow-2020-09-17-22-00-36-844/checkpoints/keras/keras_model.ckpt',)\u001b[0m\n",
      "\u001b[34m2020-09-17 22:04:17,727 INFO - tensorflow - Warm-starting variable: conv2d_2/kernel; prev_var_name: Unchanged\u001b[0m\n",
      "\u001b[34m2020-09-17 22:04:17,919 INFO - tensorflow - Warm-starting variable: dense_1/bias; prev_var_name: Unchanged\u001b[0m\n",
      "\u001b[34m2020-09-17 22:04:18,090 INFO - tensorflow - Warm-starting variable: dense_2/kernel; prev_var_name: Unchanged\u001b[0m\n",
      "\u001b[34m2020-09-17 22:04:18,268 INFO - tensorflow - Warm-starting variable: conv2d_1/bias; prev_var_name: Unchanged\u001b[0m\n",
      "\u001b[34m2020-09-17 22:04:18,442 INFO - tensorflow - Warm-starting variable: dense/kernel; prev_var_name: Unchanged\u001b[0m\n",
      "\u001b[34m2020-09-17 22:04:18,670 INFO - tensorflow - Warm-starting variable: conv2d_3/bias; prev_var_name: Unchanged\u001b[0m\n",
      "\u001b[34m2020-09-17 22:04:18,969 INFO - tensorflow - Warm-starting variable: dense/bias; prev_var_name: Unchanged\u001b[0m\n",
      "\u001b[34m2020-09-17 22:04:19,152 INFO - tensorflow - Warm-starting variable: inputs/bias; prev_var_name: Unchanged\u001b[0m\n",
      "\u001b[34m2020-09-17 22:04:19,322 INFO - tensorflow - Warm-starting variable: inputs/kernel; prev_var_name: Unchanged\u001b[0m\n",
      "\u001b[34m2020-09-17 22:04:19,506 INFO - tensorflow - Warm-starting variable: dense_1/kernel; prev_var_name: Unchanged\u001b[0m\n",
      "\u001b[34m2020-09-17 22:04:19,747 INFO - tensorflow - Warm-starting variable: conv2d_3/kernel; prev_var_name: Unchanged\u001b[0m\n",
      "\u001b[34m2020-09-17 22:04:19,937 INFO - tensorflow - Warm-starting variable: dense_2/bias; prev_var_name: Unchanged\u001b[0m\n",
      "\u001b[34m2020-09-17 22:04:20,114 INFO - tensorflow - Warm-starting variable: conv2d/bias; prev_var_name: Unchanged\u001b[0m\n",
      "\u001b[34m2020-09-17 22:04:20,318 INFO - tensorflow - Warm-starting variable: conv2d_1/kernel; prev_var_name: Unchanged\u001b[0m\n",
      "\u001b[34m2020-09-17 22:04:20,510 INFO - tensorflow - Warm-starting variable: conv2d_2/bias; prev_var_name: Unchanged\u001b[0m\n",
      "\u001b[34m2020-09-17 22:04:20,684 INFO - tensorflow - Warm-starting variable: conv2d/kernel; prev_var_name: Unchanged\u001b[0m\n",
      "\u001b[34m2020-09-17 22:04:20,865 INFO - tensorflow - Create CheckpointSaverHook.\u001b[0m\n",
      "\u001b[34m2020-09-17 22:04:24,802 INFO - tensorflow - Graph was finalized.\u001b[0m\n",
      "\u001b[34m2020-09-17 22:04:26,565 INFO - tensorflow - Running local_init_op.\u001b[0m\n",
      "\u001b[34m2020-09-17 22:04:26,575 INFO - tensorflow - Done running local_init_op.\u001b[0m\n",
      "\u001b[34m2020-09-17 22:04:52,313 INFO - tensorflow - Saving checkpoints for 0 into s3://sagemaker-us-east-2-526614695497/sagemaker-tensorflow-2020-09-17-22-00-36-844/checkpoints/model.ckpt.\u001b[0m\n",
      "\u001b[34m2020-09-17 22:05:07,479 INFO - tensorflow - loss = 0.6928328, step = 1\u001b[0m\n",
      "\u001b[34m2020-09-17 22:10:00,664 INFO - tensorflow - Saving checkpoints for 39 into s3://sagemaker-us-east-2-526614695497/sagemaker-tensorflow-2020-09-17-22-00-36-844/checkpoints/model.ckpt.\u001b[0m\n",
      "\u001b[34mFound 3798 images belonging to 2 classes.\u001b[0m\n",
      "\u001b[34m2020-09-17 22:10:12,461 INFO - tensorflow - Calling model_fn.\u001b[0m\n",
      "\u001b[34m2020-09-17 22:10:13,190 INFO - tensorflow - Done calling model_fn.\u001b[0m\n",
      "\u001b[34m2020-09-17 22:10:13,217 INFO - tensorflow - Starting evaluation at 2020-09-17-22:10:13\u001b[0m\n",
      "\u001b[34m2020-09-17 22:10:13,327 INFO - tensorflow - Graph was finalized.\u001b[0m\n",
      "\u001b[34m2020-09-17 22:10:13,394 INFO - tensorflow - Restoring parameters from s3://sagemaker-us-east-2-526614695497/sagemaker-tensorflow-2020-09-17-22-00-36-844/checkpoints/model.ckpt-39\u001b[0m\n",
      "\u001b[34m2020-09-17 22:10:13,937 INFO - tensorflow - Running local_init_op.\u001b[0m\n",
      "\u001b[34m2020-09-17 22:10:13,948 INFO - tensorflow - Done running local_init_op.\u001b[0m\n",
      "\u001b[34m2020-09-17 22:10:20,821 INFO - tensorflow - Evaluation [3/30]\u001b[0m\n",
      "\u001b[34m2020-09-17 22:10:26,611 INFO - tensorflow - Evaluation [6/30]\u001b[0m\n",
      "\u001b[34m2020-09-17 22:10:32,418 INFO - tensorflow - Evaluation [9/30]\u001b[0m\n",
      "\u001b[34m2020-09-17 22:10:38,217 INFO - tensorflow - Evaluation [12/30]\u001b[0m\n",
      "\u001b[34m2020-09-17 22:10:44,064 INFO - tensorflow - Evaluation [15/30]\u001b[0m\n",
      "\u001b[34m2020-09-17 22:10:49,955 INFO - tensorflow - Evaluation [18/30]\u001b[0m\n",
      "\u001b[34m2020-09-17 22:10:55,818 INFO - tensorflow - Evaluation [21/30]\u001b[0m\n",
      "\u001b[34m2020-09-17 22:11:01,681 INFO - tensorflow - Evaluation [24/30]\u001b[0m\n",
      "\u001b[34m2020-09-17 22:11:07,704 INFO - tensorflow - Evaluation [27/30]\u001b[0m\n",
      "\u001b[34m2020-09-17 22:11:13,592 INFO - tensorflow - Evaluation [30/30]\u001b[0m\n",
      "\u001b[34m2020-09-17 22:11:13,618 INFO - tensorflow - Finished evaluation at 2020-09-17-22:11:13\u001b[0m\n",
      "\u001b[34m2020-09-17 22:11:13,618 INFO - tensorflow - Saving dict for global step 39: accuracy = 0.734375, global_step = 39, loss = 0.5728266\u001b[0m\n",
      "\u001b[34m2020-09-17 22:11:21,408 INFO - tensorflow - Saving 'checkpoint_path' summary for global step 39: s3://sagemaker-us-east-2-526614695497/sagemaker-tensorflow-2020-09-17-22-00-36-844/checkpoints/model.ckpt-39\u001b[0m\n",
      "\u001b[34m2020-09-17 22:11:25,215 INFO - tensorflow - Calling model_fn.\u001b[0m\n",
      "\u001b[34m2020-09-17 22:11:25,362 INFO - tensorflow - Done calling model_fn.\u001b[0m\n",
      "\u001b[34m2020-09-17 22:11:25,362 INFO - tensorflow - Signatures INCLUDED in export for Eval: None\u001b[0m\n",
      "\u001b[34m2020-09-17 22:11:25,363 INFO - tensorflow - Signatures INCLUDED in export for Classify: None\u001b[0m\n",
      "\u001b[34m2020-09-17 22:11:25,363 INFO - tensorflow - Signatures INCLUDED in export for Regress: None\u001b[0m\n",
      "\u001b[34m2020-09-17 22:11:25,363 INFO - tensorflow - Signatures INCLUDED in export for Predict: ['serving_default']\u001b[0m\n",
      "\u001b[34m2020-09-17 22:11:25,363 INFO - tensorflow - Signatures INCLUDED in export for Train: None\u001b[0m\n",
      "\u001b[34m2020-09-17 22:11:25,469 INFO - tensorflow - Restoring parameters from s3://sagemaker-us-east-2-526614695497/sagemaker-tensorflow-2020-09-17-22-00-36-844/checkpoints/model.ckpt-39\u001b[0m\n",
      "\u001b[34m2020-09-17 22:11:26,028 WARNING - tensorflow - From /usr/local/lib/python2.7/dist-packages/tensorflow/python/estimator/estimator.py:1046: calling add_meta_graph_and_variables (from tensorflow.python.saved_model.builder_impl) with legacy_init_op is deprecated and will be removed in a future version.\u001b[0m\n",
      "\u001b[34mInstructions for updating:\u001b[0m\n",
      "\u001b[34mPass your op to the equivalent parameter main_op instead.\u001b[0m\n",
      "\u001b[34m2020-09-17 22:11:26,028 INFO - tensorflow - Assets added to graph.\u001b[0m\n",
      "\u001b[34m2020-09-17 22:11:26,028 INFO - tensorflow - No assets to write.\u001b[0m\n",
      "\u001b[34m2020-09-17 22:11:27,914 INFO - tensorflow - SavedModel written to: s3://sagemaker-us-east-2-526614695497/sagemaker-tensorflow-2020-09-17-22-00-36-844/checkpoints/export/Servo/1600380684/saved_model.pb\u001b[0m\n",
      "\u001b[34m2020-09-17 22:15:02,476 INFO - tensorflow - Saving checkpoints for 67 into s3://sagemaker-us-east-2-526614695497/sagemaker-tensorflow-2020-09-17-22-00-36-844/checkpoints/model.ckpt.\u001b[0m\n",
      "\u001b[34m2020-09-17 22:15:14,272 INFO - tensorflow - Skip the current checkpoint eval due to throttle secs (600 secs).\u001b[0m\n",
      "\u001b[34m2020-09-17 22:19:25,965 INFO - tensorflow - Saving checkpoints for 100 into s3://sagemaker-us-east-2-526614695497/sagemaker-tensorflow-2020-09-17-22-00-36-844/checkpoints/model.ckpt.\u001b[0m\n",
      "\u001b[34m2020-09-17 22:19:36,719 INFO - tensorflow - Skip the current checkpoint eval due to throttle secs (600 secs).\u001b[0m\n",
      "\u001b[34mFound 3798 images belonging to 2 classes.\u001b[0m\n",
      "\u001b[34m2020-09-17 22:19:37,351 INFO - tensorflow - Calling model_fn.\u001b[0m\n",
      "\u001b[34m2020-09-17 22:19:38,075 INFO - tensorflow - Done calling model_fn.\u001b[0m\n",
      "\u001b[34m2020-09-17 22:19:38,101 INFO - tensorflow - Starting evaluation at 2020-09-17-22:19:38\u001b[0m\n",
      "\u001b[34m2020-09-17 22:19:38,202 INFO - tensorflow - Graph was finalized.\u001b[0m\n",
      "\u001b[34m2020-09-17 22:19:38,272 INFO - tensorflow - Restoring parameters from s3://sagemaker-us-east-2-526614695497/sagemaker-tensorflow-2020-09-17-22-00-36-844/checkpoints/model.ckpt-100\u001b[0m\n",
      "\u001b[34m2020-09-17 22:19:38,733 INFO - tensorflow - Running local_init_op.\u001b[0m\n",
      "\u001b[34m2020-09-17 22:19:38,745 INFO - tensorflow - Done running local_init_op.\u001b[0m\n",
      "\u001b[34m2020-09-17 22:19:45,632 INFO - tensorflow - Evaluation [3/30]\u001b[0m\n",
      "\u001b[34m2020-09-17 22:19:51,487 INFO - tensorflow - Evaluation [6/30]\u001b[0m\n",
      "\u001b[34m2020-09-17 22:19:57,304 INFO - tensorflow - Evaluation [9/30]\u001b[0m\n",
      "\u001b[34m2020-09-17 22:20:03,177 INFO - tensorflow - Evaluation [12/30]\u001b[0m\n",
      "\u001b[34m2020-09-17 22:20:08,997 INFO - tensorflow - Evaluation [15/30]\u001b[0m\n",
      "\u001b[34m2020-09-17 22:20:14,819 INFO - tensorflow - Evaluation [18/30]\u001b[0m\n",
      "\u001b[34m2020-09-17 22:20:20,694 INFO - tensorflow - Evaluation [21/30]\u001b[0m\n",
      "\u001b[34m2020-09-17 22:20:26,665 INFO - tensorflow - Evaluation [24/30]\u001b[0m\n",
      "\u001b[34m2020-09-17 22:20:32,487 INFO - tensorflow - Evaluation [27/30]\u001b[0m\n",
      "\n",
      "2020-09-17 22:20:49 Uploading - Uploading generated training model\u001b[34m2020-09-17 22:20:38,294 INFO - tensorflow - Evaluation [30/30]\u001b[0m\n",
      "\u001b[34m2020-09-17 22:20:38,317 INFO - tensorflow - Finished evaluation at 2020-09-17-22:20:38\u001b[0m\n",
      "\u001b[34m2020-09-17 22:20:38,318 INFO - tensorflow - Saving dict for global step 100: accuracy = 0.625, global_step = 100, loss = 0.6522133\u001b[0m\n",
      "\u001b[34m2020-09-17 22:20:41,667 INFO - tensorflow - Saving 'checkpoint_path' summary for global step 100: s3://sagemaker-us-east-2-526614695497/sagemaker-tensorflow-2020-09-17-22-00-36-844/checkpoints/model.ckpt-100\u001b[0m\n",
      "\u001b[34m2020-09-17 22:20:44,979 INFO - tensorflow - Calling model_fn.\u001b[0m\n",
      "\u001b[34m2020-09-17 22:20:45,126 INFO - tensorflow - Done calling model_fn.\u001b[0m\n",
      "\u001b[34m2020-09-17 22:20:45,126 INFO - tensorflow - Signatures INCLUDED in export for Eval: None\u001b[0m\n",
      "\u001b[34m2020-09-17 22:20:45,126 INFO - tensorflow - Signatures INCLUDED in export for Classify: None\u001b[0m\n",
      "\u001b[34m2020-09-17 22:20:45,127 INFO - tensorflow - Signatures INCLUDED in export for Regress: None\u001b[0m\n",
      "\u001b[34m2020-09-17 22:20:45,127 INFO - tensorflow - Signatures INCLUDED in export for Predict: ['serving_default']\u001b[0m\n",
      "\u001b[34m2020-09-17 22:20:45,127 INFO - tensorflow - Signatures INCLUDED in export for Train: None\u001b[0m\n",
      "\u001b[34m2020-09-17 22:20:45,237 INFO - tensorflow - Restoring parameters from s3://sagemaker-us-east-2-526614695497/sagemaker-tensorflow-2020-09-17-22-00-36-844/checkpoints/model.ckpt-100\u001b[0m\n",
      "\u001b[34m2020-09-17 22:20:45,678 INFO - tensorflow - Assets added to graph.\u001b[0m\n",
      "\u001b[34m2020-09-17 22:20:45,678 INFO - tensorflow - No assets to write.\u001b[0m\n",
      "\u001b[34m2020-09-17 22:20:46,996 INFO - tensorflow - SavedModel written to: s3://sagemaker-us-east-2-526614695497/sagemaker-tensorflow-2020-09-17-22-00-36-844/checkpoints/export/Servo/1600381244/saved_model.pb\u001b[0m\n",
      "\u001b[34m2020-09-17 22:20:47,068 INFO - tensorflow - Loss for final step: 0.4416444.\u001b[0m\n",
      "\u001b[34m2020-09-17 22:20:47,496 INFO - tf_container - Downloaded saved model at /opt/ml/model/export/Servo/1600381244\u001b[0m\n",
      "\n",
      "2020-09-17 22:20:55 Completed - Training job completed\n",
      "Training seconds: 1095\n",
      "Billable seconds: 1095\n"
     ]
    }
   ],
   "source": [
    "print(\"Training ...\")\n",
    "estimator.fit({'training': train_input_path, 'eval': validation_input_path})"
   ]
  },
  {
   "cell_type": "code",
   "execution_count": null,
   "metadata": {},
   "outputs": [],
   "source": []
  }
 ],
 "metadata": {
  "kernelspec": {
   "display_name": "conda_tensorflow_p27",
   "language": "python",
   "name": "conda_tensorflow_p27"
  },
  "language_info": {
   "codemirror_mode": {
    "name": "ipython",
    "version": 2
   },
   "file_extension": ".py",
   "mimetype": "text/x-python",
   "name": "python",
   "nbconvert_exporter": "python",
   "pygments_lexer": "ipython2",
   "version": "2.7.17"
  }
 },
 "nbformat": 4,
 "nbformat_minor": 4
}
