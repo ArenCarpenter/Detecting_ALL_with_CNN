{
 "cells": [
  {
   "cell_type": "markdown",
   "metadata": {},
   "source": [
    "## Sagemaker"
   ]
  },
  {
   "cell_type": "code",
   "execution_count": 2,
   "metadata": {},
   "outputs": [],
   "source": [
    "# !pip install tensorflow"
   ]
  },
  {
   "cell_type": "code",
   "execution_count": 3,
   "metadata": {},
   "outputs": [],
   "source": [
    "# !pip install keras"
   ]
  },
  {
   "cell_type": "code",
   "execution_count": 1,
   "metadata": {},
   "outputs": [
    {
     "name": "stdout",
     "output_type": "stream",
     "text": [
      "WARNING:tensorflow:From /home/ec2-user/anaconda3/envs/tensorflow_p27/lib/python2.7/site-packages/tensorflow_core/__init__.py:1473: The name tf.estimator.inputs is deprecated. Please use tf.compat.v1.estimator.inputs instead.\n",
      "\n"
     ]
    },
    {
     "name": "stderr",
     "output_type": "stream",
     "text": [
      "Using TensorFlow backend.\n"
     ]
    }
   ],
   "source": [
    "import numpy as np\n",
    "import pandas as pd\n",
    "import matplotlib.pyplot as plt\n",
    "%matplotlib inline\n",
    "\n",
    "from PIL import Image\n",
    "import tensorflow\n",
    "import keras\n",
    "from tensorflow.keras.preprocessing import image\n",
    "from tensorflow.keras import models, layers, optimizers\n",
    "from keras.layers import Dropout\n",
    "\n",
    "import os\n",
    "import gc\n",
    "from timeit import default_timer as timer"
   ]
  },
  {
   "cell_type": "code",
   "execution_count": 2,
   "metadata": {},
   "outputs": [
    {
     "name": "stderr",
     "output_type": "stream",
     "text": [
      "No handlers could be found for logger \"sagemaker\"\n"
     ]
    }
   ],
   "source": [
    "import os\n",
    "import sagemaker\n",
    "import numpy as np\n",
    "from sagemaker.tensorflow import TensorFlow\n",
    "from tensorflow.python.keras.preprocessing.image import load_img"
   ]
  },
  {
   "cell_type": "code",
   "execution_count": 9,
   "metadata": {},
   "outputs": [],
   "source": [
    "sagemaker_session = sagemaker.Session()"
   ]
  },
  {
   "cell_type": "code",
   "execution_count": 10,
   "metadata": {},
   "outputs": [],
   "source": [
    "role = sagemaker.get_execution_role()"
   ]
  },
  {
   "cell_type": "code",
   "execution_count": 11,
   "metadata": {},
   "outputs": [],
   "source": [
    "bucket = \"sagemaker-all-cnn\"\n",
    "key = \"Data\"\n",
    "key_output = \"output\"                   # Path from the bucket's root to the dataset\n",
    "train_instance_type='ml.m4.xlarge'      # The type of EC2 instance which will be used for training\n",
    "deploy_instance_type='ml.m4.xlarge'     # The type of EC2 instance which will be used for deployment\n",
    "hyperparameters={\n",
    "    \"learning_rate\": 0.001,\n",
    "    \"decay\": 0.0001\n",
    "}"
   ]
  },
  {
   "cell_type": "code",
   "execution_count": 12,
   "metadata": {},
   "outputs": [],
   "source": [
    "train_input_path = \"s3://{}/{}/training/\".format(bucket, key)\n",
    "validation_input_path = \"s3://{}/{}/validation/\".format(bucket, key)"
   ]
  },
  {
   "cell_type": "code",
   "execution_count": 13,
   "metadata": {},
   "outputs": [],
   "source": [
    "estimator = TensorFlow(\n",
    "  entry_point=os.path.join(os.path.dirname('__file__'), \"Model_Scripts/Model_2x2x1x1C1D.py\"),             # Your entry script\n",
    "  role=role,\n",
    "  framework_version=\"1.12.0\",               # TensorFlow's version\n",
    "  hyperparameters=hyperparameters,\n",
    "  training_steps=150,\n",
    "  evaluation_steps=30,\n",
    "  train_instance_count=1,                   # \"The number of GPUs instances to use\"\n",
    "  train_instance_type=train_instance_type,\n",
    ")"
   ]
  },
  {
   "cell_type": "code",
   "execution_count": 14,
   "metadata": {},
   "outputs": [
    {
     "name": "stdout",
     "output_type": "stream",
     "text": [
      "Training ...\n",
      "2020-09-22 13:38:56 Starting - Starting the training job...\n",
      "2020-09-22 13:38:57 Starting - Launching requested ML instances......\n",
      "2020-09-22 13:40:04 Starting - Preparing the instances for training...\n",
      "2020-09-22 13:40:54 Downloading - Downloading input data......\n",
      "2020-09-22 13:41:56 Training - Downloading the training image...\n",
      "2020-09-22 13:42:17 Training - Training image download completed. Training in progress.\u001b[34m2020-09-22 13:42:17,628 INFO - root - running container entrypoint\u001b[0m\n",
      "\u001b[34m2020-09-22 13:42:17,629 INFO - root - starting train task\u001b[0m\n",
      "\u001b[34m2020-09-22 13:42:17,644 INFO - container_support.training - Training starting\u001b[0m\n",
      "\u001b[34mDownloading s3://sagemaker-us-east-2-526614695497/sagemaker-tensorflow-2020-09-22-13-38-55-373/source/sourcedir.tar.gz to /tmp/script.tar.gz\u001b[0m\n",
      "\u001b[34m2020-09-22 13:42:20,844 INFO - tf_container - ----------------------TF_CONFIG--------------------------\u001b[0m\n",
      "\u001b[34m2020-09-22 13:42:20,844 INFO - tf_container - {\"environment\": \"cloud\", \"cluster\": {\"master\": [\"algo-1:2222\"]}, \"task\": {\"index\": 0, \"type\": \"master\"}}\u001b[0m\n",
      "\u001b[34m2020-09-22 13:42:20,844 INFO - tf_container - ---------------------------------------------------------\u001b[0m\n",
      "\u001b[34m2020-09-22 13:42:20,844 INFO - tf_container - creating RunConfig:\u001b[0m\n",
      "\u001b[34m2020-09-22 13:42:20,844 INFO - tf_container - {'save_checkpoints_secs': 300}\u001b[0m\n",
      "\u001b[34m2020-09-22 13:42:20,844 INFO - tensorflow - TF_CONFIG environment variable: {u'environment': u'cloud', u'cluster': {u'master': [u'algo-1:2222']}, u'task': {u'index': 0, u'type': u'master'}}\u001b[0m\n",
      "\u001b[34m2020-09-22 13:42:20,845 INFO - tf_container - invoking the user-provided keras_model_fn\u001b[0m\n",
      "\u001b[34m2020-09-22 13:42:21,111 INFO - tensorflow - Using the Keras model provided.\u001b[0m\n",
      "\u001b[34m2020-09-22 13:42:24,120 INFO - tensorflow - Using config: {'_save_checkpoints_secs': 300, '_keep_checkpoint_max': 5, '_task_type': u'master', '_cluster_spec': <tensorflow.python.training.server_lib.ClusterSpec object at 0x7fdc3e9b5dd0>, '_keep_checkpoint_every_n_hours': 10000, '_service': None, '_num_ps_replicas': 0, '_tf_random_seed': None, '_device_fn': None, '_num_worker_replicas': 1, '_task_id': 0, '_log_step_count_steps': 100, '_evaluation_master': '', '_eval_distribute': None, '_train_distribute': None, '_session_config': device_filters: \"/job:ps\"\u001b[0m\n",
      "\u001b[34mdevice_filters: \"/job:master\"\u001b[0m\n",
      "\u001b[34mallow_soft_placement: true\u001b[0m\n",
      "\u001b[34mgraph_options {\n",
      "  rewrite_options {\n",
      "    meta_optimizer_iterations: ONE\n",
      "  }\u001b[0m\n",
      "\u001b[34m}\u001b[0m\n",
      "\u001b[34m, '_global_id_in_cluster': 0, '_is_chief': True, '_protocol': None, '_save_checkpoints_steps': None, '_experimental_distribute': None, '_save_summary_steps': 100, '_model_dir': u's3://sagemaker-us-east-2-526614695497/sagemaker-tensorflow-2020-09-22-13-38-55-373/checkpoints', '_master': ''}\u001b[0m\n",
      "\u001b[34m2020-09-22 13:42:24,145 INFO - tensorflow - Not using Distribute Coordinator.\u001b[0m\n",
      "\u001b[34m2020-09-22 13:42:24,145 INFO - tensorflow - Skip starting Tensorflow server as there is only one node in the cluster.\u001b[0m\n",
      "\u001b[34mFound 3798 images belonging to 2 classes.\u001b[0m\n",
      "\u001b[34m2020-09-22 13:42:24,863 INFO - tensorflow - Calling model_fn.\u001b[0m\n",
      "\u001b[34m2020-09-22 13:42:25,640 INFO - tensorflow - Done calling model_fn.\u001b[0m\n",
      "\u001b[34m2020-09-22 13:42:25,640 INFO - tensorflow - Warm-starting with WarmStartSettings: WarmStartSettings(ckpt_to_initialize_from=u's3://sagemaker-us-east-2-526614695497/sagemaker-tensorflow-2020-09-22-13-38-55-373/checkpoints/keras/keras_model.ckpt', vars_to_warm_start='.*', var_name_to_vocab_info={}, var_name_to_prev_var_name={})\u001b[0m\n",
      "\u001b[34m2020-09-22 13:42:25,640 INFO - tensorflow - Warm-starting from: (u's3://sagemaker-us-east-2-526614695497/sagemaker-tensorflow-2020-09-22-13-38-55-373/checkpoints/keras/keras_model.ckpt',)\u001b[0m\n",
      "\u001b[34m2020-09-22 13:42:25,640 INFO - tensorflow - Warm-starting variable: conv2d_2/kernel; prev_var_name: Unchanged\u001b[0m\n",
      "\u001b[34m2020-09-22 13:42:25,862 INFO - tensorflow - Warm-starting variable: dense_1/bias; prev_var_name: Unchanged\u001b[0m\n",
      "\u001b[34m2020-09-22 13:42:26,073 INFO - tensorflow - Warm-starting variable: conv2d_1/bias; prev_var_name: Unchanged\u001b[0m\n",
      "\u001b[34m2020-09-22 13:42:26,282 INFO - tensorflow - Warm-starting variable: dense/kernel; prev_var_name: Unchanged\u001b[0m\n",
      "\u001b[34m2020-09-22 13:42:26,463 INFO - tensorflow - Warm-starting variable: conv2d_3/bias; prev_var_name: Unchanged\u001b[0m\n",
      "\u001b[34m2020-09-22 13:42:26,651 INFO - tensorflow - Warm-starting variable: dense/bias; prev_var_name: Unchanged\u001b[0m\n",
      "\u001b[34m2020-09-22 13:42:26,856 INFO - tensorflow - Warm-starting variable: inputs/bias; prev_var_name: Unchanged\u001b[0m\n",
      "\u001b[34m2020-09-22 13:42:27,049 INFO - tensorflow - Warm-starting variable: conv2d_4/kernel; prev_var_name: Unchanged\u001b[0m\n",
      "\u001b[34m2020-09-22 13:42:27,223 INFO - tensorflow - Warm-starting variable: inputs/kernel; prev_var_name: Unchanged\u001b[0m\n",
      "\u001b[34m2020-09-22 13:42:27,403 INFO - tensorflow - Warm-starting variable: dense_1/kernel; prev_var_name: Unchanged\u001b[0m\n",
      "\u001b[34m2020-09-22 13:42:27,574 INFO - tensorflow - Warm-starting variable: conv2d_3/kernel; prev_var_name: Unchanged\u001b[0m\n",
      "\u001b[34m2020-09-22 13:42:27,792 INFO - tensorflow - Warm-starting variable: conv2d/bias; prev_var_name: Unchanged\u001b[0m\n",
      "\u001b[34m2020-09-22 13:42:27,970 INFO - tensorflow - Warm-starting variable: conv2d_1/kernel; prev_var_name: Unchanged\u001b[0m\n",
      "\u001b[34m2020-09-22 13:42:28,197 INFO - tensorflow - Warm-starting variable: conv2d_2/bias; prev_var_name: Unchanged\u001b[0m\n",
      "\u001b[34m2020-09-22 13:42:28,405 INFO - tensorflow - Warm-starting variable: conv2d_4/bias; prev_var_name: Unchanged\u001b[0m\n",
      "\u001b[34m2020-09-22 13:42:28,594 INFO - tensorflow - Warm-starting variable: conv2d/kernel; prev_var_name: Unchanged\u001b[0m\n",
      "\u001b[34m2020-09-22 13:42:28,807 INFO - tensorflow - Create CheckpointSaverHook.\u001b[0m\n",
      "\u001b[34m2020-09-22 13:42:29,858 INFO - tensorflow - Graph was finalized.\u001b[0m\n",
      "\u001b[34m2020-09-22 13:42:31,549 INFO - tensorflow - Running local_init_op.\u001b[0m\n",
      "\u001b[34m2020-09-22 13:42:31,559 INFO - tensorflow - Done running local_init_op.\u001b[0m\n",
      "\u001b[34m2020-09-22 13:42:36,022 INFO - tensorflow - Saving checkpoints for 0 into s3://sagemaker-us-east-2-526614695497/sagemaker-tensorflow-2020-09-22-13-38-55-373/checkpoints/model.ckpt.\u001b[0m\n",
      "\u001b[34m2020-09-22 13:42:48,730 INFO - tensorflow - loss = 0.69285095, step = 1\u001b[0m\n",
      "\u001b[34m2020-09-22 13:47:45,382 INFO - tensorflow - Saving checkpoints for 36 into s3://sagemaker-us-east-2-526614695497/sagemaker-tensorflow-2020-09-22-13-38-55-373/checkpoints/model.ckpt.\u001b[0m\n",
      "\u001b[34mFound 3798 images belonging to 2 classes.\u001b[0m\n",
      "\u001b[34m2020-09-22 13:47:49,918 INFO - tensorflow - Calling model_fn.\u001b[0m\n",
      "\u001b[34m2020-09-22 13:47:50,151 INFO - tensorflow - Done calling model_fn.\u001b[0m\n",
      "\u001b[34m2020-09-22 13:47:50,173 INFO - tensorflow - Starting evaluation at 2020-09-22-13:47:50\u001b[0m\n",
      "\u001b[34m2020-09-22 13:47:50,279 INFO - tensorflow - Graph was finalized.\u001b[0m\n",
      "\u001b[34m2020-09-22 13:47:50,891 INFO - tensorflow - Restoring parameters from s3://sagemaker-us-east-2-526614695497/sagemaker-tensorflow-2020-09-22-13-38-55-373/checkpoints/model.ckpt-36\u001b[0m\n",
      "\u001b[34m2020-09-22 13:47:51,492 INFO - tensorflow - Running local_init_op.\u001b[0m\n",
      "\u001b[34m2020-09-22 13:47:51,504 INFO - tensorflow - Done running local_init_op.\u001b[0m\n",
      "\u001b[34m2020-09-22 13:47:58,213 INFO - tensorflow - Evaluation [3/30]\u001b[0m\n",
      "\u001b[34m2020-09-22 13:48:04,577 INFO - tensorflow - Evaluation [6/30]\u001b[0m\n",
      "\u001b[34m2020-09-22 13:48:11,003 INFO - tensorflow - Evaluation [9/30]\u001b[0m\n",
      "\u001b[34m2020-09-22 13:48:17,328 INFO - tensorflow - Evaluation [12/30]\u001b[0m\n",
      "\u001b[34m2020-09-22 13:48:23,647 INFO - tensorflow - Evaluation [15/30]\u001b[0m\n",
      "\u001b[34m2020-09-22 13:48:30,036 INFO - tensorflow - Evaluation [18/30]\u001b[0m\n",
      "\u001b[34m2020-09-22 13:48:36,384 INFO - tensorflow - Evaluation [21/30]\u001b[0m\n",
      "\u001b[34m2020-09-22 13:48:42,818 INFO - tensorflow - Evaluation [24/30]\u001b[0m\n",
      "\u001b[34m2020-09-22 13:48:49,135 INFO - tensorflow - Evaluation [27/30]\u001b[0m\n",
      "\u001b[34m2020-09-22 13:48:55,466 INFO - tensorflow - Evaluation [30/30]\u001b[0m\n",
      "\u001b[34m2020-09-22 13:48:55,491 INFO - tensorflow - Finished evaluation at 2020-09-22-13:48:55\u001b[0m\n",
      "\u001b[34m2020-09-22 13:48:55,492 INFO - tensorflow - Saving dict for global step 36: accuracy = 0.59375, global_step = 36, loss = 2.6199012\u001b[0m\n",
      "\u001b[34m2020-09-22 13:48:57,028 INFO - tensorflow - Saving 'checkpoint_path' summary for global step 36: s3://sagemaker-us-east-2-526614695497/sagemaker-tensorflow-2020-09-22-13-38-55-373/checkpoints/model.ckpt-36\u001b[0m\n",
      "\u001b[34m2020-09-22 13:48:57,994 INFO - tensorflow - Calling model_fn.\u001b[0m\n",
      "\u001b[34m2020-09-22 13:48:58,240 INFO - tensorflow - Done calling model_fn.\u001b[0m\n",
      "\u001b[34m2020-09-22 13:48:58,240 INFO - tensorflow - Signatures INCLUDED in export for Eval: None\u001b[0m\n",
      "\u001b[34m2020-09-22 13:48:58,241 INFO - tensorflow - Signatures INCLUDED in export for Classify: None\u001b[0m\n",
      "\u001b[34m2020-09-22 13:48:58,241 INFO - tensorflow - Signatures INCLUDED in export for Regress: None\u001b[0m\n",
      "\u001b[34m2020-09-22 13:48:58,241 INFO - tensorflow - Signatures INCLUDED in export for Predict: ['serving_default']\u001b[0m\n",
      "\u001b[34m2020-09-22 13:48:58,241 INFO - tensorflow - Signatures INCLUDED in export for Train: None\u001b[0m\n",
      "\u001b[34m2020-09-22 13:48:58,374 INFO - tensorflow - Restoring parameters from s3://sagemaker-us-east-2-526614695497/sagemaker-tensorflow-2020-09-22-13-38-55-373/checkpoints/model.ckpt-36\u001b[0m\n",
      "\u001b[34m2020-09-22 13:48:59,085 WARNING - tensorflow - From /usr/local/lib/python2.7/dist-packages/tensorflow/python/estimator/estimator.py:1046: calling add_meta_graph_and_variables (from tensorflow.python.saved_model.builder_impl) with legacy_init_op is deprecated and will be removed in a future version.\u001b[0m\n",
      "\u001b[34mInstructions for updating:\u001b[0m\n",
      "\u001b[34mPass your op to the equivalent parameter main_op instead.\u001b[0m\n",
      "\u001b[34m2020-09-22 13:48:59,085 INFO - tensorflow - Assets added to graph.\u001b[0m\n",
      "\u001b[34m2020-09-22 13:48:59,085 INFO - tensorflow - No assets to write.\u001b[0m\n",
      "\u001b[34m2020-09-22 13:49:00,337 INFO - tensorflow - SavedModel written to: s3://sagemaker-us-east-2-526614695497/sagemaker-tensorflow-2020-09-22-13-38-55-373/checkpoints/export/Servo/1600782537/saved_model.pb\u001b[0m\n",
      "\u001b[34m2020-09-22 13:52:47,992 INFO - tensorflow - Saving checkpoints for 63 into s3://sagemaker-us-east-2-526614695497/sagemaker-tensorflow-2020-09-22-13-38-55-373/checkpoints/model.ckpt.\u001b[0m\n",
      "\u001b[34m2020-09-22 13:52:51,897 INFO - tensorflow - Skip the current checkpoint eval due to throttle secs (600 secs).\u001b[0m\n",
      "\u001b[34m2020-09-22 13:57:55,534 INFO - tensorflow - Saving checkpoints for 99 into s3://sagemaker-us-east-2-526614695497/sagemaker-tensorflow-2020-09-22-13-38-55-373/checkpoints/model.ckpt.\u001b[0m\n",
      "\u001b[34mFound 3798 images belonging to 2 classes.\u001b[0m\n",
      "\u001b[34m2020-09-22 13:58:00,012 INFO - tensorflow - Calling model_fn.\u001b[0m\n",
      "\u001b[34m2020-09-22 13:58:00,241 INFO - tensorflow - Done calling model_fn.\u001b[0m\n",
      "\u001b[34m2020-09-22 13:58:00,263 INFO - tensorflow - Starting evaluation at 2020-09-22-13:58:00\u001b[0m\n",
      "\u001b[34m2020-09-22 13:58:00,377 INFO - tensorflow - Graph was finalized.\u001b[0m\n",
      "\u001b[34m2020-09-22 13:58:00,448 INFO - tensorflow - Restoring parameters from s3://sagemaker-us-east-2-526614695497/sagemaker-tensorflow-2020-09-22-13-38-55-373/checkpoints/model.ckpt-99\u001b[0m\n",
      "\u001b[34m2020-09-22 13:58:00,999 INFO - tensorflow - Running local_init_op.\u001b[0m\n",
      "\u001b[34m2020-09-22 13:58:01,011 INFO - tensorflow - Done running local_init_op.\u001b[0m\n",
      "\u001b[34m2020-09-22 13:58:07,730 INFO - tensorflow - Evaluation [3/30]\u001b[0m\n",
      "\u001b[34m2020-09-22 13:58:14,095 INFO - tensorflow - Evaluation [6/30]\u001b[0m\n",
      "\u001b[34m2020-09-22 13:58:20,409 INFO - tensorflow - Evaluation [9/30]\u001b[0m\n",
      "\u001b[34m2020-09-22 13:58:26,734 INFO - tensorflow - Evaluation [12/30]\u001b[0m\n",
      "\u001b[34m2020-09-22 13:58:33,149 INFO - tensorflow - Evaluation [15/30]\u001b[0m\n",
      "\u001b[34m2020-09-22 13:58:39,498 INFO - tensorflow - Evaluation [18/30]\u001b[0m\n",
      "\u001b[34m2020-09-22 13:58:45,815 INFO - tensorflow - Evaluation [21/30]\u001b[0m\n",
      "\u001b[34m2020-09-22 13:58:52,125 INFO - tensorflow - Evaluation [24/30]\u001b[0m\n",
      "\u001b[34m2020-09-22 13:58:58,443 INFO - tensorflow - Evaluation [27/30]\u001b[0m\n",
      "\u001b[34m2020-09-22 13:59:04,971 INFO - tensorflow - Evaluation [30/30]\u001b[0m\n",
      "\u001b[34m2020-09-22 13:59:04,997 INFO - tensorflow - Finished evaluation at 2020-09-22-13:59:04\u001b[0m\n",
      "\u001b[34m2020-09-22 13:59:04,997 INFO - tensorflow - Saving dict for global step 99: accuracy = 0.84375, global_step = 99, loss = 2.236003\u001b[0m\n",
      "\u001b[34m2020-09-22 13:59:05,791 INFO - tensorflow - Saving 'checkpoint_path' summary for global step 99: s3://sagemaker-us-east-2-526614695497/sagemaker-tensorflow-2020-09-22-13-38-55-373/checkpoints/model.ckpt-99\u001b[0m\n",
      "\u001b[34m2020-09-22 13:59:06,687 INFO - tensorflow - Calling model_fn.\u001b[0m\n",
      "\u001b[34m2020-09-22 13:59:06,838 INFO - tensorflow - Done calling model_fn.\u001b[0m\n",
      "\u001b[34m2020-09-22 13:59:06,838 INFO - tensorflow - Signatures INCLUDED in export for Eval: None\u001b[0m\n",
      "\u001b[34m2020-09-22 13:59:06,838 INFO - tensorflow - Signatures INCLUDED in export for Classify: None\u001b[0m\n",
      "\u001b[34m2020-09-22 13:59:06,838 INFO - tensorflow - Signatures INCLUDED in export for Regress: None\u001b[0m\n",
      "\u001b[34m2020-09-22 13:59:06,838 INFO - tensorflow - Signatures INCLUDED in export for Predict: ['serving_default']\u001b[0m\n",
      "\u001b[34m2020-09-22 13:59:06,838 INFO - tensorflow - Signatures INCLUDED in export for Train: None\u001b[0m\n",
      "\u001b[34m2020-09-22 13:59:06,950 INFO - tensorflow - Restoring parameters from s3://sagemaker-us-east-2-526614695497/sagemaker-tensorflow-2020-09-22-13-38-55-373/checkpoints/model.ckpt-99\u001b[0m\n",
      "\u001b[34m2020-09-22 13:59:07,460 INFO - tensorflow - Assets added to graph.\u001b[0m\n",
      "\u001b[34m2020-09-22 13:59:07,460 INFO - tensorflow - No assets to write.\u001b[0m\n",
      "\u001b[34m2020-09-22 13:59:08,706 INFO - tensorflow - SavedModel written to: s3://sagemaker-us-east-2-526614695497/sagemaker-tensorflow-2020-09-22-13-38-55-373/checkpoints/export/Servo/1600783146/saved_model.pb\u001b[0m\n",
      "\u001b[34m2020-09-22 13:59:25,660 INFO - tensorflow - global_step/sec: 0.100308\u001b[0m\n",
      "\u001b[34m2020-09-22 13:59:25,661 INFO - tensorflow - loss = 1.2224254e-07, step = 101 (996.931 sec)\u001b[0m\n",
      "\u001b[34m2020-09-22 14:02:57,847 INFO - tensorflow - Saving checkpoints for 126 into s3://sagemaker-us-east-2-526614695497/sagemaker-tensorflow-2020-09-22-13-38-55-373/checkpoints/model.ckpt.\u001b[0m\n",
      "\u001b[34m2020-09-22 14:03:02,053 INFO - tensorflow - Skip the current checkpoint eval due to throttle secs (600 secs).\u001b[0m\n",
      "\u001b[34m2020-09-22 14:06:24,495 INFO - tensorflow - Saving checkpoints for 150 into s3://sagemaker-us-east-2-526614695497/sagemaker-tensorflow-2020-09-22-13-38-55-373/checkpoints/model.ckpt.\u001b[0m\n",
      "\u001b[34m2020-09-22 14:06:29,216 INFO - tensorflow - Skip the current checkpoint eval due to throttle secs (600 secs).\u001b[0m\n",
      "\u001b[34mFound 3798 images belonging to 2 classes.\u001b[0m\n",
      "\u001b[34m2020-09-22 14:06:29,663 INFO - tensorflow - Calling model_fn.\u001b[0m\n",
      "\u001b[34m2020-09-22 14:06:29,910 INFO - tensorflow - Done calling model_fn.\u001b[0m\n",
      "\u001b[34m2020-09-22 14:06:29,935 INFO - tensorflow - Starting evaluation at 2020-09-22-14:06:29\u001b[0m\n",
      "\u001b[34m2020-09-22 14:06:30,045 INFO - tensorflow - Graph was finalized.\u001b[0m\n",
      "\u001b[34m2020-09-22 14:06:30,119 INFO - tensorflow - Restoring parameters from s3://sagemaker-us-east-2-526614695497/sagemaker-tensorflow-2020-09-22-13-38-55-373/checkpoints/model.ckpt-150\u001b[0m\n",
      "\u001b[34m2020-09-22 14:06:30,692 INFO - tensorflow - Running local_init_op.\u001b[0m\n",
      "\u001b[34m2020-09-22 14:06:30,704 INFO - tensorflow - Done running local_init_op.\u001b[0m\n",
      "\u001b[34m2020-09-22 14:06:37,323 INFO - tensorflow - Evaluation [3/30]\u001b[0m\n",
      "\u001b[34m2020-09-22 14:06:43,719 INFO - tensorflow - Evaluation [6/30]\u001b[0m\n",
      "\u001b[34m2020-09-22 14:06:50,060 INFO - tensorflow - Evaluation [9/30]\u001b[0m\n",
      "\u001b[34m2020-09-22 14:06:56,338 INFO - tensorflow - Evaluation [12/30]\u001b[0m\n",
      "\u001b[34m2020-09-22 14:07:02,649 INFO - tensorflow - Evaluation [15/30]\u001b[0m\n",
      "\u001b[34m2020-09-22 14:07:09,069 INFO - tensorflow - Evaluation [18/30]\u001b[0m\n",
      "\u001b[34m2020-09-22 14:07:15,363 INFO - tensorflow - Evaluation [21/30]\u001b[0m\n",
      "\u001b[34m2020-09-22 14:07:21,612 INFO - tensorflow - Evaluation [24/30]\u001b[0m\n",
      "\u001b[34m2020-09-22 14:07:27,889 INFO - tensorflow - Evaluation [27/30]\u001b[0m\n",
      "\u001b[34m2020-09-22 14:07:34,154 INFO - tensorflow - Evaluation [30/30]\u001b[0m\n",
      "\u001b[34m2020-09-22 14:07:34,179 INFO - tensorflow - Finished evaluation at 2020-09-22-14:07:34\u001b[0m\n",
      "\u001b[34m2020-09-22 14:07:34,179 INFO - tensorflow - Saving dict for global step 150: accuracy = 0.84375, global_step = 150, loss = 1.3986485\u001b[0m\n",
      "\u001b[34m2020-09-22 14:07:35,076 INFO - tensorflow - Saving 'checkpoint_path' summary for global step 150: s3://sagemaker-us-east-2-526614695497/sagemaker-tensorflow-2020-09-22-13-38-55-373/checkpoints/model.ckpt-150\u001b[0m\n",
      "\u001b[34m2020-09-22 14:07:35,947 INFO - tensorflow - Calling model_fn.\u001b[0m\n",
      "\u001b[34m2020-09-22 14:07:36,214 INFO - tensorflow - Done calling model_fn.\u001b[0m\n",
      "\u001b[34m2020-09-22 14:07:36,215 INFO - tensorflow - Signatures INCLUDED in export for Eval: None\u001b[0m\n",
      "\u001b[34m2020-09-22 14:07:36,215 INFO - tensorflow - Signatures INCLUDED in export for Classify: None\u001b[0m\n",
      "\u001b[34m2020-09-22 14:07:36,215 INFO - tensorflow - Signatures INCLUDED in export for Regress: None\u001b[0m\n",
      "\u001b[34m2020-09-22 14:07:36,215 INFO - tensorflow - Signatures INCLUDED in export for Predict: ['serving_default']\u001b[0m\n",
      "\u001b[34m2020-09-22 14:07:36,215 INFO - tensorflow - Signatures INCLUDED in export for Train: None\u001b[0m\n",
      "\u001b[34m2020-09-22 14:07:36,357 INFO - tensorflow - Restoring parameters from s3://sagemaker-us-east-2-526614695497/sagemaker-tensorflow-2020-09-22-13-38-55-373/checkpoints/model.ckpt-150\u001b[0m\n",
      "\u001b[34m2020-09-22 14:07:36,888 INFO - tensorflow - Assets added to graph.\u001b[0m\n",
      "\u001b[34m2020-09-22 14:07:36,889 INFO - tensorflow - No assets to write.\u001b[0m\n",
      "\u001b[34m2020-09-22 14:07:38,370 INFO - tensorflow - SavedModel written to: s3://sagemaker-us-east-2-526614695497/sagemaker-tensorflow-2020-09-22-13-38-55-373/checkpoints/export/Servo/1600783655/saved_model.pb\u001b[0m\n",
      "\u001b[34m2020-09-22 14:07:38,452 INFO - tensorflow - Loss for final step: 1.12875654e-07.\u001b[0m\n",
      "\u001b[34m2020-09-22 14:07:38,926 INFO - tf_container - Downloaded saved model at /opt/ml/model/export/Servo/1600783655\u001b[0m\n",
      "\n",
      "2020-09-22 14:07:57 Uploading - Uploading generated training model\n",
      "2020-09-22 14:07:57 Completed - Training job completed\n",
      "Training seconds: 1623\n",
      "Billable seconds: 1623\n"
     ]
    }
   ],
   "source": [
    "print(\"Training ...\")\n",
    "estimator.fit({'training': train_input_path, 'eval': validation_input_path})"
   ]
  },
  {
   "cell_type": "code",
   "execution_count": null,
   "metadata": {},
   "outputs": [],
   "source": []
  }
 ],
 "metadata": {
  "kernelspec": {
   "display_name": "conda_tensorflow_p27",
   "language": "python",
   "name": "conda_tensorflow_p27"
  },
  "language_info": {
   "codemirror_mode": {
    "name": "ipython",
    "version": 2
   },
   "file_extension": ".py",
   "mimetype": "text/x-python",
   "name": "python",
   "nbconvert_exporter": "python",
   "pygments_lexer": "ipython2",
   "version": "2.7.17"
  }
 },
 "nbformat": 4,
 "nbformat_minor": 4
}
