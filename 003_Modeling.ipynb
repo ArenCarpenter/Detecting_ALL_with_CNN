{
 "cells": [
  {
   "cell_type": "markdown",
   "metadata": {},
   "source": [
    "# AWS Sagemaker Modeling Script"
   ]
  },
  {
   "cell_type": "markdown",
   "metadata": {},
   "source": [
    "> *I used this [post](https://blog.betomorrow.com/keras-in-the-cloud-with-amazon-sagemaker-67cf11fb536) from Paul Breton and the corresponding GitHub [repo](https://github.com/Pravez/KerasSageMaker) for guidance on utilizing Keras with Sagemaker.* "
   ]
  },
  {
   "cell_type": "markdown",
   "metadata": {},
   "source": [
    "## Libraries to Import"
   ]
  },
  {
   "cell_type": "code",
   "execution_count": 1,
   "metadata": {},
   "outputs": [
    {
     "name": "stdout",
     "output_type": "stream",
     "text": [
      "WARNING:tensorflow:From /home/ec2-user/anaconda3/envs/tensorflow_p27/lib/python2.7/site-packages/tensorflow_core/__init__.py:1473: The name tf.estimator.inputs is deprecated. Please use tf.compat.v1.estimator.inputs instead.\n",
      "\n"
     ]
    },
    {
     "name": "stderr",
     "output_type": "stream",
     "text": [
      "Using TensorFlow backend.\n",
      "No handlers could be found for logger \"sagemaker\"\n"
     ]
    }
   ],
   "source": [
    "from PIL import Image\n",
    "import tensorflow\n",
    "import keras\n",
    "from tensorflow.keras.preprocessing import image\n",
    "from tensorflow.keras import models, layers, optimizers\n",
    "from keras.layers import Dropout\n",
    "\n",
    "import os\n",
    "import gc\n",
    "\n",
    "import sagemaker\n",
    "from sagemaker.tensorflow import TensorFlow\n",
    "from tensorflow.python.keras.preprocessing.image import load_img\n",
    "\n",
    "import warnings\n",
    "warnings.filterwarnings('ignore')"
   ]
  },
  {
   "cell_type": "markdown",
   "metadata": {},
   "source": [
    "## Create Sagemaker Training Job"
   ]
  },
  {
   "cell_type": "markdown",
   "metadata": {},
   "source": [
    "Create Sagemaker session and role ARN."
   ]
  },
  {
   "cell_type": "code",
   "execution_count": 10,
   "metadata": {},
   "outputs": [],
   "source": [
    "sagemaker_session = sagemaker.Session()"
   ]
  },
  {
   "cell_type": "code",
   "execution_count": 11,
   "metadata": {},
   "outputs": [],
   "source": [
    "role = sagemaker.get_execution_role()"
   ]
  },
  {
   "cell_type": "markdown",
   "metadata": {},
   "source": [
    "Have to define our S3 bucket name and pathway to training and validation sets, and set some hyperparameters for the model to use when calling the Keras model. "
   ]
  },
  {
   "cell_type": "code",
   "execution_count": 12,
   "metadata": {},
   "outputs": [],
   "source": [
    "bucket = \"sagemaker-all-cnn\"\n",
    "key = \"Data\"\n",
    "key_output = \"output\"                   # Path from the bucket's root to the dataset\n",
    "train_instance_type='ml.m4.xlarge'      # The type of EC2 instance which will be used for training\n",
    "deploy_instance_type='ml.m4.xlarge'     # The type of EC2 instance which will be used for deployment\n",
    "hyperparameters={\n",
    "    \"learning_rate\": 0.001,\n",
    "    \"decay\": 0.0001\n",
    "}"
   ]
  },
  {
   "cell_type": "markdown",
   "metadata": {},
   "source": [
    "Specify locations for our data within the S3 bucket."
   ]
  },
  {
   "cell_type": "code",
   "execution_count": 13,
   "metadata": {},
   "outputs": [],
   "source": [
    "train_input_path = \"s3://{}/{}/training/\".format(bucket, key)\n",
    "validation_input_path = \"s3://{}/{}/validation/\".format(bucket, key)"
   ]
  },
  {
   "cell_type": "markdown",
   "metadata": {},
   "source": [
    "Create the actual training job. We specify additional hyperparameters, such as epochs and evaluation steps, in addition to loading the model architecture from a separate Python script (which can be found in the Model_Scripts directory in this repo) where we use the traditional Keras framework. "
   ]
  },
  {
   "cell_type": "code",
   "execution_count": 18,
   "metadata": {},
   "outputs": [],
   "source": [
    "estimator = TensorFlow(\n",
    "  entry_point=os.path.join(os.path.dirname('__file__'), \"Model_Scripts/Model_2C2D.py\"),\n",
    "  role=role,\n",
    "  framework_version=\"1.12.0\",               # TensorFlow's version\n",
    "  hyperparameters=hyperparameters,\n",
    "  training_steps=100,\n",
    "  evaluation_steps=30,\n",
    "  train_instance_count=1,                   # \"The number of GPUs instances to use\"\n",
    "  train_instance_type=train_instance_type,\n",
    ")"
   ]
  },
  {
   "cell_type": "markdown",
   "metadata": {},
   "source": [
    "Call the .fit() method to begin the training job. Progress is tracked here, but the actual computation is done on a separate Training Jobs instance in AWS with a ml.m4.xlarge instance (a hyperparameter we can alter if the respective resource quota is satisfied). "
   ]
  },
  {
   "cell_type": "markdown",
   "metadata": {},
   "source": [
    "Depending on the model architecture, training takes from 10 mins to 1 hour with 4000 images and 100-150 epochs. "
   ]
  },
  {
   "cell_type": "markdown",
   "metadata": {},
   "source": [
    "If running this, you should see prompts in the following structure displayed over about 3 minutes. Most errors will be thrown in the last \"Training in progress.\" step, so wait until that step is complete before navigating away.\n",
    "\n",
    "> \"Training ... \n",
    "\n",
    ">2020-09-22 16:09:18 Starting - Starting the training job...\n",
    "\n",
    ">2020-09-22 16:09:20 Starting - Launching requested ML instances......\n",
    "\n",
    ">2020-09-22 16:10:30 Starting - Preparing the instances for training...\n",
    "\n",
    ">2020-09-22 16:11:19 Downloading - Downloading input data.........\n",
    "\n",
    ">2020-09-22 16:12:40 Training - Training image download completed. Training in progress.\""
   ]
  },
  {
   "cell_type": "code",
   "execution_count": 19,
   "metadata": {},
   "outputs": [
    {
     "name": "stdout",
     "output_type": "stream",
     "text": [
      "Training ...\n",
      "2020-09-23 19:59:14 Starting - Starting the training job...\n",
      "2020-09-23 19:59:16 Starting - Launching requested ML instances......\n",
      "2020-09-23 20:00:22 Starting - Preparing the instances for training.........\n",
      "2020-09-23 20:01:56 Downloading - Downloading input data......\n",
      "2020-09-23 20:03:10 Training - Downloading the training image...\n",
      "2020-09-23 20:03:29 Training - Training image download completed. Training in progress.\u001b[34m2020-09-23 20:03:30,237 INFO - root - running container entrypoint\u001b[0m\n",
      "\u001b[34m2020-09-23 20:03:30,237 INFO - root - starting train task\u001b[0m\n",
      "\u001b[34m2020-09-23 20:03:30,253 INFO - container_support.training - Training starting\u001b[0m\n",
      "\u001b[34mDownloading s3://sagemaker-us-east-2-526614695497/sagemaker-tensorflow-2020-09-23-19-59-14-065/source/sourcedir.tar.gz to /tmp/script.tar.gz\u001b[0m\n",
      "\u001b[34m2020-09-23 20:03:34,762 INFO - tf_container - ----------------------TF_CONFIG--------------------------\u001b[0m\n",
      "\u001b[34m2020-09-23 20:03:34,762 INFO - tf_container - {\"environment\": \"cloud\", \"cluster\": {\"master\": [\"algo-1:2222\"]}, \"task\": {\"index\": 0, \"type\": \"master\"}}\u001b[0m\n",
      "\u001b[34m2020-09-23 20:03:34,762 INFO - tf_container - ---------------------------------------------------------\u001b[0m\n",
      "\u001b[34m2020-09-23 20:03:34,762 INFO - tf_container - creating RunConfig:\u001b[0m\n",
      "\u001b[34m2020-09-23 20:03:34,762 INFO - tf_container - {'save_checkpoints_secs': 300}\u001b[0m\n",
      "\u001b[34m2020-09-23 20:03:34,762 INFO - tensorflow - TF_CONFIG environment variable: {u'environment': u'cloud', u'cluster': {u'master': [u'algo-1:2222']}, u'task': {u'index': 0, u'type': u'master'}}\u001b[0m\n",
      "\u001b[34m2020-09-23 20:03:34,763 INFO - tf_container - invoking the user-provided keras_model_fn\u001b[0m\n",
      "\u001b[34m2020-09-23 20:03:34,991 INFO - tensorflow - Using the Keras model provided.\u001b[0m\n",
      "\u001b[34m2020-09-23 20:04:38,189 INFO - tensorflow - Using config: {'_save_checkpoints_secs': 300, '_keep_checkpoint_max': 5, '_task_type': u'master', '_cluster_spec': <tensorflow.python.training.server_lib.ClusterSpec object at 0x7f133ce5cfd0>, '_keep_checkpoint_every_n_hours': 10000, '_service': None, '_num_ps_replicas': 0, '_tf_random_seed': None, '_device_fn': None, '_num_worker_replicas': 1, '_task_id': 0, '_log_step_count_steps': 100, '_evaluation_master': '', '_eval_distribute': None, '_train_distribute': None, '_session_config': device_filters: \"/job:ps\"\u001b[0m\n",
      "\u001b[34mdevice_filters: \"/job:master\"\u001b[0m\n",
      "\u001b[34mallow_soft_placement: true\u001b[0m\n",
      "\u001b[34mgraph_options {\n",
      "  rewrite_options {\n",
      "    meta_optimizer_iterations: ONE\n",
      "  }\u001b[0m\n",
      "\u001b[34m}\u001b[0m\n",
      "\u001b[34m, '_global_id_in_cluster': 0, '_is_chief': True, '_protocol': None, '_save_checkpoints_steps': None, '_experimental_distribute': None, '_save_summary_steps': 100, '_model_dir': u's3://sagemaker-us-east-2-526614695497/sagemaker-tensorflow-2020-09-23-19-59-14-065/checkpoints', '_master': ''}\u001b[0m\n",
      "\u001b[34m2020-09-23 20:04:38,216 INFO - tensorflow - Not using Distribute Coordinator.\u001b[0m\n",
      "\u001b[34m2020-09-23 20:04:38,217 INFO - tensorflow - Skip starting Tensorflow server as there is only one node in the cluster.\u001b[0m\n",
      "\u001b[34mFound 3798 images belonging to 2 classes.\u001b[0m\n",
      "\u001b[34m2020-09-23 20:04:38,957 INFO - tensorflow - Calling model_fn.\u001b[0m\n",
      "\u001b[34m2020-09-23 20:04:39,464 INFO - tensorflow - Done calling model_fn.\u001b[0m\n",
      "\u001b[34m2020-09-23 20:04:39,465 INFO - tensorflow - Warm-starting with WarmStartSettings: WarmStartSettings(ckpt_to_initialize_from=u's3://sagemaker-us-east-2-526614695497/sagemaker-tensorflow-2020-09-23-19-59-14-065/checkpoints/keras/keras_model.ckpt', vars_to_warm_start='.*', var_name_to_vocab_info={}, var_name_to_prev_var_name={})\u001b[0m\n",
      "\u001b[34m2020-09-23 20:04:39,465 INFO - tensorflow - Warm-starting from: (u's3://sagemaker-us-east-2-526614695497/sagemaker-tensorflow-2020-09-23-19-59-14-065/checkpoints/keras/keras_model.ckpt',)\u001b[0m\n",
      "\u001b[34m2020-09-23 20:04:39,465 INFO - tensorflow - Warm-starting variable: dense_2/kernel; prev_var_name: Unchanged\u001b[0m\n",
      "\u001b[34m2020-09-23 20:04:39,633 INFO - tensorflow - Warm-starting variable: conv2d/kernel; prev_var_name: Unchanged\u001b[0m\n",
      "\u001b[34m2020-09-23 20:04:39,783 INFO - tensorflow - Warm-starting variable: dense/bias; prev_var_name: Unchanged\u001b[0m\n",
      "\u001b[34m2020-09-23 20:04:39,966 INFO - tensorflow - Warm-starting variable: inputs/bias; prev_var_name: Unchanged\u001b[0m\n",
      "\u001b[34m2020-09-23 20:04:40,118 INFO - tensorflow - Warm-starting variable: inputs/kernel; prev_var_name: Unchanged\u001b[0m\n",
      "\u001b[34m2020-09-23 20:04:40,267 INFO - tensorflow - Warm-starting variable: dense_1/kernel; prev_var_name: Unchanged\u001b[0m\n",
      "\u001b[34m2020-09-23 20:04:40,416 INFO - tensorflow - Warm-starting variable: dense_2/bias; prev_var_name: Unchanged\u001b[0m\n",
      "\u001b[34m2020-09-23 20:04:40,600 INFO - tensorflow - Warm-starting variable: conv2d/bias; prev_var_name: Unchanged\u001b[0m\n",
      "\u001b[34m2020-09-23 20:04:40,757 INFO - tensorflow - Warm-starting variable: dense_1/bias; prev_var_name: Unchanged\u001b[0m\n",
      "\u001b[34m2020-09-23 20:04:41,003 INFO - tensorflow - Warm-starting variable: dense/kernel; prev_var_name: Unchanged\u001b[0m\n",
      "\u001b[34m2020-09-23 20:04:41,190 INFO - tensorflow - Create CheckpointSaverHook.\u001b[0m\n",
      "\u001b[34m2020-09-23 20:04:42,176 INFO - tensorflow - Graph was finalized.\u001b[0m\n",
      "\u001b[34m2020-09-23 20:04:58,275 INFO - tensorflow - Running local_init_op.\u001b[0m\n",
      "\u001b[34m2020-09-23 20:04:58,284 INFO - tensorflow - Done running local_init_op.\u001b[0m\n",
      "\u001b[34m2020-09-23 20:05:04,083 INFO - tensorflow - Saving checkpoints for 0 into s3://sagemaker-us-east-2-526614695497/sagemaker-tensorflow-2020-09-23-19-59-14-065/checkpoints/model.ckpt.\u001b[0m\n",
      "\u001b[34m2020-09-23 20:06:56,020 INFO - tensorflow - loss = 0.6924068, step = 1\u001b[0m\n",
      "\u001b[34m2020-09-23 20:11:42,379 INFO - tensorflow - Saving checkpoints for 24 into s3://sagemaker-us-east-2-526614695497/sagemaker-tensorflow-2020-09-23-19-59-14-065/checkpoints/model.ckpt.\u001b[0m\n",
      "\u001b[34mFound 3798 images belonging to 2 classes.\u001b[0m\n",
      "\u001b[34m2020-09-23 20:13:28,759 INFO - tensorflow - Calling model_fn.\u001b[0m\n",
      "\u001b[34m2020-09-23 20:13:28,963 INFO - tensorflow - Done calling model_fn.\u001b[0m\n",
      "\u001b[34m2020-09-23 20:13:28,984 INFO - tensorflow - Starting evaluation at 2020-09-23-20:13:28\u001b[0m\n",
      "\u001b[34m2020-09-23 20:13:29,072 INFO - tensorflow - Graph was finalized.\u001b[0m\n",
      "\u001b[34m2020-09-23 20:13:29,133 INFO - tensorflow - Restoring parameters from s3://sagemaker-us-east-2-526614695497/sagemaker-tensorflow-2020-09-23-19-59-14-065/checkpoints/model.ckpt-24\u001b[0m\n",
      "\u001b[34m2020-09-23 20:13:41,629 INFO - tensorflow - Running local_init_op.\u001b[0m\n",
      "\u001b[34m2020-09-23 20:13:41,640 INFO - tensorflow - Done running local_init_op.\u001b[0m\n",
      "\u001b[34m2020-09-23 20:13:54,220 INFO - tensorflow - Evaluation [3/30]\u001b[0m\n",
      "\u001b[34m2020-09-23 20:14:06,537 INFO - tensorflow - Evaluation [6/30]\u001b[0m\n",
      "\u001b[34m2020-09-23 20:14:18,816 INFO - tensorflow - Evaluation [9/30]\u001b[0m\n",
      "\u001b[34m2020-09-23 20:14:31,176 INFO - tensorflow - Evaluation [12/30]\u001b[0m\n",
      "\u001b[34m2020-09-23 20:14:43,462 INFO - tensorflow - Evaluation [15/30]\u001b[0m\n",
      "\u001b[34m2020-09-23 20:14:55,771 INFO - tensorflow - Evaluation [18/30]\u001b[0m\n",
      "\u001b[34m2020-09-23 20:15:08,106 INFO - tensorflow - Evaluation [21/30]\u001b[0m\n",
      "\u001b[34m2020-09-23 20:15:20,403 INFO - tensorflow - Evaluation [24/30]\u001b[0m\n",
      "\u001b[34m2020-09-23 20:15:32,735 INFO - tensorflow - Evaluation [27/30]\u001b[0m\n",
      "\u001b[34m2020-09-23 20:15:45,030 INFO - tensorflow - Evaluation [30/30]\u001b[0m\n",
      "\u001b[34m2020-09-23 20:15:45,054 INFO - tensorflow - Finished evaluation at 2020-09-23-20:15:45\u001b[0m\n",
      "\u001b[34m2020-09-23 20:15:45,054 INFO - tensorflow - Saving dict for global step 24: accuracy = 0.46875, global_step = 24, loss = 8.516067\u001b[0m\n",
      "\u001b[34m2020-09-23 20:15:46,747 INFO - tensorflow - Saving 'checkpoint_path' summary for global step 24: s3://sagemaker-us-east-2-526614695497/sagemaker-tensorflow-2020-09-23-19-59-14-065/checkpoints/model.ckpt-24\u001b[0m\n",
      "\u001b[34m2020-09-23 20:15:47,797 INFO - tensorflow - Calling model_fn.\u001b[0m\n",
      "\u001b[34m2020-09-23 20:15:47,886 INFO - tensorflow - Done calling model_fn.\u001b[0m\n",
      "\u001b[34m2020-09-23 20:15:47,886 INFO - tensorflow - Signatures INCLUDED in export for Eval: None\u001b[0m\n",
      "\u001b[34m2020-09-23 20:15:47,886 INFO - tensorflow - Signatures INCLUDED in export for Classify: None\u001b[0m\n",
      "\u001b[34m2020-09-23 20:15:47,887 INFO - tensorflow - Signatures INCLUDED in export for Regress: None\u001b[0m\n",
      "\u001b[34m2020-09-23 20:15:47,887 INFO - tensorflow - Signatures INCLUDED in export for Predict: ['serving_default']\u001b[0m\n",
      "\u001b[34m2020-09-23 20:15:47,887 INFO - tensorflow - Signatures INCLUDED in export for Train: None\u001b[0m\n",
      "\u001b[34m2020-09-23 20:15:47,994 INFO - tensorflow - Restoring parameters from s3://sagemaker-us-east-2-526614695497/sagemaker-tensorflow-2020-09-23-19-59-14-065/checkpoints/model.ckpt-24\u001b[0m\n",
      "\u001b[34m2020-09-23 20:16:00,779 WARNING - tensorflow - From /usr/local/lib/python2.7/dist-packages/tensorflow/python/estimator/estimator.py:1046: calling add_meta_graph_and_variables (from tensorflow.python.saved_model.builder_impl) with legacy_init_op is deprecated and will be removed in a future version.\u001b[0m\n",
      "\u001b[34mInstructions for updating:\u001b[0m\n",
      "\u001b[34mPass your op to the equivalent parameter main_op instead.\u001b[0m\n",
      "\u001b[34m2020-09-23 20:16:00,779 INFO - tensorflow - Assets added to graph.\u001b[0m\n",
      "\u001b[34m2020-09-23 20:16:00,779 INFO - tensorflow - No assets to write.\u001b[0m\n",
      "\u001b[34m2020-09-23 20:16:27,408 INFO - tensorflow - SavedModel written to: s3://sagemaker-us-east-2-526614695497/sagemaker-tensorflow-2020-09-23-19-59-14-065/checkpoints/export/Servo/1600892147/saved_model.pb\u001b[0m\n",
      "\u001b[34m2020-09-23 20:16:52,132 INFO - tensorflow - Saving checkpoints for 26 into s3://sagemaker-us-east-2-526614695497/sagemaker-tensorflow-2020-09-23-19-59-14-065/checkpoints/model.ckpt.\u001b[0m\n",
      "\u001b[34m2020-09-23 20:18:37,920 INFO - tensorflow - Skip the current checkpoint eval due to throttle secs (600 secs).\u001b[0m\n",
      "\u001b[34m2020-09-23 20:21:54,767 INFO - tensorflow - Saving checkpoints for 42 into s3://sagemaker-us-east-2-526614695497/sagemaker-tensorflow-2020-09-23-19-59-14-065/checkpoints/model.ckpt.\u001b[0m\n",
      "\u001b[34mFound 3798 images belonging to 2 classes.\u001b[0m\n",
      "\u001b[34m2020-09-23 20:23:39,003 INFO - tensorflow - Calling model_fn.\u001b[0m\n",
      "\u001b[34m2020-09-23 20:23:39,207 INFO - tensorflow - Done calling model_fn.\u001b[0m\n",
      "\u001b[34m2020-09-23 20:23:39,228 INFO - tensorflow - Starting evaluation at 2020-09-23-20:23:39\u001b[0m\n",
      "\u001b[34m2020-09-23 20:23:39,319 INFO - tensorflow - Graph was finalized.\u001b[0m\n",
      "\u001b[34m2020-09-23 20:23:39,391 INFO - tensorflow - Restoring parameters from s3://sagemaker-us-east-2-526614695497/sagemaker-tensorflow-2020-09-23-19-59-14-065/checkpoints/model.ckpt-42\u001b[0m\n",
      "\u001b[34m2020-09-23 20:23:51,629 INFO - tensorflow - Running local_init_op.\u001b[0m\n",
      "\u001b[34m2020-09-23 20:23:51,640 INFO - tensorflow - Done running local_init_op.\u001b[0m\n",
      "\u001b[34m2020-09-23 20:24:00,077 INFO - tensorflow - Evaluation [3/30]\u001b[0m\n",
      "\u001b[34m2020-09-23 20:24:08,281 INFO - tensorflow - Evaluation [6/30]\u001b[0m\n",
      "\u001b[34m2020-09-23 20:24:16,598 INFO - tensorflow - Evaluation [9/30]\u001b[0m\n",
      "\u001b[34m2020-09-23 20:24:24,708 INFO - tensorflow - Evaluation [12/30]\u001b[0m\n",
      "\u001b[34m2020-09-23 20:24:32,876 INFO - tensorflow - Evaluation [15/30]\u001b[0m\n",
      "\u001b[34m2020-09-23 20:24:41,012 INFO - tensorflow - Evaluation [18/30]\u001b[0m\n",
      "\u001b[34m2020-09-23 20:24:49,191 INFO - tensorflow - Evaluation [21/30]\u001b[0m\n",
      "\u001b[34m2020-09-23 20:24:57,320 INFO - tensorflow - Evaluation [24/30]\u001b[0m\n",
      "\u001b[34m2020-09-23 20:25:05,619 INFO - tensorflow - Evaluation [27/30]\u001b[0m\n",
      "\u001b[34m2020-09-23 20:25:13,711 INFO - tensorflow - Evaluation [30/30]\u001b[0m\n",
      "\u001b[34m2020-09-23 20:25:13,733 INFO - tensorflow - Finished evaluation at 2020-09-23-20:25:13\u001b[0m\n",
      "\u001b[34m2020-09-23 20:25:13,734 INFO - tensorflow - Saving dict for global step 42: accuracy = 0.53125, global_step = 42, loss = 7.514175\u001b[0m\n",
      "\u001b[34m2020-09-23 20:25:14,517 INFO - tensorflow - Saving 'checkpoint_path' summary for global step 42: s3://sagemaker-us-east-2-526614695497/sagemaker-tensorflow-2020-09-23-19-59-14-065/checkpoints/model.ckpt-42\u001b[0m\n",
      "\u001b[34m2020-09-23 20:25:15,291 INFO - tensorflow - Calling model_fn.\u001b[0m\n",
      "\u001b[34m2020-09-23 20:25:15,379 INFO - tensorflow - Done calling model_fn.\u001b[0m\n",
      "\u001b[34m2020-09-23 20:25:15,380 INFO - tensorflow - Signatures INCLUDED in export for Eval: None\u001b[0m\n",
      "\u001b[34m2020-09-23 20:25:15,380 INFO - tensorflow - Signatures INCLUDED in export for Classify: None\u001b[0m\n",
      "\u001b[34m2020-09-23 20:25:15,380 INFO - tensorflow - Signatures INCLUDED in export for Regress: None\u001b[0m\n",
      "\u001b[34m2020-09-23 20:25:15,380 INFO - tensorflow - Signatures INCLUDED in export for Predict: ['serving_default']\u001b[0m\n",
      "\u001b[34m2020-09-23 20:25:15,380 INFO - tensorflow - Signatures INCLUDED in export for Train: None\u001b[0m\n",
      "\u001b[34m2020-09-23 20:25:15,478 INFO - tensorflow - Restoring parameters from s3://sagemaker-us-east-2-526614695497/sagemaker-tensorflow-2020-09-23-19-59-14-065/checkpoints/model.ckpt-42\u001b[0m\n",
      "\u001b[34m2020-09-23 20:25:27,745 INFO - tensorflow - Assets added to graph.\u001b[0m\n",
      "\u001b[34m2020-09-23 20:25:27,745 INFO - tensorflow - No assets to write.\u001b[0m\n",
      "\u001b[34m2020-09-23 20:25:55,096 INFO - tensorflow - SavedModel written to: s3://sagemaker-us-east-2-526614695497/sagemaker-tensorflow-2020-09-23-19-59-14-065/checkpoints/export/Servo/1600892715/saved_model.pb\u001b[0m\n",
      "\u001b[34m2020-09-23 20:26:55,583 INFO - tensorflow - Saving checkpoints for 47 into s3://sagemaker-us-east-2-526614695497/sagemaker-tensorflow-2020-09-23-19-59-14-065/checkpoints/model.ckpt.\u001b[0m\n",
      "\u001b[34m2020-09-23 20:28:38,771 INFO - tensorflow - Skip the current checkpoint eval due to throttle secs (600 secs).\u001b[0m\n",
      "\u001b[34m2020-09-23 20:32:06,663 INFO - tensorflow - Saving checkpoints for 64 into s3://sagemaker-us-east-2-526614695497/sagemaker-tensorflow-2020-09-23-19-59-14-065/checkpoints/model.ckpt.\u001b[0m\n",
      "\u001b[34mFound 3798 images belonging to 2 classes.\u001b[0m\n",
      "\u001b[34m2020-09-23 20:33:51,602 INFO - tensorflow - Calling model_fn.\u001b[0m\n",
      "\u001b[34m2020-09-23 20:33:51,911 INFO - tensorflow - Done calling model_fn.\u001b[0m\n",
      "\u001b[34m2020-09-23 20:33:51,933 INFO - tensorflow - Starting evaluation at 2020-09-23-20:33:51\u001b[0m\n",
      "\u001b[34m2020-09-23 20:33:52,022 INFO - tensorflow - Graph was finalized.\u001b[0m\n",
      "\u001b[34m2020-09-23 20:33:52,091 INFO - tensorflow - Restoring parameters from s3://sagemaker-us-east-2-526614695497/sagemaker-tensorflow-2020-09-23-19-59-14-065/checkpoints/model.ckpt-64\u001b[0m\n",
      "\u001b[34m2020-09-23 20:34:04,542 INFO - tensorflow - Running local_init_op.\u001b[0m\n",
      "\u001b[34m2020-09-23 20:34:04,553 INFO - tensorflow - Done running local_init_op.\u001b[0m\n",
      "\u001b[34m2020-09-23 20:34:17,141 INFO - tensorflow - Evaluation [3/30]\u001b[0m\n",
      "\u001b[34m2020-09-23 20:34:29,448 INFO - tensorflow - Evaluation [6/30]\u001b[0m\n",
      "\u001b[34m2020-09-23 20:34:41,747 INFO - tensorflow - Evaluation [9/30]\u001b[0m\n",
      "\u001b[34m2020-09-23 20:34:54,034 INFO - tensorflow - Evaluation [12/30]\u001b[0m\n",
      "\u001b[34m2020-09-23 20:35:06,357 INFO - tensorflow - Evaluation [15/30]\u001b[0m\n",
      "\u001b[34m2020-09-23 20:35:18,711 INFO - tensorflow - Evaluation [18/30]\u001b[0m\n",
      "\u001b[34m2020-09-23 20:35:31,003 INFO - tensorflow - Evaluation [21/30]\u001b[0m\n",
      "\u001b[34m2020-09-23 20:35:43,318 INFO - tensorflow - Evaluation [24/30]\u001b[0m\n",
      "\u001b[34m2020-09-23 20:35:55,611 INFO - tensorflow - Evaluation [27/30]\u001b[0m\n",
      "\u001b[34m2020-09-23 20:36:07,916 INFO - tensorflow - Evaluation [30/30]\u001b[0m\n",
      "\u001b[34m2020-09-23 20:36:07,940 INFO - tensorflow - Finished evaluation at 2020-09-23-20:36:07\u001b[0m\n",
      "\u001b[34m2020-09-23 20:36:07,940 INFO - tensorflow - Saving dict for global step 64: accuracy = 0.34375, global_step = 64, loss = 10.519839\u001b[0m\n",
      "\u001b[34m2020-09-23 20:36:08,706 INFO - tensorflow - Saving 'checkpoint_path' summary for global step 64: s3://sagemaker-us-east-2-526614695497/sagemaker-tensorflow-2020-09-23-19-59-14-065/checkpoints/model.ckpt-64\u001b[0m\n",
      "\u001b[34m2020-09-23 20:36:09,592 INFO - tensorflow - Calling model_fn.\u001b[0m\n",
      "\u001b[34m2020-09-23 20:36:09,680 INFO - tensorflow - Done calling model_fn.\u001b[0m\n",
      "\u001b[34m2020-09-23 20:36:09,681 INFO - tensorflow - Signatures INCLUDED in export for Eval: None\u001b[0m\n",
      "\u001b[34m2020-09-23 20:36:09,681 INFO - tensorflow - Signatures INCLUDED in export for Classify: None\u001b[0m\n",
      "\u001b[34m2020-09-23 20:36:09,681 INFO - tensorflow - Signatures INCLUDED in export for Regress: None\u001b[0m\n",
      "\u001b[34m2020-09-23 20:36:09,681 INFO - tensorflow - Signatures INCLUDED in export for Predict: ['serving_default']\u001b[0m\n",
      "\u001b[34m2020-09-23 20:36:09,681 INFO - tensorflow - Signatures INCLUDED in export for Train: None\u001b[0m\n",
      "\u001b[34m2020-09-23 20:36:09,795 INFO - tensorflow - Restoring parameters from s3://sagemaker-us-east-2-526614695497/sagemaker-tensorflow-2020-09-23-19-59-14-065/checkpoints/model.ckpt-64\u001b[0m\n",
      "\u001b[34m2020-09-23 20:36:24,675 INFO - tensorflow - Assets added to graph.\u001b[0m\n",
      "\u001b[34m2020-09-23 20:36:24,675 INFO - tensorflow - No assets to write.\u001b[0m\n",
      "\u001b[34m2020-09-23 20:36:53,368 INFO - tensorflow - SavedModel written to: s3://sagemaker-us-east-2-526614695497/sagemaker-tensorflow-2020-09-23-19-59-14-065/checkpoints/export/Servo/1600893369/saved_model.pb\u001b[0m\n",
      "\u001b[34m2020-09-23 20:37:19,751 INFO - tensorflow - Saving checkpoints for 66 into s3://sagemaker-us-east-2-526614695497/sagemaker-tensorflow-2020-09-23-19-59-14-065/checkpoints/model.ckpt.\u001b[0m\n",
      "\u001b[34m2020-09-23 20:39:06,189 INFO - tensorflow - Skip the current checkpoint eval due to throttle secs (600 secs).\u001b[0m\n",
      "\u001b[34m2020-09-23 20:42:23,923 INFO - tensorflow - Saving checkpoints for 82 into s3://sagemaker-us-east-2-526614695497/sagemaker-tensorflow-2020-09-23-19-59-14-065/checkpoints/model.ckpt.\u001b[0m\n",
      "\u001b[34mFound 3798 images belonging to 2 classes.\u001b[0m\n",
      "\u001b[34m2020-09-23 20:44:10,552 INFO - tensorflow - Calling model_fn.\u001b[0m\n",
      "\u001b[34m2020-09-23 20:44:10,726 INFO - tensorflow - Done calling model_fn.\u001b[0m\n",
      "\u001b[34m2020-09-23 20:44:10,747 INFO - tensorflow - Starting evaluation at 2020-09-23-20:44:10\u001b[0m\n",
      "\u001b[34m2020-09-23 20:44:10,837 INFO - tensorflow - Graph was finalized.\u001b[0m\n",
      "\u001b[34m2020-09-23 20:44:10,912 INFO - tensorflow - Restoring parameters from s3://sagemaker-us-east-2-526614695497/sagemaker-tensorflow-2020-09-23-19-59-14-065/checkpoints/model.ckpt-82\u001b[0m\n",
      "\u001b[34m2020-09-23 20:44:23,309 INFO - tensorflow - Running local_init_op.\u001b[0m\n",
      "\u001b[34m2020-09-23 20:44:23,320 INFO - tensorflow - Done running local_init_op.\u001b[0m\n",
      "\u001b[34m2020-09-23 20:44:31,737 INFO - tensorflow - Evaluation [3/30]\u001b[0m\n",
      "\u001b[34m2020-09-23 20:44:39,959 INFO - tensorflow - Evaluation [6/30]\u001b[0m\n",
      "\u001b[34m2020-09-23 20:44:48,114 INFO - tensorflow - Evaluation [9/30]\u001b[0m\n",
      "\u001b[34m2020-09-23 20:44:56,288 INFO - tensorflow - Evaluation [12/30]\u001b[0m\n",
      "\u001b[34m2020-09-23 20:45:04,427 INFO - tensorflow - Evaluation [15/30]\u001b[0m\n",
      "\u001b[34m2020-09-23 20:45:13,025 INFO - tensorflow - Evaluation [18/30]\u001b[0m\n",
      "\u001b[34m2020-09-23 20:45:21,234 INFO - tensorflow - Evaluation [21/30]\u001b[0m\n",
      "\u001b[34m2020-09-23 20:45:29,398 INFO - tensorflow - Evaluation [24/30]\u001b[0m\n",
      "\u001b[34m2020-09-23 20:45:37,486 INFO - tensorflow - Evaluation [27/30]\u001b[0m\n",
      "\u001b[34m2020-09-23 20:45:45,696 INFO - tensorflow - Evaluation [30/30]\u001b[0m\n",
      "\u001b[34m2020-09-23 20:45:45,719 INFO - tensorflow - Finished evaluation at 2020-09-23-20:45:45\u001b[0m\n",
      "\u001b[34m2020-09-23 20:45:45,719 INFO - tensorflow - Saving dict for global step 82: accuracy = 0.375, global_step = 82, loss = 10.018901\u001b[0m\n",
      "\u001b[34m2020-09-23 20:45:46,532 INFO - tensorflow - Saving 'checkpoint_path' summary for global step 82: s3://sagemaker-us-east-2-526614695497/sagemaker-tensorflow-2020-09-23-19-59-14-065/checkpoints/model.ckpt-82\u001b[0m\n",
      "\u001b[34m2020-09-23 20:45:47,452 INFO - tensorflow - Calling model_fn.\u001b[0m\n",
      "\u001b[34m2020-09-23 20:45:47,540 INFO - tensorflow - Done calling model_fn.\u001b[0m\n",
      "\u001b[34m2020-09-23 20:45:47,541 INFO - tensorflow - Signatures INCLUDED in export for Eval: None\u001b[0m\n",
      "\u001b[34m2020-09-23 20:45:47,541 INFO - tensorflow - Signatures INCLUDED in export for Classify: None\u001b[0m\n",
      "\u001b[34m2020-09-23 20:45:47,541 INFO - tensorflow - Signatures INCLUDED in export for Regress: None\u001b[0m\n",
      "\u001b[34m2020-09-23 20:45:47,541 INFO - tensorflow - Signatures INCLUDED in export for Predict: ['serving_default']\u001b[0m\n",
      "\u001b[34m2020-09-23 20:45:47,541 INFO - tensorflow - Signatures INCLUDED in export for Train: None\u001b[0m\n",
      "\u001b[34m2020-09-23 20:45:47,653 INFO - tensorflow - Restoring parameters from s3://sagemaker-us-east-2-526614695497/sagemaker-tensorflow-2020-09-23-19-59-14-065/checkpoints/model.ckpt-82\u001b[0m\n",
      "\u001b[34m2020-09-23 20:46:00,102 INFO - tensorflow - Assets added to graph.\u001b[0m\n",
      "\u001b[34m2020-09-23 20:46:00,102 INFO - tensorflow - No assets to write.\u001b[0m\n",
      "\u001b[34m2020-09-23 20:46:28,549 INFO - tensorflow - SavedModel written to: s3://sagemaker-us-east-2-526614695497/sagemaker-tensorflow-2020-09-23-19-59-14-065/checkpoints/export/Servo/1600893947/saved_model.pb\u001b[0m\n",
      "\u001b[34m2020-09-23 20:47:29,233 INFO - tensorflow - Saving checkpoints for 87 into s3://sagemaker-us-east-2-526614695497/sagemaker-tensorflow-2020-09-23-19-59-14-065/checkpoints/model.ckpt.\u001b[0m\n",
      "\u001b[34m2020-09-23 20:49:21,904 INFO - tensorflow - Skip the current checkpoint eval due to throttle secs (600 secs).\u001b[0m\n",
      "\u001b[34m2020-09-23 20:52:02,251 INFO - tensorflow - Saving checkpoints for 100 into s3://sagemaker-us-east-2-526614695497/sagemaker-tensorflow-2020-09-23-19-59-14-065/checkpoints/model.ckpt.\u001b[0m\n",
      "\u001b[34m2020-09-23 20:53:43,467 INFO - tensorflow - Skip the current checkpoint eval due to throttle secs (600 secs).\u001b[0m\n",
      "\u001b[34mFound 3798 images belonging to 2 classes.\u001b[0m\n",
      "\u001b[34m2020-09-23 20:53:43,898 INFO - tensorflow - Calling model_fn.\u001b[0m\n",
      "\u001b[34m2020-09-23 20:53:44,067 INFO - tensorflow - Done calling model_fn.\u001b[0m\n",
      "\u001b[34m2020-09-23 20:53:44,087 INFO - tensorflow - Starting evaluation at 2020-09-23-20:53:44\u001b[0m\n",
      "\u001b[34m2020-09-23 20:53:44,176 INFO - tensorflow - Graph was finalized.\u001b[0m\n",
      "\u001b[34m2020-09-23 20:53:44,258 INFO - tensorflow - Restoring parameters from s3://sagemaker-us-east-2-526614695497/sagemaker-tensorflow-2020-09-23-19-59-14-065/checkpoints/model.ckpt-100\u001b[0m\n",
      "\u001b[34m2020-09-23 20:53:56,636 INFO - tensorflow - Running local_init_op.\u001b[0m\n",
      "\u001b[34m2020-09-23 20:53:56,646 INFO - tensorflow - Done running local_init_op.\u001b[0m\n",
      "\u001b[34m2020-09-23 20:54:05,089 INFO - tensorflow - Evaluation [3/30]\u001b[0m\n",
      "\u001b[34m2020-09-23 20:54:13,222 INFO - tensorflow - Evaluation [6/30]\u001b[0m\n",
      "\u001b[34m2020-09-23 20:54:21,423 INFO - tensorflow - Evaluation [9/30]\u001b[0m\n",
      "\u001b[34m2020-09-23 20:54:29,525 INFO - tensorflow - Evaluation [12/30]\u001b[0m\n",
      "\u001b[34m2020-09-23 20:54:37,667 INFO - tensorflow - Evaluation [15/30]\u001b[0m\n",
      "\u001b[34m2020-09-23 20:54:45,826 INFO - tensorflow - Evaluation [18/30]\u001b[0m\n",
      "\u001b[34m2020-09-23 20:54:54,175 INFO - tensorflow - Evaluation [21/30]\u001b[0m\n",
      "\u001b[34m2020-09-23 20:55:02,320 INFO - tensorflow - Evaluation [24/30]\u001b[0m\n",
      "\u001b[34m2020-09-23 20:55:10,562 INFO - tensorflow - Evaluation [27/30]\u001b[0m\n",
      "\u001b[34m2020-09-23 20:55:18,661 INFO - tensorflow - Evaluation [30/30]\u001b[0m\n",
      "\u001b[34m2020-09-23 20:55:18,684 INFO - tensorflow - Finished evaluation at 2020-09-23-20:55:18\u001b[0m\n",
      "\u001b[34m2020-09-23 20:55:18,684 INFO - tensorflow - Saving dict for global step 100: accuracy = 0.46875, global_step = 100, loss = 8.516067\u001b[0m\n",
      "\u001b[34m2020-09-23 20:55:19,518 INFO - tensorflow - Saving 'checkpoint_path' summary for global step 100: s3://sagemaker-us-east-2-526614695497/sagemaker-tensorflow-2020-09-23-19-59-14-065/checkpoints/model.ckpt-100\u001b[0m\n",
      "\u001b[34m2020-09-23 20:55:20,332 INFO - tensorflow - Calling model_fn.\u001b[0m\n",
      "\u001b[34m2020-09-23 20:55:20,543 INFO - tensorflow - Done calling model_fn.\u001b[0m\n",
      "\u001b[34m2020-09-23 20:55:20,544 INFO - tensorflow - Signatures INCLUDED in export for Eval: None\u001b[0m\n",
      "\u001b[34m2020-09-23 20:55:20,544 INFO - tensorflow - Signatures INCLUDED in export for Classify: None\u001b[0m\n",
      "\u001b[34m2020-09-23 20:55:20,544 INFO - tensorflow - Signatures INCLUDED in export for Regress: None\u001b[0m\n",
      "\u001b[34m2020-09-23 20:55:20,544 INFO - tensorflow - Signatures INCLUDED in export for Predict: ['serving_default']\u001b[0m\n",
      "\u001b[34m2020-09-23 20:55:20,544 INFO - tensorflow - Signatures INCLUDED in export for Train: None\u001b[0m\n",
      "\u001b[34m2020-09-23 20:55:20,649 INFO - tensorflow - Restoring parameters from s3://sagemaker-us-east-2-526614695497/sagemaker-tensorflow-2020-09-23-19-59-14-065/checkpoints/model.ckpt-100\u001b[0m\n",
      "\u001b[34m2020-09-23 20:55:34,557 INFO - tensorflow - Assets added to graph.\u001b[0m\n",
      "\u001b[34m2020-09-23 20:55:34,557 INFO - tensorflow - No assets to write.\u001b[0m\n",
      "\u001b[34m2020-09-23 20:56:01,054 INFO - tensorflow - SavedModel written to: s3://sagemaker-us-east-2-526614695497/sagemaker-tensorflow-2020-09-23-19-59-14-065/checkpoints/export/Servo/1600894520/saved_model.pb\u001b[0m\n",
      "\u001b[34m2020-09-23 20:56:01,115 INFO - tensorflow - Loss for final step: 8.01512.\u001b[0m\n",
      "\n",
      "2020-09-23 20:56:16 Uploading - Uploading generated training model\u001b[34m2020-09-23 20:56:13,709 INFO - tf_container - Downloaded saved model at /opt/ml/model/export/Servo/1600894520\u001b[0m\n",
      "\n",
      "2020-09-23 20:58:44 Completed - Training job completed\n",
      "Training seconds: 3408\n",
      "Billable seconds: 3408\n"
     ]
    }
   ],
   "source": [
    "print(\"Training ...\")\n",
    "estimator.fit({'training': train_input_path, 'eval': validation_input_path})"
   ]
  },
  {
   "cell_type": "markdown",
   "metadata": {},
   "source": [
    "Model checkpoints and the final trained model will be uploaded to a new S3 bucket created by Sagemaker to store all models from this notebook instance. Billable seconds will also be calculated for the length of training and add to relevant totals in the AWS Billing dashboard."
   ]
  }
 ],
 "metadata": {
  "kernelspec": {
   "display_name": "conda_tensorflow_p27",
   "language": "python",
   "name": "conda_tensorflow_p27"
  },
  "language_info": {
   "codemirror_mode": {
    "name": "ipython",
    "version": 2
   },
   "file_extension": ".py",
   "mimetype": "text/x-python",
   "name": "python",
   "nbconvert_exporter": "python",
   "pygments_lexer": "ipython2",
   "version": "2.7.17"
  }
 },
 "nbformat": 4,
 "nbformat_minor": 4
}
